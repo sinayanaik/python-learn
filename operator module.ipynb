{
 "cells": [
  {
   "cell_type": "code",
   "execution_count": null,
   "metadata": {},
   "outputs": [],
   "source": [
    "import operator\n",
    "dir(operator)"
   ]
  },
  {
   "cell_type": "markdown",
   "metadata": {},
   "source": [
    "`methods of operator` | description | syntax\n",
    "--- | --- | ---\n",
    "`itemgetter` | get item from a list by index | `itemgetter(index)`\n",
    "`attrgetter` | get item from a class by attribute name | `attrgetter(attribute_name)`\n",
    "`methodcaller` | get item from a class by method name | `methodcaller(method_name)`\n",
    "`itemgetter` | get item from a dictionary by key | `itemgetter(key)`\n",
    "`attrgetter` | get item from a class by attribute name | `attrgetter(attribute_name)`\n",
    "`methodcaller` | get item from a class by method name | `methodcaller(method_name)`\n",
    "`itemgetter` | get item from a tuple by index | `itemgetter(index)`\n",
    "`attrgetter` | get item from a class by attribute name | `attrgetter(attribute_name)`\n",
    "`methodcaller` | get item from a class by method name | `methodcaller(method_name)`\n",
    "`itemgetter` | get item from a set by index | `itemgetter(index)`\n",
    "`attrgetter` | get item from a class by attribute name | `attrgetter(attribute_name)`\n",
    "`methodcaller` | get item from a class by method name | `methodcaller(method_name)`\n",
    "`itemgetter` | get item from a list by index | `itemgetter(index)`\n",
    "`attrgetter` | get item from a class by attribute name | `attrgetter(attribute_name)`\n",
    "`methodcaller` | get item from a class by method name | `methodcaller(method_name)`\n",
    "`itemgetter` | get item from a tuple by index | `itemgetter(index)`\n",
    "`attrgetter` | get item from a class by attribute name | `attrgetter(attribute_name)`\n",
    "`methodcaller` | get item from a class by method name | `methodcaller(method_name)`\n",
    "`itemgetter` | get item from a set by index | `itemgetter(index)`\n",
    "`attrgetter` | get item from a class by attribute name | `attrgetter(attribute_name)`\n",
    "\n",
    "\n"
   ]
  }
 ],
 "metadata": {
  "interpreter": {
   "hash": "e7370f93d1d0cde622a1f8e1c04877d8463912d04d973331ad4851f04de6915a"
  },
  "kernelspec": {
   "display_name": "Python 3.10.2 64-bit",
   "language": "python",
   "name": "python3"
  },
  "language_info": {
   "codemirror_mode": {
    "name": "ipython",
    "version": 3
   },
   "file_extension": ".py",
   "mimetype": "text/x-python",
   "name": "python",
   "nbconvert_exporter": "python",
   "pygments_lexer": "ipython3",
   "version": "3.10.2"
  },
  "orig_nbformat": 4
 },
 "nbformat": 4,
 "nbformat_minor": 2
}
