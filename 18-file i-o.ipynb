{
 "cells": [
  {
   "cell_type": "markdown",
   "metadata": {},
   "source": [
    "### file i/o\n",
    "\n",
    "- syntax : `open(filename, mode)`\n",
    "\n",
    "mode | description\n",
    "------|------------\n",
    "r | reading\n",
    "w | writing, create if not exist\n",
    "x | create new file, fail if already exists\n",
    "a | append, create if not exist without trancuting\n",
    "t | text mode (default)\n",
    "b | binary mode\n",
    "\\+ | read and write\n",
    "r+ | read and write\n",
    "w+ | read and write, create if not exist\n",
    "x+ | read and write, create if not exist, fail if already exists\n",
    "a+ | read and write, append, create if not exist without trancuting\n",
    "\n"
   ]
  },
  {
   "cell_type": "code",
   "execution_count": null,
   "metadata": {},
   "outputs": [],
   "source": [
    "# how to open a file in python\n",
    "\n",
    "f = open('test.txt', 'r')     # open file in read mode\n",
    "print(f.read())               # read the file\n",
    "f.close()                     # close the file\n",
    "\n",
    "# in the above code we have to manually close the file -> free the resources\n",
    "# if we don't close the file, the file will be open in the background\n",
    "\n",
    "with open('test.txt', 'r') as f:  # with statement automatically closes the file\n",
    "    print(f.read())\n"
   ]
  }
 ],
 "metadata": {
  "interpreter": {
   "hash": "e7370f93d1d0cde622a1f8e1c04877d8463912d04d973331ad4851f04de6915a"
  },
  "kernelspec": {
   "display_name": "Python 3.10.2 64-bit",
   "language": "python",
   "name": "python3"
  },
  "language_info": {
   "name": "python",
   "version": "3.10.2"
  },
  "orig_nbformat": 4
 },
 "nbformat": 4,
 "nbformat_minor": 2
}
