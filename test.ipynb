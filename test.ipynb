{
 "cells": [
  {
   "cell_type": "code",
   "execution_count": 1,
   "metadata": {},
   "outputs": [],
   "source": [
    "#print everything present in sys module\n",
    "import sys\n",
    "print(f\"sys.__doc__: {sys.__doc__}\\n\")\n",
    "print(f\"sys.__package__: {sys.__package__}\\n\")\n",
    "print(f\"sys.__name__: {sys.__name__}\\n\")\n",
    "print(f\"sys.__file__: {sys.__file__}\\n\")\n",
    "print(f\"sys.__spec__: {sys.__spec__}\\n\")\n",
    "print(f\"sys.__loader__: {sys.__loader__}\\n\")\n",
    "print(f\"sys.__builtins__: {sys.__builtins__}\\n\")\n",
    "print(f\"sys.__cached__: {sys.__cached__}\\n\")"
   ]
  }
 ],
 "metadata": {
  "interpreter": {
   "hash": "d2152fd7f0bbc62aa1baff8c990435d1e2c7175d001561303988032604c11a48"
  },
  "kernelspec": {
   "display_name": "Python 3.10.2 64-bit",
   "language": "python",
   "name": "python3"
  },
  "language_info": {
   "codemirror_mode": {
    "name": "ipython",
    "version": 3
   },
   "file_extension": ".py",
   "mimetype": "text/x-python",
   "name": "python",
   "nbconvert_exporter": "python",
   "pygments_lexer": "ipython3",
   "version": "3.10.2"
  },
  "orig_nbformat": 4
 },
 "nbformat": 4,
 "nbformat_minor": 2
}
