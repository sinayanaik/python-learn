{
 "cells": [
  {
   "cell_type": "markdown",
   "metadata": {},
   "source": [
    "- python created on 1991\n",
    "- multiple programming paradigms, including \n",
    "    - object-oriented:-\n",
    "        Object-oriented programming (OOP) is a computer programming model that organizes software design around data, or objects, rather than functions and logic. An object can be defined as a data field that has unique attributes and behavior. \n",
    "    - declarative programming :-\n",
    "        what the program should accomplish, not how to accomplish it.\n",
    "    - imperative :-\n",
    "            program describes steps that change the state of the computer. \n",
    "            explicitly tell how to accomplish a task.\n",
    "    - functional programming :-\n",
    "        Functional programming is a programming paradigm in which we try to bind everything in pure mathematical functions style. It is a declarative type of programming style. Its main focus is on “what to solve” in contrast to an imperative style where the main focus is “how to solve”. It uses expressions instead of statements. \n",
    "    - procedural styles:-\n",
    "        Procedural Programming involves writing down a list of instructions to tell the computer what it should do step-by-step to finish the task at hand.\n"
   ]
  },
  {
   "cell_type": "code",
   "execution_count": 3,
   "metadata": {},
   "outputs": [
    {
     "name": "stdout",
     "output_type": "stream",
     "text": [
      "Python 3.10.2\n"
     ]
    }
   ],
   "source": [
    "#notice the shebang ! before python,it is necessary to run the shell code inside notebook\n",
    "!python --version"
   ]
  },
  {
   "cell_type": "code",
   "execution_count": 9,
   "metadata": {},
   "outputs": [
    {
     "name": "stdout",
     "output_type": "stream",
     "text": [
      "3.10.2 (main, Jan 15 2022, 19:56:27) [GCC 11.1.0]\n"
     ]
    }
   ],
   "source": [
    "import sys\n",
    "print(sys.version)"
   ]
  },
  {
   "cell_type": "code",
   "execution_count": 8,
   "metadata": {},
   "outputs": [
    {
     "name": "stdout",
     "output_type": "stream",
     "text": [
      "sys.version_info(major=3, minor=10, micro=2, releaselevel='final', serial=0)\n",
      "3\n"
     ]
    }
   ],
   "source": [
    "import sys\n",
    "print(sys.version_info)\n",
    "\n",
    "\n",
    "import sys\n",
    "print(sys.version_info.major)"
   ]
  },
  {
   "cell_type": "code",
   "execution_count": 26,
   "metadata": {},
   "outputs": [
    {
     "name": "stdout",
     "output_type": "stream",
     "text": [
      "Hello, World\n"
     ]
    }
   ],
   "source": [
    "# run python as arbitrary command \n",
    "\n",
    "!python -c 'print(\"Hello, World\")'"
   ]
  },
  {
   "cell_type": "markdown",
   "metadata": {},
   "source": [
    "### 35 python keywords "
   ]
  },
  {
   "cell_type": "code",
   "execution_count": 1,
   "metadata": {},
   "outputs": [
    {
     "name": "stdout",
     "output_type": "stream",
     "text": [
      "35  :  ['False', 'None', 'True', 'and', 'as', 'assert', 'async', 'await', 'break', 'class', 'continue', 'def', 'del', 'elif', 'else', 'except', 'finally', 'for', 'from', 'global', 'if', 'import', 'in', 'is', 'lambda', 'nonlocal', 'not', 'or', 'pass', 'raise', 'return', 'try', 'while', 'with', 'yield']\n"
     ]
    }
   ],
   "source": [
    "import keyword\n",
    "print(len(keyword.kwlist) ,\" : \",keyword.kwlist)"
   ]
  },
  {
   "cell_type": "markdown",
   "metadata": {},
   "source": [
    "### python variables"
   ]
  },
  {
   "cell_type": "code",
   "execution_count": 4,
   "metadata": {},
   "outputs": [
    {
     "name": "stdout",
     "output_type": "stream",
     "text": [
      "10 is an integer\n",
      "9999999999999999999999999999999999 is an integer\n",
      "1.5 is a floating point\n",
      "Z is a string\n",
      "Hello World is a string\n",
      "True is a boolean\n",
      "None is an empty value or null data type\n"
     ]
    }
   ],
   "source": [
    "# python variables\n",
    "\n",
    "#integers\n",
    "a = 10\n",
    "print(f\"{a} is an integer\")\n",
    "\n",
    "#integer\n",
    "b = 9999999999999999999999999999999999\n",
    "print(f\"{b} is an integer\")\n",
    "\n",
    "#floating points\n",
    "c = 1.5\n",
    "print(f\"{c} is a floating point\")\n",
    "\n",
    "#String\n",
    "d = \"Z\"\n",
    "print(f\"{d} is a string\")\n",
    "\n",
    "#String\n",
    "e = \"Hello World\"\n",
    "print(f\"{e} is a string\")\n",
    "\n",
    "#Boolean\n",
    "f = True\n",
    "print(f\"{f} is a boolean\")\n",
    "\n",
    "#Empty value or null\n",
    "g = None\n",
    "print(f\"{g} is an empty value or null data type\")"
   ]
  },
  {
   "cell_type": "markdown",
   "metadata": {},
   "source": [
    "### Variable assignment\n",
    "\n",
    "### name reference\n",
    "```py\n",
    "a_name = an_object\n",
    " # \"a_name\" is now a name for the reference to the object \"an_object\"\n",
    "pi = 3.14\n",
    "```\n",
    "if we pick pi = 3.14, then pi is **a** name (not **the** name, since an object\n",
    "can have multiple names) for the object 3.14"
   ]
  },
  {
   "cell_type": "code",
   "execution_count": 1,
   "metadata": {},
   "outputs": [
    {
     "ename": "SyntaxError",
     "evalue": "cannot assign to literal here. Maybe you meant '==' instead of '='? (2313369770.py, line 8)",
     "output_type": "error",
     "traceback": [
      "\u001b[0;36m  Input \u001b[0;32mIn [1]\u001b[0;36m\u001b[0m\n\u001b[0;31m    0 = x  # SyntaxError: cannot assign to literal here\u001b[0m\n\u001b[0m    ^\u001b[0m\n\u001b[0;31mSyntaxError\u001b[0m\u001b[0;31m:\u001b[0m cannot assign to literal here. Maybe you meant '==' instead of '='?\n"
     ]
    }
   ],
   "source": [
    "# variable assignment\n",
    "# variable assignment works from left to right\n",
    "x= 0\n",
    "\n",
    "# literal means a value that is not a variable(constant) like 0 here\n",
    "# opposite of literal is variable\n",
    "#trying to reverse the assignment order \n",
    "0 = x  # SyntaxError: cannot assign to literal here"
   ]
  },
  {
   "cell_type": "code",
   "execution_count": 9,
   "metadata": {},
   "outputs": [
    {
     "name": "stdout",
     "output_type": "stream",
     "text": [
      "1 1 1\n"
     ]
    }
   ],
   "source": [
    "# assign single value to multiple variables\n",
    "x = y = z = 1\n",
    "print(x,y,z)"
   ]
  },
  {
   "cell_type": "code",
   "execution_count": 8,
   "metadata": {},
   "outputs": [
    {
     "name": "stdout",
     "output_type": "stream",
     "text": [
      "1 2 3\n"
     ]
    }
   ],
   "source": [
    "# assign multiple values simultaneously\n",
    "x, y, z = 1, 2, 3\n",
    "print(x, y, z)\n",
    "\n",
    "# but these will not work\n",
    "x = 1, 2, 3 # SyntaxError: invalid syntax\n",
    "x,y = 1, 2, 3 # SyntaxError: invalid syntax\n"
   ]
  },
  {
   "cell_type": "markdown",
   "metadata": {},
   "source": [
    "### variable naming rules\n",
    "1. Variables names must start with a letter or an underscore.\n",
    "2. Variables names can only contain letters, numbers, and underscores.\n",
    "3. Variables names are case-sensitive."
   ]
  },
  {
   "cell_type": "code",
   "execution_count": 7,
   "metadata": {},
   "outputs": [
    {
     "name": "stdout",
     "output_type": "stream",
     "text": [
      "<class 'float'>\n",
      "<class 'bool'>\n"
     ]
    }
   ],
   "source": [
    "## Using  type to check the type of the variable\n",
    "pi= 3.14\n",
    "print(type(pi))\n",
    "\n",
    "condition = True\n",
    "print(type(condition))"
   ]
  },
  {
   "cell_type": "markdown",
   "metadata": {},
   "source": [
    "### variables in python are dynamic\n"
   ]
  },
  {
   "cell_type": "code",
   "execution_count": 10,
   "metadata": {},
   "outputs": [
    {
     "name": "stdout",
     "output_type": "stream",
     "text": [
      "type(a) is <class 'str'>\n",
      "Hello\n",
      "type(a) is <class 'int'>\n",
      "100\n"
     ]
    }
   ],
   "source": [
    "a = \"Hello\"\n",
    "print(f\"type(a) is {type(a)}\")\n",
    "print(a)\n",
    "\n",
    "a = 100\n",
    "print(f\"type(a) is {type(a)}\")\n",
    "print(a)"
   ]
  },
  {
   "cell_type": "markdown",
   "metadata": {},
   "source": [
    "### block indentation\n",
    "Python uses the colon symbol (:) and indentation for showing where blocks of code begin and end\n",
    "\n",
    "In short: always use 4 spaces for indentation."
   ]
  },
  {
   "cell_type": "markdown",
   "metadata": {},
   "source": [
    "### Data types\n"
   ]
  },
  {
   "cell_type": "markdown",
   "metadata": {},
   "source": [
    "### boolean"
   ]
  },
  {
   "cell_type": "code",
   "execution_count": 13,
   "metadata": {},
   "outputs": [
    {
     "name": "stdout",
     "output_type": "stream",
     "text": [
      "a or b is True\n",
      "a and b is False\n",
      "not b is True\n",
      "issubclass(bool,int) is True\n",
      "isinstance(True,bool) is True\n"
     ]
    }
   ],
   "source": [
    "# If boolean values are used in arithmetic operations, their integer values (1 and 0 for True and False)\n",
    "a = True\n",
    "b = False\n",
    "\n",
    "print(f\"a or b is {a or b}\")\n",
    "print(f\"a and b is {a and b}\")\n",
    "print(f\"not b is {not b}\")\n",
    "\n",
    "print(f\"issubclass(bool,int) is {issubclass(bool,int)}\")\n",
    "print(f\"isinstance(True,bool) is {isinstance(True,bool)}\")"
   ]
  },
  {
   "cell_type": "markdown",
   "metadata": {},
   "source": [
    "### Numbers"
   ]
  },
  {
   "cell_type": "markdown",
   "metadata": {},
   "source": [
    "#### integers"
   ]
  },
  {
   "cell_type": "code",
   "execution_count": 14,
   "metadata": {},
   "outputs": [
    {
     "name": "stdout",
     "output_type": "stream",
     "text": [
      "type(a) is <class 'int'>\n",
      "-1\n"
     ]
    }
   ],
   "source": [
    "# int : integer\n",
    "# Integers in Python are of arbitrary sizes\n",
    "# Integers are represented in binary, octal, decimal and hexadecimal\n",
    "# Python supports two types of integers:\n",
    "# 1. Signed integers\n",
    "# 2. Unsigned integers\n",
    "\n",
    "a = -1\n",
    "print(f\"type(a) is {type(a)}\")\n",
    "print(a)\n"
   ]
  },
  {
   "cell_type": "markdown",
   "metadata": {},
   "source": [
    "#### floats"
   ]
  },
  {
   "cell_type": "code",
   "execution_count": 17,
   "metadata": {},
   "outputs": [
    {
     "name": "stdout",
     "output_type": "stream",
     "text": [
      "type(a) is <class 'float'>\n",
      "2.5\n",
      "type(b) is <class 'float'>\n",
      "2500.0\n",
      "type(c) is <class 'float'>\n",
      "100.0\n"
     ]
    }
   ],
   "source": [
    "# float : floating point\n",
    "# precision depends on the implementation and system architecture, for\n",
    "# CPython the float datatype corresponds to a C double\n",
    "\n",
    "a = 2.5\n",
    "print(f\"type(a) is {type(a)}\")\n",
    "print(a)\n",
    "\n",
    "b = 2.5e3\n",
    "print(f\"type(b) is {type(b)}\")\n",
    "print(b)\n",
    "\n",
    "c = 100.e0 #100.e0 == 100.0e0\n",
    "print(f\"type(c) is {type(c)}\")\n",
    "print(c)"
   ]
  },
  {
   "cell_type": "markdown",
   "metadata": {},
   "source": [
    "#### complex number\n"
   ]
  },
  {
   "cell_type": "code",
   "execution_count": 20,
   "metadata": {},
   "outputs": [
    {
     "name": "stdout",
     "output_type": "stream",
     "text": [
      "type(a) is <class 'complex'>\n",
      "(1+2j)\n",
      "1.0\n",
      "2.0\n"
     ]
    }
   ],
   "source": [
    "# complex : complex numbers\n",
    "# complex numbers are written in the form of a+bi, where a and b are real numbers and i is the imaginary unit\n",
    "\n",
    "a = 1+2j\n",
    "print(f\"type(a) is {type(a)}\")\n",
    "print(a)\n",
    "\n",
    "# write the imaginary and real part apart\n",
    "print(a.real)\n",
    "print(a.imag)"
   ]
  },
  {
   "cell_type": "markdown",
   "metadata": {},
   "source": [
    "#### Strings\n"
   ]
  },
  {
   "cell_type": "code",
   "execution_count": 22,
   "metadata": {},
   "outputs": [
    {
     "name": "stdout",
     "output_type": "stream",
     "text": [
      "type(name) is <class 'str'>\n",
      "Don\n",
      "type(unicode_string) is <class 'str'>\n",
      "type(byte_string) is <class 'bytes'>\n",
      "unicode_string is Hello\n",
      "byte_string is b'Hello'\n"
     ]
    }
   ],
   "source": [
    "# Strings : strings are immutable sequences of Unicode characters\n",
    "name =  \"Don\"\n",
    "print(f\"type(name) is {type(name)}\")\n",
    "print(name)\n",
    "\n",
    "# difference between unicode string and byte string\n",
    "# unicode string is a sequence of Unicode characters\n",
    "# byte string is a sequence of bytes\n",
    "unicode_string = \"Hello\"\n",
    "byte_string = b\"Hello\"\n",
    "print(f\"type(unicode_string) is {type(unicode_string)}\")\n",
    "print(f\"type(byte_string) is {type(byte_string)}\")\n",
    "\n",
    "print(f\"unicode_string is {unicode_string}\")\n",
    "print(f\"byte_string is {byte_string}\")"
   ]
  },
  {
   "cell_type": "markdown",
   "metadata": {},
   "source": [
    "### mutable and immutable\n",
    "\n",
    "#### mutable data \n",
    "- types are those whose values can be changed\n",
    "\n",
    "int, \n",
    "\n",
    "long, \n",
    "\n",
    "float, \n",
    "\n",
    "complex,\n",
    "\n",
    "str\n",
    "\n",
    "bytes\n",
    "\n",
    "tuple\n",
    "\n",
    "frozenset\n",
    "\n",
    "#### immutable data \n",
    "- types are those whose values cannot be changed\n",
    "\n",
    "bytearray\n",
    "\n",
    "list\n",
    "\n",
    "set\n",
    "\n",
    "dict"
   ]
  },
  {
   "cell_type": "markdown",
   "metadata": {},
   "source": [
    "### Collection types\n",
    "While types such as int and str hold a single value, collection\n",
    "types hold multiple values."
   ]
  },
  {
   "cell_type": "code",
   "execution_count": null,
   "metadata": {},
   "outputs": [],
   "source": [
    "# list : []\n",
    "# dictionary : {}\n",
    "# tuple : ()\n",
    "# set : {}\n",
    "# frozenset : {} "
   ]
  },
  {
   "cell_type": "markdown",
   "metadata": {},
   "source": [
    "#### list"
   ]
  },
  {
   "cell_type": "code",
   "execution_count": 23,
   "metadata": {},
   "outputs": [
    {
     "name": "stdout",
     "output_type": "stream",
     "text": [
      "empty_list is []\n",
      "mixed_list is [1, 2, 3, 'don', 2.3, True]\n",
      "multidimentional_list is [[1, 2, 3], [4, 5, 6], [7, 8, 9]]\n"
     ]
    }
   ],
   "source": [
    "# list : list is a mutable sequence of objects\n",
    "# list ≅ array in other languages\n",
    "# lists are zero-indexed\n",
    "\n",
    "empty_list = []\n",
    "mixed_list = [1,2,3,'don',2.3,True]\n",
    "multidimentional_list = [[1,2,3],[4,5,6],[7,8,9]]\n",
    "\n",
    "print(f\"empty_list is {empty_list}\")\n",
    "print(f\"mixed_list is {mixed_list}\")\n",
    "print(f\"multidimentional_list is {multidimentional_list}\")"
   ]
  },
  {
   "cell_type": "markdown",
   "metadata": {},
   "source": [
    "##### list indexing\n",
    "- +ve index = counting from start\n",
    "- -ve index = counting from end"
   ]
  },
  {
   "cell_type": "markdown",
   "metadata": {},
   "source": [
    "##### list operations\n",
    "\n"
   ]
  },
  {
   "cell_type": "code",
   "execution_count": 24,
   "metadata": {},
   "outputs": [
    {
     "name": "stdout",
     "output_type": "stream",
     "text": [
      "[1, 2, 3]\n",
      "[4, 2, 3]\n",
      "[4, 2, 3, 5]\n",
      "[100, 4, 2, 3, 5]\n",
      "[4, 2, 3, 5]\n",
      "0\n",
      "4\n",
      "1\n",
      "[5, 3, 2, 4]\n",
      "5\n",
      "[3, 2, 4]\n"
     ]
    }
   ],
   "source": [
    "#change the valuse of the list\n",
    "list_example = [1,2,3]\n",
    "print(list_example)                                                                     # [1, 2, 3]\n",
    "list_example[0] = 4\n",
    "print(list_example)                                                                     # [4, 2, 3]\n",
    "\n",
    "# append element : adding element to the end of the list\n",
    "list_example.append(5)\n",
    "print(list_example)                                                                     # [4, 2, 3, 5]\n",
    "\n",
    "# insert element : adding element to the list at a particular index\n",
    "list_example.insert(0,100)\n",
    "print(list_example)                                                                    # [100, 4, 2, 3, 5]\n",
    "\n",
    "# remove element : removing element from the list, returns none\n",
    "list_example.remove(100)\n",
    "print(list_example)                                                                    # [4, 2, 3, 5]\n",
    "\n",
    "# index of element : returns the index of the first element with the specified value\n",
    "print(list_example.index(4))                                                           # 0\n",
    "\n",
    "# len : returns the length of the list\n",
    "print(len(list_example))                                                               # 4\n",
    "\n",
    "# count : returns the number of times the specified value occurs in the list\n",
    "print(list_examplen = 10\n",
    "if n == 0:\n",
    "    factorial = 1\n",
    "else:\n",
    "    fac n * factorial(n-1).count(4))                                                           # 1\n",
    "\n",
    "# reverse : reverses the order of the list\n",
    "list_example.reverse()\n",
    "print(list_example)                                                                    # [5, 3, 2, 4]\n",
    "\n",
    "# pop : removes the element at the given position in the list and returns it\n",
    "print(list_example.pop(0))                                                             # 5\n",
    "print(list_example)                                                                    # [3, 2, 4]\n",
    "\n"
   ]
  },
  {
   "cell_type": "code",
   "execution_count": 25,
   "metadata": {},
   "outputs": [
    {
     "name": "stdout",
     "output_type": "stream",
     "text": [
      "type(list_example) is <class 'list'>\n",
      "[]\n",
      "[1, 2, 3]\n"
     ]
    }
   ],
   "source": [
    "# using constructor\n",
    "list_example = list()\n",
    "\n",
    "print(f\"type(list_example) is {type(list_example)}\")\n",
    "print(list_example)\n",
    "\n",
    "list_x = list([1,2,3])\n",
    "print(list_x)"
   ]
  },
  {
   "cell_type": "markdown",
   "metadata": {},
   "source": [
    "### tuple\n",
    "\n",
    "similar to a list except that it is fixed-length and immutable"
   ]
  },
  {
   "cell_type": "code",
   "execution_count": null,
   "metadata": {},
   "outputs": [],
   "source": [
    "ip_address = ('10.20.30.40', 8080)\n",
    "\n",
    "one_member_tuple = 'Only member',         # No brackets\n",
    "one_member_tuple = tuple(['Only member'])"
   ]
  },
  {
   "cell_type": "code",
   "execution_count": 1,
   "metadata": {},
   "outputs": [
    {
     "name": "stdout",
     "output_type": "stream",
     "text": [
      "(1,) is <class 'tuple'>\n",
      "1 is <class 'int'>\n"
     ]
    }
   ],
   "source": [
    "a = 1    # a is an integer\n",
    "a = 1,   # a is a tuple\n",
    "\n",
    "b = (1,) # b is a tuple\n",
    "print(f\"{b} is {type(b)}\")\n",
    "b = (1)  # b is an integer\n",
    "print(f\"{b} is {type(b)}\")"
   ]
  },
  {
   "cell_type": "markdown",
   "metadata": {},
   "source": [
    "### dictionary\n",
    " - collection of key-value pairs\n",
    " - surrounded by curly braces. "
   ]
  },
  {
   "cell_type": "code",
   "execution_count": 28,
   "metadata": {},
   "outputs": [
    {
     "name": "stdout",
     "output_type": "stream",
     "text": [
      "{'Maharashtra': 'Mumbai', 'Gujarat': 'Gandhinagar', 'Rajasthan': 'Jaipur', 'Madhya Pradesh': 'Bhopal'}\n",
      "Maharashtra is Mumbai\n",
      "Gujarat is Gandhinagar\n",
      "Rajasthan is Jaipur\n",
      "Madhya Pradesh is Bhopal\n",
      "Maharashtra\n",
      "Gujarat\n",
      "Rajasthan\n",
      "Madhya Pradesh\n",
      "Mumbai\n",
      "Gandhinagar\n",
      "Jaipur\n",
      "Bhopal\n"
     ]
    }
   ],
   "source": [
    "# creeate a dictionary with indias states and its capitals\n",
    "india_states_capital = {\n",
    "    'Maharashtra': 'Mumbai',\n",
    "    'Gujarat': 'Gandhinagar',\n",
    "    'Rajasthan': 'Jaipur',\n",
    "    'Madhya Pradesh': 'Bhopal',\n",
    "}\n",
    "\n",
    "print(india_states_capital)\n",
    "\n",
    "# using .items() method\n",
    "for key, value in india_states_capital.items():\n",
    "    print(f\"{key} is {value}\")\n",
    "\n",
    "# using .keys() method\n",
    "for key in india_states_capital.keys():\n",
    "    print(key)\n",
    "\n",
    "# using .values() method\n",
    "for value in india_states_capital.values():\n",
    "    print(value)\n",
    "\n"
   ]
  },
  {
   "cell_type": "markdown",
   "metadata": {},
   "source": [
    "### set\n",
    "- collection of elements with no repeats and without insertion order but sorted order"
   ]
  },
  {
   "cell_type": "code",
   "execution_count": 29,
   "metadata": {},
   "outputs": [
    {
     "name": "stdout",
     "output_type": "stream",
     "text": [
      "[3, 1, 8, 5, 7, 2, 4, 6]\n",
      "{1, 2, 3, 4, 5, 6, 7, 8}\n"
     ]
    }
   ],
   "source": [
    "# make set from a list\n",
    "my_list = [3,1,8,5,7,2,4,6]\n",
    "my_set = set(my_list)\n",
    "print(my_list)\n",
    "print(my_set)"
   ]
  },
  {
   "cell_type": "markdown",
   "metadata": {},
   "source": [
    "### defaultdict\n",
    "\n",
    "- defaultdict is a dictionary with a default value for keys, \n",
    "- so that keys for which no value has been explicitly defined can be accessed without errors."
   ]
  },
  {
   "cell_type": "code",
   "execution_count": 31,
   "metadata": {},
   "outputs": [
    {
     "ename": "KeyError",
     "evalue": "'Delhi'",
     "output_type": "error",
     "traceback": [
      "\u001b[0;31m---------------------------------------------------------------------------\u001b[0m",
      "\u001b[0;31mKeyError\u001b[0m                                  Traceback (most recent call last)",
      "\u001b[1;32m/home/san/Public/project LTS/python-learn/1-getting started.ipynb Cell 47'\u001b[0m in \u001b[0;36m<cell line: 9>\u001b[0;34m()\u001b[0m\n\u001b[1;32m      <a href='vscode-notebook-cell:/home/san/Public/project%20LTS/python-learn/1-getting%20started.ipynb#ch0000051?line=0'>1</a>\u001b[0m \u001b[39m# difference between defaultdict and dict\u001b[39;00m\n\u001b[1;32m      <a href='vscode-notebook-cell:/home/san/Public/project%20LTS/python-learn/1-getting%20started.ipynb#ch0000051?line=2'>3</a>\u001b[0m india_states_capital \u001b[39m=\u001b[39m {\n\u001b[1;32m      <a href='vscode-notebook-cell:/home/san/Public/project%20LTS/python-learn/1-getting%20started.ipynb#ch0000051?line=3'>4</a>\u001b[0m     \u001b[39m'\u001b[39m\u001b[39mMaharashtra\u001b[39m\u001b[39m'\u001b[39m: \u001b[39m'\u001b[39m\u001b[39mMumbai\u001b[39m\u001b[39m'\u001b[39m,\n\u001b[1;32m      <a href='vscode-notebook-cell:/home/san/Public/project%20LTS/python-learn/1-getting%20started.ipynb#ch0000051?line=4'>5</a>\u001b[0m     \u001b[39m'\u001b[39m\u001b[39mGujarat\u001b[39m\u001b[39m'\u001b[39m: \u001b[39m'\u001b[39m\u001b[39mGandhinagar\u001b[39m\u001b[39m'\u001b[39m,\n\u001b[1;32m      <a href='vscode-notebook-cell:/home/san/Public/project%20LTS/python-learn/1-getting%20started.ipynb#ch0000051?line=5'>6</a>\u001b[0m     \u001b[39m'\u001b[39m\u001b[39mRajasthan\u001b[39m\u001b[39m'\u001b[39m: \u001b[39m'\u001b[39m\u001b[39mJaipur\u001b[39m\u001b[39m'\u001b[39m,\n\u001b[1;32m      <a href='vscode-notebook-cell:/home/san/Public/project%20LTS/python-learn/1-getting%20started.ipynb#ch0000051?line=6'>7</a>\u001b[0m }\n\u001b[0;32m----> <a href='vscode-notebook-cell:/home/san/Public/project%20LTS/python-learn/1-getting%20started.ipynb#ch0000051?line=8'>9</a>\u001b[0m \u001b[39mprint\u001b[39m(india_states_capital[\u001b[39m'\u001b[39;49m\u001b[39mDelhi\u001b[39;49m\u001b[39m'\u001b[39;49m])\n",
      "\u001b[0;31mKeyError\u001b[0m: 'Delhi'"
     ]
    }
   ],
   "source": [
    "# in case of dictionary\n",
    "\n",
    "india_states_capital = {\n",
    "    'Maharashtra': 'Mumbai',\n",
    "    'Gujarat': 'Gandhinagar',\n",
    "    'Rajasthan': 'Jaipur',\n",
    "}\n",
    "\n",
    "print(india_states_capital['Delhi'])"
   ]
  },
  {
   "cell_type": "code",
   "execution_count": 36,
   "metadata": {},
   "outputs": [
    {
     "name": "stdout",
     "output_type": "stream",
     "text": [
      "Gandhinagar\n",
      "Not found\n"
     ]
    }
   ],
   "source": [
    "from collections import defaultdict\n",
    "\n",
    "states_capital = defaultdict(lambda: 'Not found')\n",
    "states_capital['Maharashtra'] = 'Mumbai'\n",
    "states_capital['Gujarat'] = 'Gandhinagar'\n",
    "states_capital['Rajasthan'] = 'Jaipur'\n",
    "\n",
    "\n",
    "print(states_capital['Gujarat'])\n",
    "print(states_capital['Bihar'])"
   ]
  },
  {
   "cell_type": "markdown",
   "metadata": {},
   "source": [
    "### help utility\n"
   ]
  },
  {
   "cell_type": "code",
   "execution_count": null,
   "metadata": {},
   "outputs": [],
   "source": [
    "import math\n",
    "help(math)\n",
    "help(math.ceil)"
   ]
  },
  {
   "cell_type": "code",
   "execution_count": 51,
   "metadata": {},
   "outputs": [
    {
     "data": {
      "text/plain": [
       "['__doc__',\n",
       " '__file__',\n",
       " '__loader__',\n",
       " '__name__',\n",
       " '__package__',\n",
       " '__spec__',\n",
       " 'acos',\n",
       " 'acosh',\n",
       " 'asin',\n",
       " 'asinh',\n",
       " 'atan',\n",
       " 'atan2',\n",
       " 'atanh',\n",
       " 'ceil',\n",
       " 'comb',\n",
       " 'copysign',\n",
       " 'cos',\n",
       " 'cosh',\n",
       " 'degrees',\n",
       " 'dist',\n",
       " 'e',\n",
       " 'erf',\n",
       " 'erfc',\n",
       " 'exp',\n",
       " 'expm1',\n",
       " 'fabs',\n",
       " 'factorial',\n",
       " 'floor',\n",
       " 'fmod',\n",
       " 'frexp',\n",
       " 'fsum',\n",
       " 'gamma',\n",
       " 'gcd',\n",
       " 'hypot',\n",
       " 'inf',\n",
       " 'isclose',\n",
       " 'isfinite',\n",
       " 'isinf',\n",
       " 'isnan',\n",
       " 'isqrt',\n",
       " 'lcm',\n",
       " 'ldexp',\n",
       " 'lgamma',\n",
       " 'log',\n",
       " 'log10',\n",
       " 'log1p',\n",
       " 'log2',\n",
       " 'modf',\n",
       " 'nan',\n",
       " 'nextafter',\n",
       " 'perm',\n",
       " 'pi',\n",
       " 'pow',\n",
       " 'prod',\n",
       " 'radians',\n",
       " 'remainder',\n",
       " 'sin',\n",
       " 'sinh',\n",
       " 'sqrt',\n",
       " 'tan',\n",
       " 'tanh',\n",
       " 'tau',\n",
       " 'trunc',\n",
       " 'ulp']"
      ]
     },
     "execution_count": 51,
     "metadata": {},
     "output_type": "execute_result"
    }
   ],
   "source": [
    "# know all the functions in a module\n",
    "import math\n",
    "dir(math)"
   ]
  }
 ],
 "metadata": {
  "interpreter": {
   "hash": "e7370f93d1d0cde622a1f8e1c04877d8463912d04d973331ad4851f04de6915a"
  },
  "kernelspec": {
   "display_name": "Python 3.10.2 64-bit",
   "language": "python",
   "name": "python3"
  },
  "language_info": {
   "codemirror_mode": {
    "name": "ipython",
    "version": 3
   },
   "file_extension": ".py",
   "mimetype": "text/x-python",
   "name": "python",
   "nbconvert_exporter": "python",
   "pygments_lexer": "ipython3",
   "version": "3.10.2"
  },
  "orig_nbformat": 4
 },
 "nbformat": 4,
 "nbformat_minor": 2
}
