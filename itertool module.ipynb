{
 "cells": [
  {
   "cell_type": "code",
   "execution_count": null,
   "metadata": {},
   "outputs": [],
   "source": [
    "import itertools\n",
    "dir(itertools)"
   ]
  },
  {
   "cell_type": "markdown",
   "metadata": {},
   "source": [
    "`class`|description|`syntax`\n",
    "---|---|---\n",
    "`accumulate`|Returns an iterator with the `accumulate` method of `itertools`.|`itertools.accumulate(iterable, func=operator.add, *, start=0)`\n",
    "`chain`|Returns an iterator with the `chain` method of `itertools`.|`itertools.chain(iterable1, iterable2, *, iterable3, ...)`\n",
    "`combinations`|Returns an iterator with the `combinations` method of `itertools`.|`itertools.combinations(iterable, r)`\n",
    "`combinations_with_replacement`|Returns an iterator with the `combinations_with_replacement` method of `itertools`.|`itertools.combinations_with_replacement(iterable, r)`\n",
    "`compress`|Returns an iterator with the `compress` method of `itertools`.|`itertools.compress(data, selectors)`\n",
    "`count`|Returns an iterator with the `count` method of `itertools`.|`itertools.count(start=0, step=1)`\n",
    "`cycle`|Returns an iterator with the `cycle` method of `itertools`.|`itertools.cycle(iterable)`\n",
    "`dropwhile`|Returns an iterator with the `dropwhile` method of `itertools`.|`itertools.dropwhile(predicate, iterable)`\n",
    "`filterfalse`|Returns an iterator with the `filterfalse` method of `itertools`.|`itertools.filterfalse(predicate, iterable)`\n",
    "`groupby`|Returns an iterator with the `groupby` method of `itertools`.|`itertools.groupby(iterable, key=None)`"
   ]
  }
 ],
 "metadata": {
  "interpreter": {
   "hash": "e7370f93d1d0cde622a1f8e1c04877d8463912d04d973331ad4851f04de6915a"
  },
  "kernelspec": {
   "display_name": "Python 3.10.2 64-bit",
   "language": "python",
   "name": "python3"
  },
  "language_info": {
   "codemirror_mode": {
    "name": "ipython",
    "version": 3
   },
   "file_extension": ".py",
   "mimetype": "text/x-python",
   "name": "python",
   "nbconvert_exporter": "python",
   "pygments_lexer": "ipython3",
   "version": "3.10.2"
  },
  "orig_nbformat": 4
 },
 "nbformat": 4,
 "nbformat_minor": 2
}
