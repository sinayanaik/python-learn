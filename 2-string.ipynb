{
 "cells": [
  {
   "cell_type": "markdown",
   "metadata": {},
   "source": [
    "## strings\n"
   ]
  },
  {
   "cell_type": "markdown",
   "metadata": {},
   "source": [
    "## string methods\n",
    "- **capitalize** : capitalize first letter of each word\n",
    "- **casefold** : convert to lowercase\n",
    "- **center** : center string\n",
    "- **count** : count number of occurrences of substring\n",
    "- **encode** : encode string\n",
    "- **endswith** : check if string ends with substring\n",
    "- **expandtabs** : expand tabs\n",
    "- **find** : find first occurrence of substring\n",
    "- **format** : format string\n",
    "- **format_map** : format string with mapping\n",
    "- **index** : find first occurrence of substring\n",
    "- **isalnum** : check if all characters in string are alphanumeric\n",
    "- **isalpha** : check if all characters in string are alphabetic\n",
    "- **isdecimal** : check if all characters in string are decimal\n",
    "- **isdigit** : check if all characters in string are digits\n",
    "- **isidentifier** : check if string is a valid identifier\n",
    "- **islower** : check if all characters in string are lowercase\n",
    "- **isnumeric** : check if all characters in string are numeric\n",
    "- **isprintable** : check if all characters in string are printable\n",
    "- **isspace** : check if all characters in string are whitespace\n",
    "- **istitle** : check if string is titlecased\n",
    "- **isupper** : check if all characters in string are uppercase\n",
    "- **join** : join string with other strings\n",
    "- **ljust** : left justify string\n",
    "- **lower** : convert to lowercase\n",
    "- **lstrip** : strip whitespace from left side of string\n",
    "- **maketrans** : create translation table\n",
    "- **partition** : partition string at first occurrence of substring\n",
    "- **replace** : replace occurrences of substring\n",
    "- **rfind** : find last occurrence of substring\n",
    "- **rindex** : find last occurrence of substring\n",
    "- **rjust** : right justify string\n",
    "- **rpartition** : partition string at last occurrence of substring\n",
    "- **rsplit** : split string at occurrences of substring\n",
    "- **rstrip** : strip whitespace from right side of string\n",
    "- **split** : split string at occurrences of substring\n",
    "- **splitlines** : split string at newlines\n",
    "- **startswith** : check if string starts with substring\n",
    "- **strip** : strip whitespace from both sides of string\n",
    "- **swapcase** : swap case of string\n",
    "- **title** : titlecase string\n",
    "- **translate** : translate string\n",
    "- **upper** : convert to uppercase\n",
    "- **zfill** : pad string with zeros\n"
   ]
  },
  {
   "cell_type": "code",
   "execution_count": 1,
   "metadata": {},
   "outputs": [
    {
     "name": "stdout",
     "output_type": "stream",
     "text": [
      "Double quotes is <class 'str'>\n",
      "Single quotes is <class 'str'>\n",
      "Triple quotes is <class 'str'>\n",
      "Triple quotes is <class 'str'>\n"
     ]
    }
   ],
   "source": [
    "\n",
    "str_a = \"Double quotes\"\n",
    "str_b = 'Single quotes'\n",
    "str_c = \"\"\"Triple quotes\"\"\"\n",
    "str_d = '''Triple quotes'''\n",
    "print(f\"{str_a} is {type(str_a)}\")\n",
    "print(f\"{str_b} is {type(str_b)}\")\n",
    "print(f\"{str_c} is {type(str_c)}\")\n",
    "print(f\"{str_d} is {type(str_d)}\")"
   ]
  },
  {
   "cell_type": "markdown",
   "metadata": {},
   "source": [
    "### concatenate strings"
   ]
  },
  {
   "cell_type": "code",
   "execution_count": 2,
   "metadata": {},
   "outputs": [
    {
     "name": "stdout",
     "output_type": "stream",
     "text": [
      "Hello World\n"
     ]
    }
   ],
   "source": [
    "str_1 = \"Hello\"\n",
    "str_2 = \"World\"\n",
    "str_3 = str_1 + \" \" + str_2\n",
    "print(str_3)"
   ]
  },
  {
   "cell_type": "markdown",
   "metadata": {},
   "source": [
    "### replace part of string"
   ]
  },
  {
   "cell_type": "code",
   "execution_count": 3,
   "metadata": {},
   "outputs": [
    {
     "name": "stdout",
     "output_type": "stream",
     "text": [
      "Happiness and Sadness are same\n",
      "Happiness and Sadness are not same\n"
     ]
    }
   ],
   "source": [
    "quote = \"Happiness and Sadness are same\"\n",
    "print(quote)\n",
    "quote_2 = quote.replace(\"same\", \"not same\")\n",
    "print(quote_2)"
   ]
  },
  {
   "cell_type": "markdown",
   "metadata": {},
   "source": [
    "### count the repetitions of a substring"
   ]
  },
  {
   "cell_type": "code",
   "execution_count": 4,
   "metadata": {},
   "outputs": [
    {
     "name": "stdout",
     "output_type": "stream",
     "text": [
      "great count : 2\n",
      "a count : 6\n"
     ]
    }
   ],
   "source": [
    "# count the repetition of a substring\n",
    "str = \"The world is a great place,but not a great place to live\"\n",
    "print(f\"great count : {str.count('great')}\")\n",
    "print(f\"a count : {str.count('a')}\")"
   ]
  },
  {
   "cell_type": "markdown",
   "metadata": {},
   "source": [
    "### repeat a string"
   ]
  },
  {
   "cell_type": "code",
   "execution_count": 5,
   "metadata": {},
   "outputs": [
    {
     "name": "stdout",
     "output_type": "stream",
     "text": [
      "i am don i am don i am don \n"
     ]
    }
   ],
   "source": [
    "words = \"i am don \"*3\n",
    "print(words)"
   ]
  },
  {
   "cell_type": "markdown",
   "metadata": {},
   "source": [
    "### split a string\n",
    "\n",
    "-  delimiters : A delimiter is a sequence of one or more characters for specifying the boundary between separate, independent regions in plain text, mathematical expressions or other data streams. \n",
    "- delimiter : boundry"
   ]
  },
  {
   "cell_type": "code",
   "execution_count": 6,
   "metadata": {},
   "outputs": [
    {
     "name": "stdout",
     "output_type": "stream",
     "text": [
      "['There', 'was', 'king', 'called', 'Midas,who', 'was', 'a', 'great', 'king']\n",
      "['There', 'was', 'king', 'called', 'Midas,who', 'was', 'a', 'great', 'king']\n",
      "['There w', 's king c', 'lled Mid', 's,who w', 's ', ' gre', 't king']\n"
     ]
    }
   ],
   "source": [
    "# use whitespace as delimiter\n",
    "str = \"There was king called Midas,who was a great king\"\n",
    "print(str.split(\" \"))\n",
    "\n",
    "print(str.split()) #by default delimiter is whitespace\n",
    "print(str.split(\"a\"))  #split by a\n"
   ]
  },
  {
   "cell_type": "code",
   "execution_count": 7,
   "metadata": {},
   "outputs": [
    {
     "name": "stdout",
     "output_type": "stream",
     "text": [
      "['__add__', '__class__', '__contains__', '__delattr__', '__dir__', '__doc__', '__eq__', '__format__', '__ge__', '__getattribute__', '__getitem__', '__getnewargs__', '__gt__', '__hash__', '__init__', '__init_subclass__', '__iter__', '__le__', '__len__', '__lt__', '__mod__', '__mul__', '__ne__', '__new__', '__reduce__', '__reduce_ex__', '__repr__', '__rmod__', '__rmul__', '__setattr__', '__sizeof__', '__str__', '__subclasshook__', 'capitalize', 'casefold', 'center', 'count', 'encode', 'endswith', 'expandtabs', 'find', 'format', 'format_map', 'index', 'isalnum', 'isalpha', 'isascii', 'isdecimal', 'isdigit', 'isidentifier', 'islower', 'isnumeric', 'isprintable', 'isspace', 'istitle', 'isupper', 'join', 'ljust', 'lower', 'lstrip', 'maketrans', 'partition', 'removeprefix', 'removesuffix', 'replace', 'rfind', 'rindex', 'rjust', 'rpartition', 'rsplit', 'rstrip', 'split', 'splitlines', 'startswith', 'strip', 'swapcase', 'title', 'translate', 'upper', 'zfill']\n"
     ]
    }
   ],
   "source": [
    "# print all methods of string and their usage\n",
    "print(dir(str))"
   ]
  },
  {
   "cell_type": "markdown",
   "metadata": {},
   "source": [
    "#### capitalize"
   ]
  },
  {
   "cell_type": "code",
   "execution_count": 8,
   "metadata": {},
   "outputs": [
    {
     "name": "stdout",
     "output_type": "stream",
     "text": [
      "Hello world\n"
     ]
    }
   ],
   "source": [
    "str = \"hello world\"\n",
    "print(str.capitalize())"
   ]
  },
  {
   "cell_type": "markdown",
   "metadata": {},
   "source": [
    "##### casefold : converts all characters to lowercase"
   ]
  },
  {
   "cell_type": "code",
   "execution_count": 9,
   "metadata": {},
   "outputs": [
    {
     "name": "stdout",
     "output_type": "stream",
     "text": [
      "hello world\n"
     ]
    }
   ],
   "source": [
    "str = \"Hello World\"\n",
    "print(str.casefold())"
   ]
  },
  {
   "cell_type": "markdown",
   "metadata": {},
   "source": [
    "##### center : center the string"
   ]
  },
  {
   "cell_type": "code",
   "execution_count": 10,
   "metadata": {},
   "outputs": [
    {
     "name": "stdout",
     "output_type": "stream",
     "text": [
      "     Hello World     \n",
      "*****Hello World*****\n"
     ]
    }
   ],
   "source": [
    "str = \"Hello World\"\n",
    "print(str.center(21))\n",
    "#center with fill character\n",
    "print(str.center(21, \"*\"))"
   ]
  },
  {
   "cell_type": "markdown",
   "metadata": {},
   "source": [
    "##### encode : converts string to bytes"
   ]
  },
  {
   "cell_type": "code",
   "execution_count": 11,
   "metadata": {},
   "outputs": [
    {
     "name": "stdout",
     "output_type": "stream",
     "text": [
      "b'Hello World'\n",
      "b'Hello World'\n"
     ]
    }
   ],
   "source": [
    "#encode : converts string to bytes\n",
    "str = \"Hello World\"\n",
    "print(str.encode())\n",
    "#encode with encoding\n",
    "print(str.encode(\"utf-8\"))"
   ]
  },
  {
   "cell_type": "markdown",
   "metadata": {},
   "source": [
    "##### endswith : returns true if the string ends with the specified suffix"
   ]
  },
  {
   "cell_type": "code",
   "execution_count": 12,
   "metadata": {},
   "outputs": [
    {
     "name": "stdout",
     "output_type": "stream",
     "text": [
      "True\n"
     ]
    }
   ],
   "source": [
    "str = \"Hello World\"\n",
    "print(str.endswith(\"d\"))"
   ]
  },
  {
   "cell_type": "markdown",
   "metadata": {},
   "source": [
    "##### expandtabs : replace tab characters with spaces"
   ]
  },
  {
   "cell_type": "code",
   "execution_count": 13,
   "metadata": {},
   "outputs": [
    {
     "name": "stdout",
     "output_type": "stream",
     "text": [
      "Hello\tWorld\n",
      "Hello   World\n"
     ]
    }
   ],
   "source": [
    "str = \"Hello\\tWorld\"\n",
    "print(str)\n",
    "print(str.expandtabs())"
   ]
  },
  {
   "cell_type": "markdown",
   "metadata": {},
   "source": [
    "##### find : returns the lowest index in the string where substring sub is found, such that sub is contained within s[start:end]\\"
   ]
  },
  {
   "cell_type": "code",
   "execution_count": 14,
   "metadata": {},
   "outputs": [
    {
     "name": "stdout",
     "output_type": "stream",
     "text": [
      "2\n",
      "2\n",
      "9\n",
      "9\n"
     ]
    }
   ],
   "source": [
    "str = \"Hello World\"\n",
    "print(str.find(\"l\"))\n",
    "\n",
    "print(str.find(\"l\", 0,5))\n",
    "print(str.find(\"l\", 5))  # by default end index is len(str)\n",
    "print(str.find(\"l\", 5, 10))"
   ]
  },
  {
   "cell_type": "markdown",
   "metadata": {},
   "source": [
    "##### format : returns a formatted version of the string using the format string."
   ]
  },
  {
   "cell_type": "code",
   "execution_count": 15,
   "metadata": {},
   "outputs": [
    {
     "name": "stdout",
     "output_type": "stream",
     "text": [
      "Hello World\n"
     ]
    }
   ],
   "source": [
    "#format usage inside print\n",
    "print(\"{} {}\".format(\"Hello\", \"World\"))\n"
   ]
  },
  {
   "cell_type": "markdown",
   "metadata": {},
   "source": [
    "##### format_map : returns a formatted version of the string using the format mapping."
   ]
  },
  {
   "cell_type": "code",
   "execution_count": 16,
   "metadata": {},
   "outputs": [
    {
     "name": "stdout",
     "output_type": "stream",
     "text": [
      "John 25\n"
     ]
    }
   ],
   "source": [
    "#format_map\n",
    "print(\"{name} {age}\".format_map({\"name\":\"John\", \"age\":25}))"
   ]
  },
  {
   "cell_type": "markdown",
   "metadata": {},
   "source": [
    "##### isalnum : returns true if all characters in the string are alphanumeric"
   ]
  },
  {
   "cell_type": "code",
   "execution_count": 17,
   "metadata": {},
   "outputs": [
    {
     "name": "stdout",
     "output_type": "stream",
     "text": [
      "hello: True\n",
      "123: True\n",
      "hello123: True\n",
      "hello world: False\n"
     ]
    }
   ],
   "source": [
    "print(f\"hello: {'hello'.isalnum()}\")\n",
    "print(f\"123: {'123'.isalnum()}\")\n",
    "print(f\"hello123: {'hello123'.isalnum()}\")\n",
    "print(f\"hello world: {'hello world'.isalnum()}\")"
   ]
  },
  {
   "cell_type": "markdown",
   "metadata": {},
   "source": [
    "##### isalpha : returns true if all characters in the string are alphabetic"
   ]
  },
  {
   "cell_type": "code",
   "execution_count": 18,
   "metadata": {},
   "outputs": [
    {
     "name": "stdout",
     "output_type": "stream",
     "text": [
      "hello: True\n",
      "123: False\n",
      "hello123: False\n"
     ]
    }
   ],
   "source": [
    "print(f\"hello: {'hello'.isalpha()}\")\n",
    "print(f\"123: {'123'.isalpha()}\")\n",
    "print(f\"hello123: {'hello123'.isalpha()}\")"
   ]
  },
  {
   "cell_type": "markdown",
   "metadata": {},
   "source": [
    "##### isdecimal : returns true if all characters in the string are decimal"
   ]
  },
  {
   "cell_type": "code",
   "execution_count": 19,
   "metadata": {},
   "outputs": [
    {
     "name": "stdout",
     "output_type": "stream",
     "text": [
      "123: True\n",
      "123.45: False\n",
      "hello: False\n"
     ]
    }
   ],
   "source": [
    "print(f\"123: {'123'.isdecimal()}\")\n",
    "print(f\"123.45: {'123.45'.isdecimal()}\")\n",
    "print(f\"hello: {'hello'.isdecimal()}\")"
   ]
  },
  {
   "cell_type": "markdown",
   "metadata": {},
   "source": [
    "##### isdigit : returns true if all characters in the string are digits"
   ]
  },
  {
   "cell_type": "code",
   "execution_count": 20,
   "metadata": {},
   "outputs": [
    {
     "name": "stdout",
     "output_type": "stream",
     "text": [
      "123: True\n",
      "123.45: False\n",
      "hello: False\n"
     ]
    }
   ],
   "source": [
    "print(f\"123: {'123'.isdigit()}\")\n",
    "print(f\"123.45: {'123.45'.isdigit()}\")\n",
    "print(f\"hello: {'hello'.isdigit()}\")"
   ]
  },
  {
   "cell_type": "markdown",
   "metadata": {},
   "source": [
    "##### isidentifier : returns true if the string is an identifier"
   ]
  },
  {
   "cell_type": "code",
   "execution_count": 21,
   "metadata": {},
   "outputs": [
    {
     "name": "stdout",
     "output_type": "stream",
     "text": [
      "hello: True\n",
      "123: False\n",
      "hello123: True\n"
     ]
    }
   ],
   "source": [
    "print(f\"hello: {'hello'.isidentifier()}\")\n",
    "print(f\"123: {'123'.isidentifier()}\")\n",
    "print(f\"hello123: {'hello123'.isidentifier()}\")"
   ]
  },
  {
   "cell_type": "markdown",
   "metadata": {},
   "source": [
    "##### islower : returns true if all characters in the string are lowercase"
   ]
  },
  {
   "cell_type": "code",
   "execution_count": 22,
   "metadata": {},
   "outputs": [
    {
     "name": "stdout",
     "output_type": "stream",
     "text": [
      "hello: True\n",
      "hello123: True\n",
      "hEllO: False\n"
     ]
    }
   ],
   "source": [
    "print(f\"hello: {'hello'.islower()}\")\n",
    "print(f\"hello123: {'hello123'.islower()}\")\n",
    "print(f\"hEllO: {'HELLO'.islower()}\")"
   ]
  },
  {
   "cell_type": "markdown",
   "metadata": {},
   "source": [
    "##### isnumeric : returns true if all characters in the string are numeric"
   ]
  },
  {
   "cell_type": "code",
   "execution_count": 23,
   "metadata": {},
   "outputs": [
    {
     "name": "stdout",
     "output_type": "stream",
     "text": [
      "123: True\n",
      "123.45: False\n",
      "hello: False\n"
     ]
    }
   ],
   "source": [
    "print(f\"123: {'123'.isnumeric()}\")\n",
    "print(f\"123.45: {'123.45'.isnumeric()}\")\n",
    "print(f\"hello: {'hello'.isnumeric()}\")"
   ]
  },
  {
   "cell_type": "markdown",
   "metadata": {},
   "source": [
    "##### isprintable : returns true if all characters in the string are printable"
   ]
  },
  {
   "cell_type": "code",
   "execution_count": 24,
   "metadata": {},
   "outputs": [
    {
     "name": "stdout",
     "output_type": "stream",
     "text": [
      "hello: True\n",
      "123: True\n",
      "hello123: True\n"
     ]
    }
   ],
   "source": [
    "print(f\"hello: {'hello'.isprintable()}\")\n",
    "print(f\"123: {'123'.isprintable()}\")\n",
    "print(f\"hello123: {'hello123'.isprintable()}\")"
   ]
  },
  {
   "cell_type": "markdown",
   "metadata": {},
   "source": [
    "##### isspace : returns true if all characters in the string are whitespace"
   ]
  },
  {
   "cell_type": "code",
   "execution_count": 25,
   "metadata": {},
   "outputs": [
    {
     "name": "stdout",
     "output_type": "stream",
     "text": [
      "hello: False\n",
      "hello123: False\n"
     ]
    }
   ],
   "source": [
    "print(f\"hello: {'hello'.isspace()}\")\n",
    "print(f\"hello123: {'hello123'.isspace()}\")"
   ]
  },
  {
   "cell_type": "markdown",
   "metadata": {},
   "source": [
    "##### istitle : returns true if the string follows the rules of a title"
   ]
  },
  {
   "cell_type": "code",
   "execution_count": 26,
   "metadata": {},
   "outputs": [
    {
     "name": "stdout",
     "output_type": "stream",
     "text": [
      "hello: False\n",
      "HELLO: False\n",
      "hEllO: False\n",
      "Hello: True\n"
     ]
    }
   ],
   "source": [
    "print(f\"hello: {'hello'.istitle()}\")\n",
    "print(f\"HELLO: {'HELLO'.istitle()}\")\n",
    "print(f\"hEllO: {'HELLO'.istitle()}\")\n",
    "print(f\"Hello: {'Hello'.istitle()}\")"
   ]
  },
  {
   "cell_type": "markdown",
   "metadata": {},
   "source": [
    "##### isupper : returns true if all characters in the string are uppercase"
   ]
  },
  {
   "cell_type": "code",
   "execution_count": 27,
   "metadata": {},
   "outputs": [
    {
     "name": "stdout",
     "output_type": "stream",
     "text": [
      "hello: False\n",
      "HELLO: True\n",
      "hEllO: False\n"
     ]
    }
   ],
   "source": [
    "print(f\"hello: {'hello'.isupper()}\")\n",
    "print(f\"HELLO: {'HELLO'.isupper()}\")\n",
    "print(f\"hEllO: {'hEllo'.isupper()}\")"
   ]
  },
  {
   "cell_type": "markdown",
   "metadata": {},
   "source": [
    "##### join : returns a string which is the concatenation of the strings in the iterable"
   ]
  },
  {
   "cell_type": "code",
   "execution_count": 28,
   "metadata": {},
   "outputs": [
    {
     "name": "stdout",
     "output_type": "stream",
     "text": [
      "a,b,c\n",
      "a$b$c\n",
      "a-b-c\n"
     ]
    }
   ],
   "source": [
    "print(\",\".join([\"a\", \"b\", \"c\"]))\n",
    "print(\"$\".join([\"a\", \"b\", \"c\"]))\n",
    "print(\"-\".join([\"a\", \"b\", \"c\"]))"
   ]
  },
  {
   "cell_type": "markdown",
   "metadata": {},
   "source": [
    "##### ljust : returns a left-justified version of the string"
   ]
  },
  {
   "cell_type": "code",
   "execution_count": 29,
   "metadata": {},
   "outputs": [
    {
     "name": "stdout",
     "output_type": "stream",
     "text": [
      "hello     \n",
      "hello-----\n"
     ]
    }
   ],
   "source": [
    "#ljust\n",
    "print(\"hello\".ljust(10))\n",
    "print(\"hello\".ljust(10, \"-\"))"
   ]
  },
  {
   "cell_type": "markdown",
   "metadata": {},
   "source": [
    "##### lower : returns a lowercased version of the string"
   ]
  },
  {
   "cell_type": "code",
   "execution_count": 30,
   "metadata": {},
   "outputs": [
    {
     "name": "stdout",
     "output_type": "stream",
     "text": [
      "hello\n"
     ]
    }
   ],
   "source": [
    "print(\"HELLO\".lower())"
   ]
  },
  {
   "cell_type": "markdown",
   "metadata": {},
   "source": [
    "##### lstrip : returns a left-stripped version of the string"
   ]
  },
  {
   "cell_type": "code",
   "execution_count": 31,
   "metadata": {},
   "outputs": [
    {
     "name": "stdout",
     "output_type": "stream",
     "text": [
      "hello\n",
      "hello\n",
      "hello\n",
      "ello\n"
     ]
    }
   ],
   "source": [
    "#lstrip\n",
    "print(\"hello\".lstrip())\n",
    "print(\"      hello\".lstrip())\n",
    "print(\"******hello\".lstrip(\"*\"))\n",
    "print(\"hello\".lstrip(\"h\"))"
   ]
  },
  {
   "cell_type": "markdown",
   "metadata": {},
   "source": [
    "##### partition : returns a tuple where the string is parted into three parts"
   ]
  },
  {
   "cell_type": "code",
   "execution_count": 32,
   "metadata": {},
   "outputs": [
    {
     "name": "stdout",
     "output_type": "stream",
     "text": [
      "('he', 'l', 'lo')\n"
     ]
    }
   ],
   "source": [
    "print(\"hello\".partition(\"l\"))"
   ]
  },
  {
   "cell_type": "markdown",
   "metadata": {},
   "source": [
    "##### rfind : returns the highest index in the string where substring sub is found, such that sub is contained within s[start:end]"
   ]
  },
  {
   "cell_type": "code",
   "execution_count": 33,
   "metadata": {},
   "outputs": [
    {
     "name": "stdout",
     "output_type": "stream",
     "text": [
      "3\n",
      "3\n"
     ]
    }
   ],
   "source": [
    "print(\"hello\".rfind(\"l\"))\n",
    "print(\"hello\".rfind(\"l\", 0, 5))"
   ]
  },
  {
   "cell_type": "markdown",
   "metadata": {},
   "source": [
    "##### rindex : returns the highest index in the string where substring sub is found, such that sub is contained within s[start:end]"
   ]
  },
  {
   "cell_type": "code",
   "execution_count": 34,
   "metadata": {},
   "outputs": [
    {
     "name": "stdout",
     "output_type": "stream",
     "text": [
      "3\n",
      "3\n"
     ]
    }
   ],
   "source": [
    "print(\"hello\".rindex(\"l\"))\n",
    "print(\"hello\".rindex(\"l\", 0, 5))"
   ]
  },
  {
   "cell_type": "markdown",
   "metadata": {},
   "source": [
    "##### rjust : returns a right-justified version of the string"
   ]
  },
  {
   "cell_type": "code",
   "execution_count": 35,
   "metadata": {},
   "outputs": [
    {
     "name": "stdout",
     "output_type": "stream",
     "text": [
      "     hello\n",
      "-----hello\n"
     ]
    }
   ],
   "source": [
    "#rjust\n",
    "print(\"hello\".rjust(10))\n",
    "print(\"hello\".rjust(10, \"-\"))"
   ]
  },
  {
   "cell_type": "markdown",
   "metadata": {},
   "source": [
    "##### rpartition : returns a tuple where the string is parted into three parts"
   ]
  },
  {
   "cell_type": "code",
   "execution_count": 36,
   "metadata": {},
   "outputs": [
    {
     "name": "stdout",
     "output_type": "stream",
     "text": [
      "('hel', 'l', 'o')\n"
     ]
    }
   ],
   "source": [
    "print(\"hello\".rpartition(\"l\"))"
   ]
  },
  {
   "cell_type": "markdown",
   "metadata": {},
   "source": [
    "##### rsplit : returns a list of substrings in the string, using sep as the delimiter"
   ]
  },
  {
   "cell_type": "code",
   "execution_count": 37,
   "metadata": {},
   "outputs": [
    {
     "name": "stdout",
     "output_type": "stream",
     "text": [
      "['hello']\n",
      "['he', '', 'o']\n"
     ]
    }
   ],
   "source": [
    "print(\"hello\".rsplit())\n",
    "print(\"hello\".rsplit(\"l\"))"
   ]
  },
  {
   "cell_type": "markdown",
   "metadata": {},
   "source": [
    "##### rstrip : returns a right-stripped version of the string"
   ]
  },
  {
   "cell_type": "code",
   "execution_count": 38,
   "metadata": {},
   "outputs": [
    {
     "name": "stdout",
     "output_type": "stream",
     "text": [
      "hello\n",
      "hello\n",
      "******hello\n",
      "hello\n"
     ]
    }
   ],
   "source": [
    "print(\"hello\".rstrip())\n",
    "print(\"hello******\".rstrip(\"*\"))\n",
    "print(\"******hello\".rstrip(\"*\"))\n",
    "print(\"hello\".rstrip(\"h\"))"
   ]
  },
  {
   "cell_type": "markdown",
   "metadata": {},
   "source": [
    "##### splitlines : returns a list of the lines in the string, breaking at line boundaries"
   ]
  },
  {
   "cell_type": "code",
   "execution_count": 39,
   "metadata": {},
   "outputs": [
    {
     "name": "stdout",
     "output_type": "stream",
     "text": [
      "['hello', 'world']\n",
      "['hello\\n', 'world']\n",
      "['hello', 'world']\n"
     ]
    }
   ],
   "source": [
    "print(\"hello\\nworld\".splitlines())\n",
    "print(\"hello\\nworld\".splitlines(True))\n",
    "print(\"hello\\nworld\".splitlines(False))"
   ]
  },
  {
   "cell_type": "markdown",
   "metadata": {},
   "source": [
    "##### startswith : returns true if the string starts with the specified prefix"
   ]
  },
  {
   "cell_type": "code",
   "execution_count": 40,
   "metadata": {},
   "outputs": [
    {
     "name": "stdout",
     "output_type": "stream",
     "text": [
      "True\n",
      "True\n"
     ]
    }
   ],
   "source": [
    "print(\"hello\".startswith(\"h\"))\n",
    "print(\"hello\".startswith(\"he\"))"
   ]
  },
  {
   "cell_type": "markdown",
   "metadata": {},
   "source": [
    "##### strip : returns a stripped version of the string"
   ]
  },
  {
   "cell_type": "code",
   "execution_count": 41,
   "metadata": {},
   "outputs": [
    {
     "name": "stdout",
     "output_type": "stream",
     "text": [
      "hello\n",
      "hello\n",
      "hello\n"
     ]
    }
   ],
   "source": [
    "print(\"hello\".strip())\n",
    "print(\"******hello******\".strip(\"*\"))\n",
    "print(\"hello******\".strip(\"*\"))"
   ]
  },
  {
   "cell_type": "markdown",
   "metadata": {},
   "source": [
    "##### swapcase : returns a swapped case version of the string"
   ]
  },
  {
   "cell_type": "code",
   "execution_count": 42,
   "metadata": {},
   "outputs": [
    {
     "name": "stdout",
     "output_type": "stream",
     "text": [
      "HELLO\n",
      "hello\n",
      "HeLLo\n"
     ]
    }
   ],
   "source": [
    "#swapcase\n",
    "print(\"hello\".swapcase())\n",
    "print(\"HELLO\".swapcase())\n",
    "print(\"hEllO\".swapcase())"
   ]
  },
  {
   "cell_type": "markdown",
   "metadata": {},
   "source": [
    "##### title : returns a titlecased version of the string"
   ]
  },
  {
   "cell_type": "code",
   "execution_count": 43,
   "metadata": {},
   "outputs": [
    {
     "name": "stdout",
     "output_type": "stream",
     "text": [
      "Hello\n",
      "Hello I Am Don\n"
     ]
    }
   ],
   "source": [
    "print(\"hello\".title())\n",
    "print(\"hello i am don\".title())"
   ]
  },
  {
   "cell_type": "markdown",
   "metadata": {},
   "source": [
    "##### translate : returns a string where each character is mapped to its corresponding character in the translation table"
   ]
  },
  {
   "cell_type": "code",
   "execution_count": 44,
   "metadata": {},
   "outputs": [
    {
     "name": "stdout",
     "output_type": "stream",
     "text": [
      "h2ll4 w4rld\n"
     ]
    }
   ],
   "source": [
    "str = \"hello world\"\n",
    "print(str.translate(str.maketrans(\"aeiou\", \"12345\")))"
   ]
  },
  {
   "cell_type": "markdown",
   "metadata": {},
   "source": [
    "##### zfill : returns the numeric string left-filled with zeros"
   ]
  },
  {
   "cell_type": "code",
   "execution_count": 45,
   "metadata": {},
   "outputs": [
    {
     "name": "stdout",
     "output_type": "stream",
     "text": [
      "00000hello\n"
     ]
    }
   ],
   "source": [
    "print(\"hello\".zfill(10))"
   ]
  }
 ],
 "metadata": {
  "interpreter": {
   "hash": "d2152fd7f0bbc62aa1baff8c990435d1e2c7175d001561303988032604c11a48"
  },
  "kernelspec": {
   "display_name": "Python 3.10.2 64-bit",
   "language": "python",
   "name": "python3"
  },
  "language_info": {
   "codemirror_mode": {
    "name": "ipython",
    "version": 3
   },
   "file_extension": ".py",
   "mimetype": "text/x-python",
   "name": "python",
   "nbconvert_exporter": "python",
   "pygments_lexer": "ipython3",
   "version": "3.10.2"
  },
  "orig_nbformat": 4
 },
 "nbformat": 4,
 "nbformat_minor": 2
}
