{
 "cells": [
  {
   "cell_type": "markdown",
   "metadata": {},
   "source": [
    "### Decorators\n",
    "- decoration - wraps a function\n",
    "- They dynamically alter the functionality of a function, method, or\n",
    "class without having to directly use subclasses or change the source code of the decorated function."
   ]
  },
  {
   "cell_type": "code",
   "execution_count": 6,
   "metadata": {},
   "outputs": [
    {
     "name": "stdout",
     "output_type": "stream",
     "text": [
      "This is my secret function\n"
     ]
    }
   ],
   "source": [
    "def super_secret_function(f):\n",
    "    return f                   #returns the same functions ,no changes\n",
    "\n",
    "@super_secret_function\n",
    "def my_function():\n",
    "    print(\"This is my secret function\")\n",
    "\n",
    "my_function()"
   ]
  },
  {
   "cell_type": "code",
   "execution_count": 10,
   "metadata": {},
   "outputs": [
    {
     "name": "stdout",
     "output_type": "stream",
     "text": [
      "Calling sum\n"
     ]
    },
    {
     "data": {
      "text/plain": [
       "5"
      ]
     },
     "execution_count": 10,
     "metadata": {},
     "output_type": "execute_result"
    }
   ],
   "source": [
    "def print_function_name(f):\n",
    "    def wrapper(*args, **kwargs):                   #wrapper function\n",
    "        print(f\"Calling {f.__name__}\")\n",
    "        return f(*args, **kwargs)                   #the actual function\n",
    "    return wrapper                                  #returns the wrapper function\n",
    "\n",
    "@print_function_name\n",
    "def sum(x,y):\n",
    "    return x+y\n",
    "\n",
    "sum(2,3)"
   ]
  },
  {
   "cell_type": "code",
   "execution_count": 11,
   "metadata": {},
   "outputs": [
    {
     "name": "stdout",
     "output_type": "stream",
     "text": [
      "display took 9.775161743164062e-06 seconds\n"
     ]
    },
    {
     "data": {
      "text/plain": [
       "{0: 0, 1: 1, 2: 4, 3: 9, 4: 16, 5: 25, 6: 36, 7: 49, 8: 64, 9: 81}"
      ]
     },
     "execution_count": 11,
     "metadata": {},
     "output_type": "execute_result"
    }
   ],
   "source": [
    "import time\n",
    "def time_profile(func):\n",
    "    def wrapper(*args, **kwargs):\n",
    "        start = time.time()\n",
    "        result = func(*args, **kwargs)\n",
    "        end = time.time()\n",
    "        print(f'{func.__name__} took {end - start} seconds')\n",
    "        return result\n",
    "    return wrapper\n",
    "\n",
    "@time_profile\n",
    "def display(x):\n",
    "    return dict((i, i*i) for i in range(x))\n",
    "\n",
    "display(10)"
   ]
  },
  {
   "cell_type": "markdown",
   "metadata": {},
   "source": [
    "### disable a function"
   ]
  },
  {
   "cell_type": "code",
   "execution_count": 12,
   "metadata": {},
   "outputs": [],
   "source": [
    "def disables(f):\n",
    "    def wrapper(*args, **kwargs):    #wrapper function with arguments(args, kwargs)\n",
    "        return None                  #returns None\n",
    "    return wrapper                   #returns the wrapper function\n",
    "\n",
    "@disables\n",
    "def my_function():\n",
    "    print(\"This is my secret function\")\n",
    "\n",
    "my_function() "
   ]
  },
  {
   "cell_type": "markdown",
   "metadata": {},
   "source": [
    "### decorator class\n",
    "\n",
    "-  to make the object callable as a function :- have to use `__call__()` method"
   ]
  },
  {
   "cell_type": "code",
   "execution_count": 13,
   "metadata": {},
   "outputs": [
    {
     "name": "stdout",
     "output_type": "stream",
     "text": [
      "square took 1.0013580322265625e-05 seconds\n",
      "[0, 1, 4, 9, 16, 25, 36, 49, 64, 81]\n"
     ]
    }
   ],
   "source": [
    "class Time_profiler(object):\n",
    "    '''decorator class for time profiling'''\n",
    "    def __init__(self, func):\n",
    "        self.func = func\n",
    "    def __call__(self, *args, **kwargs):                   #__call__ is a magic method\n",
    "        start = time.time()\n",
    "        result = self.func(*args, **kwargs)\n",
    "        end = time.time()\n",
    "        print(f'{self.func.__name__} took {end - start} seconds')\n",
    "        return result\n",
    "\n",
    "@Time_profiler\n",
    "def square(x):\n",
    "    return [x*x for x in range(x)]\n",
    "\n",
    "print(square(10))"
   ]
  },
  {
   "cell_type": "markdown",
   "metadata": {},
   "source": [
    "#### decorating methods\n",
    "- For decorating methods you need to define an additional `__get__` method"
   ]
  },
  {
   "cell_type": "code",
   "execution_count": 7,
   "metadata": {},
   "outputs": [
    {
     "name": "stdout",
     "output_type": "stream",
     "text": [
      "2\n",
      "8\n"
     ]
    }
   ],
   "source": [
    "# Class Decorators: Using Decorators with methods defined in a Class\n",
    "\n",
    "def integer_check(method):\n",
    "\tdef inner(ref):\n",
    "\t\tif not isinstance(ref._val1, int) or not isinstance(ref._val2, int):\n",
    "\t\t\traise TypeError('val1 and val2 must be integers')\n",
    "\t\telse:\n",
    "\t\t\treturn method(ref)\n",
    "\treturn inner\n",
    "\n",
    "\n",
    "class NumericalOps(object):\n",
    "\tdef __init__(self, val1, val2):\n",
    "\t\tself._val1 = val1\n",
    "\t\tself._val2 = val2\n",
    "\n",
    "\t@integer_check\n",
    "\tdef multiply_together(self):\n",
    "\t\treturn self._val1 * self._val2\n",
    "\n",
    "\tdef power(self, exponent):\n",
    "\t\treturn self.multiply_together() ** exponent\n",
    "\n",
    "# x = NumericalOps(2, 'my_string')\n",
    "\n",
    "# print(x.multiply_together())\n",
    "\n",
    "y = NumericalOps(1, 2)\n",
    "\n",
    "print(y.multiply_together())\n",
    "print(y.power(3))"
   ]
  },
  {
   "cell_type": "markdown",
   "metadata": {},
   "source": [
    "### Making a decorator look like the decorated function"
   ]
  },
  {
   "cell_type": "code",
   "execution_count": 13,
   "metadata": {},
   "outputs": [
    {
     "name": "stdout",
     "output_type": "stream",
     "text": [
      "0\n",
      "1\n",
      "2\n",
      "3\n",
      "4\n",
      "5\n",
      "6\n",
      "7\n",
      "8\n",
      "9\n",
      "display took 0.0019216537475585938 seconds\n"
     ]
    }
   ],
   "source": [
    "import time\n",
    "from functools import wraps\n",
    "\n",
    "def timer(func):\n",
    "    @wraps(func)\n",
    "    def wrapper(*args, **kwargs):\n",
    "        start = time.time()\n",
    "        f = func(*args, **kwargs)\n",
    "        end = time.time()\n",
    "        print(f'{func.__name__} took {end - start} seconds')\n",
    "        return f\n",
    "    return wrapper\n",
    "\n",
    "@timer\n",
    "def display(x):\n",
    "    for i in range(x):\n",
    "        print(i)\n",
    "\n",
    "display(10)"
   ]
  }
 ],
 "metadata": {
  "interpreter": {
   "hash": "e7370f93d1d0cde622a1f8e1c04877d8463912d04d973331ad4851f04de6915a"
  },
  "kernelspec": {
   "display_name": "Python 3.10.2 64-bit",
   "language": "python",
   "name": "python3"
  },
  "language_info": {
   "codemirror_mode": {
    "name": "ipython",
    "version": 3
   },
   "file_extension": ".py",
   "mimetype": "text/x-python",
   "name": "python",
   "nbconvert_exporter": "python",
   "pygments_lexer": "ipython3",
   "version": "3.10.2"
  },
  "orig_nbformat": 4
 },
 "nbformat": 4,
 "nbformat_minor": 2
}
