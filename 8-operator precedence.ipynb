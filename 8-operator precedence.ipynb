{
 "cells": [
  {
   "cell_type": "markdown",
   "metadata": {},
   "source": [
    "## python operatore precedence\n",
    "\n",
    "- python follows **PEMDAS rule**\n",
    "    1. P: Parenthesis\n",
    "    2. E: Exponent\n",
    "    3. M: Multiplication or D: Division\n",
    "    4. A: Addition\n"
   ]
  }
 ],
 "metadata": {
  "language_info": {
   "name": "python"
  },
  "orig_nbformat": 4
 },
 "nbformat": 4,
 "nbformat_minor": 2
}
