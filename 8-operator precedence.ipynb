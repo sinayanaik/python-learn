{
 "cells": [
  {
   "cell_type": "markdown",
   "metadata": {},
   "source": [
    "### operator precedence\n",
    "\n",
    "- python follows **PEMDAS rule**\n",
    "    1. `P`: Parenthesis\n",
    "    2. `E`: Exponent\n",
    "    3. `M`: Multiplication or   `D`: Division\n",
    "    4. `A`: Addition       or   `S`: Subtraction\n",
    "\n",
    "-  in case of **same precedence** , **left to right** order is followed\n",
    "    - so in case of `+` and `-` , check which is left  most and then apply the operator\n",
    "    - so in case of `*` and `/` , check which is left  most and then apply the operator\n"
   ]
  }
 ],
 "metadata": {
  "kernelspec": {
   "display_name": "Python 3.10.5 64-bit",
   "language": "python",
   "name": "python3"
  },
  "language_info": {
   "name": "python",
   "version": "3.10.5"
  },
  "orig_nbformat": 4,
  "vscode": {
   "interpreter": {
    "hash": "e7370f93d1d0cde622a1f8e1c04877d8463912d04d973331ad4851f04de6915a"
   }
  }
 },
 "nbformat": 4,
 "nbformat_minor": 2
}
