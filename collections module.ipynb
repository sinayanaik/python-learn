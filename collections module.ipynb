{
 "cells": [
  {
   "cell_type": "code",
   "execution_count": null,
   "metadata": {},
   "outputs": [],
   "source": [
    "import collections\n",
    "dir(collections)"
   ]
  },
  {
   "cell_type": "markdown",
   "metadata": {},
   "source": [
    "`class` | description | `example`\n",
    "--- | --- | ---\n",
    "`ChainMap` | A dictionary-like object that wraps multiple mappings for convenient access. | `ChainMap(mappings=(dict(a=1, b=2), dict(b=3, c=4)))`\n",
    "`Counter` | A container that stores elements as dictionary keys, and their counts are stored as dictionary values. | `Counter(['a', 'b', 'c', 'a', 'b', 'b'])`\n",
    "`deque` | A double-ended queue (deque), a list-like container with fast appends and pops on either end. | `deque(['a', 'b', 'c'])`\n",
    "`defaultdict` | A dictionary that keeps track of elements that you access. | `defaultdict(int)`\n",
    "`namedtuple` | A tuple with named fields. | `namedtuple('Point', ['x', 'y'])`\n",
    "`OrderedDict` | An ordered dictionary. | `OrderedDict([('a', 1), ('b', 2), ('c', 3)])`\n",
    "`OrderedSet` | An ordered set. | `OrderedSet('abracadabra')`\n",
    "`re` | Regular expression operations. | `re.search('a', 'banana')`\n",
    "`set` | A set is a collection of unordered values. | `set('abracadabra')`\n",
    "`sorted` | Return a sorted list from an iterable. | `sorted([-10, 2, -5, 6])`\n",
    "`tuple` | A tuple is a sequence of immutable Python objects. | `tuple('abracadabra')`\n",
    "`UserDict` | A dictionary that allows for object-oriented access. | `UserDict(a=1, b=2)`\n",
    "`UserList` | A list that allows for object-oriented access. | `UserList([1, 2, 3])`\n",
    "`UserString` | A string that allows for object-oriented access. | `UserString('abracadabra')`\n",
    "`zip` | Return an iterator of tuples, the first tuple containing the first item from each iterable, the second containing the second item from each iterable, and so on. | `zip('abc', 'xyz')`\n"
   ]
  }
 ],
 "metadata": {
  "interpreter": {
   "hash": "e7370f93d1d0cde622a1f8e1c04877d8463912d04d973331ad4851f04de6915a"
  },
  "kernelspec": {
   "display_name": "Python 3.10.2 64-bit",
   "language": "python",
   "name": "python3"
  },
  "language_info": {
   "codemirror_mode": {
    "name": "ipython",
    "version": 3
   },
   "file_extension": ".py",
   "mimetype": "text/x-python",
   "name": "python",
   "nbconvert_exporter": "python",
   "pygments_lexer": "ipython3",
   "version": "3.10.2"
  },
  "orig_nbformat": 4
 },
 "nbformat": 4,
 "nbformat_minor": 2
}
