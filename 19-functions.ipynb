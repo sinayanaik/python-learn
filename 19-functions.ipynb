{
 "cells": [
  {
   "cell_type": "markdown",
   "metadata": {},
   "source": [
    "### functions\n",
    "- organized, reusable and modular code to perform a set of specific actions.\n",
    "\n",
    "parameters|details\n",
    "----------|-----------\n",
    "arg1, arg2,argN|regular arguments\n",
    "*args|unnamed positional arguments\n",
    "**kwargs|rest of the keyword arguments\n",
    "kw1, kw2, kwN|keyword only arguments"
   ]
  },
  {
   "cell_type": "markdown",
   "metadata": {},
   "source": [
    "#### def keyword"
   ]
  },
  {
   "cell_type": "code",
   "execution_count": null,
   "metadata": {},
   "outputs": [],
   "source": [
    "def function_name(parameter_list):\n",
    "    \"\"\"\n",
    "    function_description\n",
    "    :param parameter_list:\n",
    "    :return:\n",
    "    \"\"\"\n",
    "    pass"
   ]
  },
  {
   "cell_type": "markdown",
   "metadata": {},
   "source": [
    "#### default parameter values"
   ]
  },
  {
   "cell_type": "code",
   "execution_count": 1,
   "metadata": {},
   "outputs": [
    {
     "name": "stdout",
     "output_type": "stream",
     "text": [
      "Hello, Tony\n",
      "Hello, Steve\n"
     ]
    }
   ],
   "source": [
    "def greet(name='Tony'):\n",
    "    print(\"Hello, \" + name)\n",
    "\n",
    "greet()          # Hello, Tony\n",
    "greet('Steve')   # Hello, Steve   "
   ]
  },
  {
   "cell_type": "markdown",
   "metadata": {},
   "source": [
    "#### arbitrary number of arguments\n",
    "- Defining a function capable of taking an arbitrary number of arguments can be done by prefixing one of the arguments with a *\n",
    "- args will be a tuple containing all values that are passed in\n",
    "syntax\n",
    "- can't provide a default for args\n",
    "- `*args` is a tuple of all the arguments passed in\n",
    "```py\n",
    "def func(*args):\n",
    "    pass\n",
    "```"
   ]
  },
  {
   "cell_type": "code",
   "execution_count": 2,
   "metadata": {},
   "outputs": [
    {
     "name": "stdout",
     "output_type": "stream",
     "text": [
      "(1, 2, 3)\n"
     ]
    }
   ],
   "source": [
    "def func(*args):   # *args is a tuple\n",
    "    print(args)    # (1, 2, 3)  \n",
    "\n",
    "func(1, 2, 3)      # (1, 2, 3)"
   ]
  },
  {
   "cell_type": "markdown",
   "metadata": {},
   "source": [
    "####  arbitrary number of arguments with a name\n",
    "\n",
    "- `**kwargs` is a dictionary containing all keyword arguments that are passed in\n",
    "- can't provide these without names\n",
    "syntax\n",
    "```py\n",
    "def func(**kwargs):\n",
    "    pass\n",
    "```"
   ]
  },
  {
   "cell_type": "code",
   "execution_count": 3,
   "metadata": {},
   "outputs": [
    {
     "name": "stdout",
     "output_type": "stream",
     "text": [
      "{'name': 'Tony', 'age': 27}\n"
     ]
    }
   ],
   "source": [
    "def func(**kwargs): # **kwargs is a dictionary\n",
    "    print(kwargs)   # {'name': 'Tony', 'age': 27}\n",
    "\n",
    "func(name=\"Tony\", age=27)  # {'name': 'Tony', 'age': 27}"
   ]
  },
  {
   "cell_type": "markdown",
   "metadata": {},
   "source": [
    "#### return\n",
    "- If return is encountered in the function the function will be exited immediately and subsequent operations will not be evaluated"
   ]
  },
  {
   "cell_type": "markdown",
   "metadata": {},
   "source": [
    "#### return multiple values\n",
    "- You can also return multiple values (in the form of a tuple):"
   ]
  },
  {
   "cell_type": "code",
   "execution_count": 4,
   "metadata": {},
   "outputs": [
    {
     "data": {
      "text/plain": [
       "(4, 6, 8)"
      ]
     },
     "execution_count": 4,
     "metadata": {},
     "output_type": "execute_result"
    }
   ],
   "source": [
    "def calculate(x):\n",
    "    return x*2, x*3, x*4\n",
    "\n",
    "calculate(2)     # (4, 6, 8)"
   ]
  },
  {
   "cell_type": "markdown",
   "metadata": {},
   "source": [
    "#### optional and required arguments\n",
    "\n"
   ]
  },
  {
   "cell_type": "code",
   "execution_count": 5,
   "metadata": {},
   "outputs": [
    {
     "data": {
      "text/plain": [
       "4"
      ]
     },
     "execution_count": 5,
     "metadata": {},
     "output_type": "execute_result"
    }
   ],
   "source": [
    "# define calculate function with number as required parameter and power as optional parameter\n",
    "def calculate(number, power=2):\n",
    "    return number**power\n",
    "calculate(2)     # 4"
   ]
  }
 ],
 "metadata": {
  "interpreter": {
   "hash": "e7370f93d1d0cde622a1f8e1c04877d8463912d04d973331ad4851f04de6915a"
  },
  "kernelspec": {
   "display_name": "Python 3.10.2 64-bit",
   "language": "python",
   "name": "python3"
  },
  "language_info": {
   "codemirror_mode": {
    "name": "ipython",
    "version": 3
   },
   "file_extension": ".py",
   "mimetype": "text/x-python",
   "name": "python",
   "nbconvert_exporter": "python",
   "pygments_lexer": "ipython3",
   "version": "3.10.2"
  },
  "orig_nbformat": 4
 },
 "nbformat": 4,
 "nbformat_minor": 2
}
