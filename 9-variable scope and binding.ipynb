{
 "cells": [
  {
   "cell_type": "markdown",
   "metadata": {},
   "source": [
    "### variables scope and binding"
   ]
  },
  {
   "cell_type": "markdown",
   "metadata": {},
   "source": [
    "### Nonlocal Variables\n",
    "- variables that are defined in a nested function and are not local to the function.\n",
    "- nonlocal will allow you to assign to variables in an outer scope, but not a global scope"
   ]
  },
  {
   "cell_type": "code",
   "execution_count": null,
   "metadata": {},
   "outputs": [],
   "source": [
    "def counter():\n",
    "    num = 0\n",
    "    def increment():\n",
    "        num += 1    #UnboundLocalError: local variable 'num' referenced before assignment\n",
    "        return num\n",
    "    return increment    \n",
    "\n",
    "c = counter()\n",
    "print(c())"
   ]
  },
  {
   "cell_type": "code",
   "execution_count": 4,
   "metadata": {},
   "outputs": [
    {
     "name": "stdout",
     "output_type": "stream",
     "text": [
      "1\n"
     ]
    }
   ],
   "source": [
    "# adding nonlocal to the above code\n",
    "def counter():\n",
    "    num = 0\n",
    "    def increment():\n",
    "        nonlocal num\n",
    "        num += 1\n",
    "        return num\n",
    "    return increment\n",
    "\n",
    "c = counter()                #no error\n",
    "print(c())"
   ]
  },
  {
   "cell_type": "markdown",
   "metadata": {},
   "source": [
    "### global variables\n",
    "- variables inside functions are considered local if and only if they appear in the left side of an assignment\n",
    "statement, or some other binding occurrence; \n",
    "- otherwise such a binding is looked up in enclosing functions, up to the global scope"
   ]
  },
  {
   "cell_type": "code",
   "execution_count": 6,
   "metadata": {},
   "outputs": [
    {
     "name": "stdout",
     "output_type": "stream",
     "text": [
      "elon\n",
      "tesla\n"
     ]
    }
   ],
   "source": [
    "x = \"elon\"\n",
    "def scope():\n",
    "    print(x)\n",
    "\n",
    "scope()                    #elon -> assumed global\n",
    "\n",
    "x = \"elon\"\n",
    "def scope():\n",
    "    x = \"tesla\"\n",
    "    print(x)              \n",
    "    \n",
    "scope()                   #tesla -> local because addignment inside function"
   ]
  },
  {
   "cell_type": "markdown",
   "metadata": {},
   "source": [
    "#### global keyword\n",
    "-  a name global means that, for the rest of the scope, any assignments to the name will happen at the\n",
    "module's top level"
   ]
  },
  {
   "cell_type": "code",
   "execution_count": 7,
   "metadata": {},
   "outputs": [
    {
     "name": "stdout",
     "output_type": "stream",
     "text": [
      "bye\n",
      "bye\n"
     ]
    }
   ],
   "source": [
    "x = 'Hi'\n",
    "\n",
    "def scope():\n",
    "    global x\n",
    "    x = \"bye\"\n",
    "    print(x)\n",
    "\n",
    "scope()                   #x = bye -> global\n",
    "print(x)                  #x = bye -> global\n"
   ]
  },
  {
   "cell_type": "markdown",
   "metadata": {},
   "source": [
    "### del keyword\n",
    "- command del v removes the variable v from its scope\n",
    "-  del is a binding occurrence, which means that unless explicitly stated otherwise (using nonlocal\n",
    "or global), del v will make v local to the current scope. If you intend to delete v in an outer scope, use\n",
    "nonlocal v or global v in the same scope of the del v statement."
   ]
  }
 ],
 "metadata": {
  "interpreter": {
   "hash": "e7370f93d1d0cde622a1f8e1c04877d8463912d04d973331ad4851f04de6915a"
  },
  "kernelspec": {
   "display_name": "Python 3.10.2 64-bit",
   "language": "python",
   "name": "python3"
  },
  "language_info": {
   "codemirror_mode": {
    "name": "ipython",
    "version": 3
   },
   "file_extension": ".py",
   "mimetype": "text/x-python",
   "name": "python",
   "nbconvert_exporter": "python",
   "pygments_lexer": "ipython3",
   "version": "3.10.2"
  },
  "orig_nbformat": 4
 },
 "nbformat": 4,
 "nbformat_minor": 2
}
