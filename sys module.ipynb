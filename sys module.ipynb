{
 "cells": [
  {
   "cell_type": "markdown",
   "metadata": {},
   "source": [
    "### sys module\n",
    "\n",
    "`sys methods` | description | `sample output`\n",
    "--- | --- | ---\n",
    "`argv` | returns the command line arguments | `['sys.py', 'arg1', 'arg2']`\n",
    "`exit` | exits the program | `None`\n",
    "`exc_info` | returns information about the most recent exception | `(type(Exception), Exception, traceback)`\n",
    "`exc_clear` | clears the exception state for the current thread | `None`\n",
    "`getdefaultencoding` | returns the current default string encoding | `'utf-8'`\n",
    "`getfilesystemencoding` | returns the current file system encoding | `'utf-8'`\n",
    "`getrecursionlimit` | returns the current maximum recursion depth | `1000`\n",
    "`getrefcount` | returns the reference count for an object | `1`\n",
    "`getsizeof` | returns the size of an object in bytes | `40`\n",
    "`gettrace` | returns the current trace function | `None`\n",
    "`setrecursionlimit` | sets the maximum recursion depth | `None`\n",
    "`settrace` | sets the trace function | `None`\n",
    "`version` | returns the current Python version | `'2.7.9'`\n",
    "`version_info` | returns the Python version as tuple | `(2, 7, 9, 'final', 0)`\n",
    "`winver` | returns the current version of the Windows API | `'6.3.9600'`\n",
    "`platform` | returns the current platform | `'win32'`\n",
    "`maxint` | returns the largest integer supported by the current Python implementation | `9223372036854775807`\n",
    "`maxsize` | returns the largest integer supported by the current Python implementation | `9223372036854775807`\n",
    "`maxunicode` | returns the largest Unicode code point supported by the current Python implementation | `1114111`\n",
    "`byteorder` | returns the byte order ('little' or 'big') of the underlying architecture | `'little'`"
   ]
  }
 ],
 "metadata": {
  "language_info": {
   "name": "python"
  },
  "orig_nbformat": 4
 },
 "nbformat": 4,
 "nbformat_minor": 2
}
