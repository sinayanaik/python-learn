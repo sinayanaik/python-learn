{
 "cells": [
  {
   "cell_type": "markdown",
   "metadata": {},
   "source": [
    "### inspect module\n",
    "- inspect module used to : Get useful information from live Python objects\n",
    "\n",
    "`inspect methods`| descriptions\n",
    "---|---\n",
    "`isfunction`| Returns True if the object is a function.\n",
    "`ismethod`| Returns True if the object is a method.\n",
    "`isbuiltin`| Returns True if the object is a built-in function or method.\n",
    "`isroutine`| Returns True if the object is any kind of function or method.\n",
    "`isclass`| Returns True if the object is a class.\n",
    "`iskeyword`| Returns True if the object is a keyword (e.g. `True`, `False`, `None`).\n",
    "`isabstract`| Returns True if the object is an abstract base class (ABC).\n",
    "`ismodule`| Returns True if the object is a module.\n",
    "`isgenerator`| Returns True if the object is a generator.\n",
    "`isasyncgen`| Returns True if the object is an async generator.\n",
    "`isasyncgenfunction`| Returns True if the object is an async generator function.\n",
    "`isasyncgenclass`| Returns True if the object is an async generator class.\n",
    "`isabstractclass`| Returns True if the object is an abstract base class (ABC).\n",
    "`isnewstyleclass`| Returns True if the object is a new-style class.\n",
    "`isinstance`| Returns True if the object is an instance of the specified class.\n",
    "`isgeneratorfunction`| Returns True if the object is a generator function.\n",
    "`isgenerator`| Returns True if the object is a generator.\n",
    "`isabstractclass`| Returns True if the object is an abstract base class (ABC).\n",
    "`isabstractmethod`| Returns True if the object is an abstract method.\n",
    "`isasyncgenfunction`| Returns True if the object is an async generator function.\n",
    "`isasyncgen`| Returns True if the object is an async generator.\n",
    "`isasyncgenclass`| Returns True if the object is an async generator class.\n",
    "`isabstractmethod`| Returns True if the object is an abstract method.\n",
    "`isgeneratorfunction`| Returns True if the object is a generator function."
   ]
  },
  {
   "cell_type": "code",
   "execution_count": null,
   "metadata": {},
   "outputs": [],
   "source": [
    "import inspect\n",
    "dir(inspect)"
   ]
  }
 ],
 "metadata": {
  "interpreter": {
   "hash": "e7370f93d1d0cde622a1f8e1c04877d8463912d04d973331ad4851f04de6915a"
  },
  "kernelspec": {
   "display_name": "Python 3.10.2 64-bit",
   "language": "python",
   "name": "python3"
  },
  "language_info": {
   "codemirror_mode": {
    "name": "ipython",
    "version": 3
   },
   "file_extension": ".py",
   "mimetype": "text/x-python",
   "name": "python",
   "nbconvert_exporter": "python",
   "pygments_lexer": "ipython3",
   "version": "3.10.2"
  },
  "orig_nbformat": 4
 },
 "nbformat": 4,
 "nbformat_minor": 2
}
