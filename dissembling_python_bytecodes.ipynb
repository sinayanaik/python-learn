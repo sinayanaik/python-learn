{
 "cells": [
  {
   "cell_type": "code",
   "execution_count": 1,
   "metadata": {},
   "outputs": [
    {
     "name": "stdout",
     "output_type": "stream",
     "text": [
      "120\n"
     ]
    }
   ],
   "source": [
    "# function for factorial\n",
    "def factorial(n):\n",
    "    if n == 0:\n",
    "        return 1\n",
    "    else:\n",
    "        return n * factorial(n-1)\n",
    "\n",
    "print(factorial(5))"
   ]
  },
  {
   "cell_type": "code",
   "execution_count": 3,
   "metadata": {},
   "outputs": [
    {
     "name": "stdout",
     "output_type": "stream",
     "text": [
      "  3           0 LOAD_FAST                0 (n)\n",
      "              2 LOAD_CONST               1 (0)\n",
      "              4 COMPARE_OP               2 (==)\n",
      "              6 POP_JUMP_IF_FALSE        6 (to 12)\n",
      "\n",
      "  4           8 LOAD_CONST               2 (1)\n",
      "             10 RETURN_VALUE\n",
      "\n",
      "  6     >>   12 LOAD_FAST                0 (n)\n",
      "             14 LOAD_GLOBAL              0 (factorial)\n",
      "             16 LOAD_FAST                0 (n)\n",
      "             18 LOAD_CONST               2 (1)\n",
      "             20 BINARY_SUBTRACT\n",
      "             22 CALL_FUNCTION            1\n",
      "             24 BINARY_MULTIPLY\n",
      "             26 RETURN_VALUE\n",
      "None\n"
     ]
    }
   ],
   "source": [
    "# bytecodes\n",
    "import dis\n",
    "print(dis.dis(factorial))"
   ]
  }
 ],
 "metadata": {
  "kernelspec": {
   "display_name": "Python 3.10.5 64-bit",
   "language": "python",
   "name": "python3"
  },
  "language_info": {
   "codemirror_mode": {
    "name": "ipython",
    "version": 3
   },
   "file_extension": ".py",
   "mimetype": "text/x-python",
   "name": "python",
   "nbconvert_exporter": "python",
   "pygments_lexer": "ipython3",
   "version": "3.10.5"
  },
  "orig_nbformat": 4,
  "vscode": {
   "interpreter": {
    "hash": "e7370f93d1d0cde622a1f8e1c04877d8463912d04d973331ad4851f04de6915a"
   }
  }
 },
 "nbformat": 4,
 "nbformat_minor": 2
}
