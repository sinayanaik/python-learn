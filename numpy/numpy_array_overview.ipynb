{
 "cells": [
  {
   "cell_type": "markdown",
   "metadata": {},
   "source": [
    "#### numpy : provides high-performance multidimensional array object\n",
    "\n",
    "##### array\n",
    "- grid of homogeneous values\n",
    "- indexed by tuple of ints\n",
    "- rank : number of dimensions\n",
    "- shape : tuple of ints\n"
   ]
  },
  {
   "cell_type": "markdown",
   "metadata": {},
   "source": [
    "### array creation\n"
   ]
  },
  {
   "cell_type": "markdown",
   "metadata": {},
   "source": [
    "#### 1-D array"
   ]
  },
  {
   "cell_type": "code",
   "execution_count": 11,
   "metadata": {},
   "outputs": [
    {
     "name": "stdout",
     "output_type": "stream",
     "text": [
      "a : [1 2 3 4 5]\n",
      "a.shape : (5,) row x column\n",
      "a.ndim also rank: 1\n",
      "a.dtype : int64\n",
      "a.size : 5\n",
      "a.itemsize : 8\n",
      "a.nbytes : 40\n",
      "a.data : <memory at 0x7f8f9a2290c0>\n",
      "a.flags :   C_CONTIGUOUS : True\n",
      "  F_CONTIGUOUS : True\n",
      "  OWNDATA : True\n",
      "  WRITEABLE : True\n",
      "  ALIGNED : True\n",
      "  WRITEBACKIFCOPY : False\n",
      "  UPDATEIFCOPY : False\n",
      "\n",
      "---\n"
     ]
    }
   ],
   "source": [
    "import numpy as np\n",
    "\n",
    "a = np.array([1, 2, 3, 4, 5]) # rank 1 array\n",
    "print(f\"a : {a}\")\n",
    "print(f\"a.shape : {a.shape} row x column\")\n",
    "print(f\"a.ndim also rank: {a.ndim}\")\n",
    "print(f\"a.dtype : {a.dtype}\")\n",
    "print(f\"a.size : {a.size}\")\n",
    "print(f\"a.itemsize : {a.itemsize}\")\n",
    "print(f\"a.nbytes : {a.nbytes}\")\n",
    "print(f\"a.data : {a.data}\")\n",
    "print(f\"a.flags : {a.flags}\")\n",
    "print(\"---\")"
   ]
  },
  {
   "cell_type": "markdown",
   "metadata": {},
   "source": [
    "#### 2-D array"
   ]
  },
  {
   "cell_type": "code",
   "execution_count": 12,
   "metadata": {},
   "outputs": [
    {
     "name": "stdout",
     "output_type": "stream",
     "text": [
      "b : [[ 1  2  3  4  5]\n",
      " [ 6  7  8  9 10]]\n",
      "b.shape : (2, 5) , row x col\n",
      "b.ndim also rank: 2\n",
      "b.dtype : int64\n",
      "b.size : 10\n",
      "b.itemsize : 8\n",
      "b.nbytes : 80\n",
      "b.data : <memory at 0x7f8f9a75f030>\n",
      "b.flags :   C_CONTIGUOUS : True\n",
      "  F_CONTIGUOUS : False\n",
      "  OWNDATA : True\n",
      "  WRITEABLE : True\n",
      "  ALIGNED : True\n",
      "  WRITEBACKIFCOPY : False\n",
      "  UPDATEIFCOPY : False\n",
      "\n",
      "---\n"
     ]
    }
   ],
   "source": [
    "b = np.array([[1, 2, 3, 4, 5], [6, 7, 8, 9, 10]]) # rank 2 array\n",
    "print(f\"b : {b}\")\n",
    "print(f\"b.shape : {b.shape} , row x col\")\n",
    "print(f\"b.ndim also rank: {b.ndim}\")\n",
    "print(f\"b.dtype : {b.dtype}\")\n",
    "print(f\"b.size : {b.size}\")\n",
    "print(f\"b.itemsize : {b.itemsize}\")\n",
    "print(f\"b.nbytes : {b.nbytes}\")\n",
    "print(f\"b.data : {b.data}\")\n",
    "print(f\"b.flags : {b.flags}\")\n",
    "print(\"---\")"
   ]
  },
  {
   "cell_type": "markdown",
   "metadata": {},
   "source": [
    "#### functions to create arrays"
   ]
  },
  {
   "cell_type": "code",
   "execution_count": 13,
   "metadata": {},
   "outputs": [
    {
     "name": "stdout",
     "output_type": "stream",
     "text": [
      "a : [[0. 0. 0.]\n",
      " [0. 0. 0.]]\n"
     ]
    }
   ],
   "source": [
    "# np.zeroes((row,col), dtype=float)) \n",
    "a = np.zeros((2, 3)) # rank 2 array\n",
    "print(f\"a : {a}\")"
   ]
  },
  {
   "cell_type": "code",
   "execution_count": 14,
   "metadata": {},
   "outputs": [
    {
     "name": "stdout",
     "output_type": "stream",
     "text": [
      "b : [[1. 1. 1.]\n",
      " [1. 1. 1.]]\n"
     ]
    }
   ],
   "source": [
    "# np.ones((row,col), dtype=float))\n",
    "b = np.ones((2, 3)) # rank 2 array\n",
    "print(f\"b : {b}\")"
   ]
  },
  {
   "cell_type": "code",
   "execution_count": 16,
   "metadata": {},
   "outputs": [
    {
     "name": "stdout",
     "output_type": "stream",
     "text": [
      "c : [[9 9 9]\n",
      " [9 9 9]]\n"
     ]
    }
   ],
   "source": [
    "# np.full((row,col), value, dtype=float))\n",
    "c = np.full((2, 3), 9) # rank 2 array\n",
    "print(f\"c : {c}\")"
   ]
  },
  {
   "cell_type": "code",
   "execution_count": 17,
   "metadata": {},
   "outputs": [
    {
     "name": "stdout",
     "output_type": "stream",
     "text": [
      "d : [[1. 0. 0.]\n",
      " [0. 1. 0.]\n",
      " [0. 0. 1.]]\n"
     ]
    }
   ],
   "source": [
    "# np.eye(x) : creates an identity matrix of size x times x\n",
    "d = np.eye(3) # rank 2 array\n",
    "print(f\"d : {d}\")"
   ]
  },
  {
   "cell_type": "code",
   "execution_count": 24,
   "metadata": {},
   "outputs": [
    {
     "name": "stdout",
     "output_type": "stream",
     "text": [
      "e : [[0.0777603  0.12773271 0.91918806]\n",
      " [0.25679501 0.92738817 0.60518808]]\n"
     ]
    }
   ],
   "source": [
    "# np.random.random((row,col), dtype=float)) : creates a random array of size row x col\n",
    "e = np.random.random((2, 3)) # rank 2 array\n",
    "print(f\"e : {e}\")\n"
   ]
  },
  {
   "cell_type": "code",
   "execution_count": 26,
   "metadata": {},
   "outputs": [
    {
     "name": "stdout",
     "output_type": "stream",
     "text": [
      "f : [0 2 4 6 8]\n"
     ]
    }
   ],
   "source": [
    "# np.arange(start[including], stop[excluding], step) \n",
    "f = np.arange(0, 10, 2) # rank 1 array\n",
    "print(f\"f : {f}\")\n"
   ]
  },
  {
   "cell_type": "code",
   "execution_count": 28,
   "metadata": {},
   "outputs": [
    {
     "name": "stdout",
     "output_type": "stream",
     "text": [
      "g : [ 0.  1.  2.  3.  4.  5.  6.  7.  8.  9. 10.]\n"
     ]
    }
   ],
   "source": [
    "# np.linspace(start[including], stop[including], space) : creates an array of num evenly spaced values between start and stop\n",
    "g = np.linspace(0, 10, 11) # rank 1 array\n",
    "print(f\"g : {g}\")"
   ]
  },
  {
   "cell_type": "code",
   "execution_count": 65,
   "metadata": {},
   "outputs": [
    {
     "name": "stdout",
     "output_type": "stream",
     "text": [
      "h : [3 2 3 3 3]\n"
     ]
    }
   ],
   "source": [
    "# np.random.randint(low, high[excluding], size) : creates an array of random integers between low and high\n",
    "h = np.random.randint(2, 4, 5) # rank 1 array\n",
    "print(f\"h : {h}\")"
   ]
  },
  {
   "cell_type": "markdown",
   "metadata": {},
   "source": [
    "### array indexing\n"
   ]
  },
  {
   "cell_type": "markdown",
   "metadata": {},
   "source": [
    "#### slicing\n",
    "- A slice of an array is a view into the same data, so modifying it will modify the original array."
   ]
  },
  {
   "cell_type": "code",
   "execution_count": 68,
   "metadata": {},
   "outputs": [
    {
     "name": "stdout",
     "output_type": "stream",
     "text": [
      "a : [0 1 2 3 4 5 6 7 8 9]\n",
      "b : [2 3]\n"
     ]
    }
   ],
   "source": [
    "# slicing syntax : a[start[including]:stop[excluding]:step]\n",
    "a = np.array([0,1,2,3,4,5,6,7,8,9])\n",
    "print(f\"a : {a}\")\n",
    "\n",
    "b = a[2:4] # slicing\n",
    "print(f\"b : {b}\")\n"
   ]
  },
  {
   "cell_type": "code",
   "execution_count": 70,
   "metadata": {},
   "outputs": [
    {
     "name": "stdout",
     "output_type": "stream",
     "text": [
      "b : [10  3]\n",
      "a : [ 0  1 10  3  4  5  6  7  8  9]\n"
     ]
    }
   ],
   "source": [
    "b [0] = 10 # change value\n",
    "print(f\"b : {b}\")\n",
    "print(f\"a : {a}\") # a will change because b is a view of a"
   ]
  },
  {
   "cell_type": "markdown",
   "metadata": {},
   "source": [
    "#### 2-D slicing"
   ]
  },
  {
   "cell_type": "code",
   "execution_count": 71,
   "metadata": {},
   "outputs": [
    {
     "name": "stdout",
     "output_type": "stream",
     "text": [
      "two_d_array : [[1 2 3]\n",
      " [4 5 6]]\n",
      "two_d_array[0] : [1 2 3]\n",
      "two_d_array[0][0] : 1\n"
     ]
    }
   ],
   "source": [
    "two_d_array = np.array([[1, 2, 3], [4, 5, 6]])\n",
    "print(f\"two_d_array : {two_d_array}\")\n",
    "\n",
    "print(f\"two_d_array[0] : {two_d_array[0]}\")\n",
    "print(f\"two_d_array[0][0] : {two_d_array[0][0]}\")\n"
   ]
  },
  {
   "cell_type": "markdown",
   "metadata": {},
   "source": [
    "#### integer array indexing\n"
   ]
  },
  {
   "cell_type": "code",
   "execution_count": 78,
   "metadata": {},
   "outputs": [
    {
     "name": "stdout",
     "output_type": "stream",
     "text": [
      "a : [[1 2 3]\n",
      " [4 5 6]]\n",
      "a[[0, 1, 1], [0, 1, 0]] : [1 5 4]\n",
      "np.array([a[0, 0], a[1, 1], a[1, 0]]) : [1 5 4]\n"
     ]
    }
   ],
   "source": [
    "a = np.array([[1, 2, 3], [4, 5, 6]])\n",
    "print(f\"a : {a}\")\n",
    "\n",
    "print(f\"a[[0, 1, 1], [0, 1, 0]] : {a[[0, 1, 1], [0, 1, 0]]}\")\n",
    "\n",
    "# The above example of integer array indexing is equivalent to this:\n",
    "print(f\"np.array([a[0, 0], a[1, 1], a[1, 0]]) : {np.array([a[0, 0], a[1, 1], a[1, 0]])}\") "
   ]
  },
  {
   "cell_type": "markdown",
   "metadata": {},
   "source": [
    "#### boolean array indexing\n",
    "-  used to select the elements of an array that satisfy some condition"
   ]
  },
  {
   "cell_type": "code",
   "execution_count": 85,
   "metadata": {},
   "outputs": [
    {
     "name": "stdout",
     "output_type": "stream",
     "text": [
      "a : [[1 2 3]\n",
      " [4 5 6]]\n",
      "a[a > 2] : [3 4 5 6]\n",
      "a[a % 2 ==0] : [2 4 6]\n"
     ]
    }
   ],
   "source": [
    "a = np.array([[1, 2, 3], [4, 5, 6]])\n",
    "print(f\"a : {a}\")\n",
    "\n",
    "print(f\"a[a > 2] : {a[a > 2]}\")\n",
    "print(f\"a[a % 2 ==0] : {a[a % 2 == 0]}\")"
   ]
  },
  {
   "cell_type": "markdown",
   "metadata": {},
   "source": [
    "### datatypes\n"
   ]
  },
  {
   "cell_type": "code",
   "execution_count": 87,
   "metadata": {},
   "outputs": [
    {
     "name": "stdout",
     "output_type": "stream",
     "text": [
      "np.sctypeDict : {'?': <class 'numpy.bool_'>, 0: <class 'numpy.bool_'>, 'byte': <class 'numpy.int8'>, 'b': <class 'numpy.int8'>, 1: <class 'numpy.int8'>, 'ubyte': <class 'numpy.uint8'>, 'B': <class 'numpy.uint8'>, 2: <class 'numpy.uint8'>, 'short': <class 'numpy.int16'>, 'h': <class 'numpy.int16'>, 3: <class 'numpy.int16'>, 'ushort': <class 'numpy.uint16'>, 'H': <class 'numpy.uint16'>, 4: <class 'numpy.uint16'>, 'i': <class 'numpy.int32'>, 5: <class 'numpy.int32'>, 'uint': <class 'numpy.uint64'>, 'I': <class 'numpy.uint32'>, 6: <class 'numpy.uint32'>, 'intp': <class 'numpy.int64'>, 'p': <class 'numpy.int64'>, 7: <class 'numpy.int64'>, 'uintp': <class 'numpy.uint64'>, 'P': <class 'numpy.uint64'>, 8: <class 'numpy.uint64'>, 'long': <class 'numpy.int64'>, 'l': <class 'numpy.int64'>, 'L': <class 'numpy.uint64'>, 'longlong': <class 'numpy.longlong'>, 'q': <class 'numpy.longlong'>, 9: <class 'numpy.longlong'>, 'ulonglong': <class 'numpy.ulonglong'>, 'Q': <class 'numpy.ulonglong'>, 10: <class 'numpy.ulonglong'>, 'half': <class 'numpy.float16'>, 'e': <class 'numpy.float16'>, 23: <class 'numpy.float16'>, 'f': <class 'numpy.float32'>, 11: <class 'numpy.float32'>, 'double': <class 'numpy.float64'>, 'd': <class 'numpy.float64'>, 12: <class 'numpy.float64'>, 'longdouble': <class 'numpy.float128'>, 'g': <class 'numpy.float128'>, 13: <class 'numpy.float128'>, 'cfloat': <class 'numpy.complex128'>, 'F': <class 'numpy.complex64'>, 14: <class 'numpy.complex64'>, 'cdouble': <class 'numpy.complex128'>, 'D': <class 'numpy.complex128'>, 15: <class 'numpy.complex128'>, 'clongdouble': <class 'numpy.complex256'>, 'G': <class 'numpy.complex256'>, 16: <class 'numpy.complex256'>, 'O': <class 'numpy.object_'>, 17: <class 'numpy.object_'>, 'S': <class 'numpy.bytes_'>, 18: <class 'numpy.bytes_'>, 'unicode': <class 'numpy.str_'>, 'U': <class 'numpy.str_'>, 19: <class 'numpy.str_'>, 'void': <class 'numpy.void'>, 'V': <class 'numpy.void'>, 20: <class 'numpy.void'>, 'M': <class 'numpy.datetime64'>, 21: <class 'numpy.datetime64'>, 'm': <class 'numpy.timedelta64'>, 22: <class 'numpy.timedelta64'>, 'bool8': <class 'numpy.bool_'>, 'b1': <class 'numpy.bool_'>, 'int64': <class 'numpy.int64'>, 'i8': <class 'numpy.int64'>, 'uint64': <class 'numpy.uint64'>, 'u8': <class 'numpy.uint64'>, 'float16': <class 'numpy.float16'>, 'f2': <class 'numpy.float16'>, 'float32': <class 'numpy.float32'>, 'f4': <class 'numpy.float32'>, 'float64': <class 'numpy.float64'>, 'f8': <class 'numpy.float64'>, 'float128': <class 'numpy.float128'>, 'f16': <class 'numpy.float128'>, 'complex64': <class 'numpy.complex64'>, 'c8': <class 'numpy.complex64'>, 'complex128': <class 'numpy.complex128'>, 'c16': <class 'numpy.complex128'>, 'complex256': <class 'numpy.complex256'>, 'c32': <class 'numpy.complex256'>, 'object0': <class 'numpy.object_'>, 'bytes0': <class 'numpy.bytes_'>, 'str0': <class 'numpy.str_'>, 'void0': <class 'numpy.void'>, 'datetime64': <class 'numpy.datetime64'>, 'M8': <class 'numpy.datetime64'>, 'timedelta64': <class 'numpy.timedelta64'>, 'm8': <class 'numpy.timedelta64'>, 'int32': <class 'numpy.int32'>, 'i4': <class 'numpy.int32'>, 'uint32': <class 'numpy.uint32'>, 'u4': <class 'numpy.uint32'>, 'int16': <class 'numpy.int16'>, 'i2': <class 'numpy.int16'>, 'uint16': <class 'numpy.uint16'>, 'u2': <class 'numpy.uint16'>, 'int8': <class 'numpy.int8'>, 'i1': <class 'numpy.int8'>, 'uint8': <class 'numpy.uint8'>, 'u1': <class 'numpy.uint8'>, 'complex_': <class 'numpy.complex128'>, 'int0': <class 'numpy.int64'>, 'uint0': <class 'numpy.uint64'>, 'single': <class 'numpy.float32'>, 'csingle': <class 'numpy.complex64'>, 'singlecomplex': <class 'numpy.complex64'>, 'float_': <class 'numpy.float64'>, 'intc': <class 'numpy.int32'>, 'uintc': <class 'numpy.uint32'>, 'int_': <class 'numpy.int64'>, 'longfloat': <class 'numpy.float128'>, 'clongfloat': <class 'numpy.complex256'>, 'longcomplex': <class 'numpy.complex256'>, 'bool_': <class 'numpy.bool_'>, 'bytes_': <class 'numpy.bytes_'>, 'string_': <class 'numpy.bytes_'>, 'str_': <class 'numpy.str_'>, 'unicode_': <class 'numpy.str_'>, 'object_': <class 'numpy.object_'>, 'int': <class 'numpy.int64'>, 'float': <class 'numpy.float64'>, 'complex': <class 'numpy.complex128'>, 'bool': <class 'numpy.bool_'>, 'object': <class 'numpy.object_'>, 'str': <class 'numpy.str_'>, 'bytes': <class 'numpy.bytes_'>, 'a': <class 'numpy.bytes_'>}\n"
     ]
    }
   ],
   "source": [
    "# list all the datatypes in numpy\n",
    "print(f\"np.sctypeDict : {np.sctypeDict}\")\n"
   ]
  },
  {
   "cell_type": "code",
   "execution_count": 90,
   "metadata": {},
   "outputs": [
    {
     "name": "stdout",
     "output_type": "stream",
     "text": [
      "x : [1 2 3 4 5], x.dtype : int64\n",
      "x : [1.2 2.3 3.4 4.5 5.6], x.dtype : float64\n"
     ]
    }
   ],
   "source": [
    "x = np.array([1, 2, 3, 4, 5])\n",
    "print(f\"x : {x}, x.dtype : {x.dtype}\")\n",
    "\n",
    "x = np.array([1.2, 2.3, 3.4, 4.5, 5.6])\n",
    "print(f\"x : {x}, x.dtype : {x.dtype}\")"
   ]
  },
  {
   "cell_type": "markdown",
   "metadata": {},
   "source": [
    "##### force a particular type\n",
    "\n",
    "\n",
    "\n"
   ]
  },
  {
   "cell_type": "code",
   "execution_count": 91,
   "metadata": {},
   "outputs": [
    {
     "name": "stdout",
     "output_type": "stream",
     "text": [
      "x : [1 2], x.dtype : int64\n"
     ]
    }
   ],
   "source": [
    "x = np.array([1, 2], dtype=np.int64)\n",
    "print(f\"x : {x}, x.dtype : {x.dtype}\")\n",
    "\n"
   ]
  },
  {
   "cell_type": "markdown",
   "metadata": {},
   "source": [
    "### array math\n",
    "\n",
    "- Basic mathematical functions operate elementwise on arrays, \n",
    "- and are available both as operator overloads and as functions in the numpy module:"
   ]
  },
  {
   "cell_type": "code",
   "execution_count": 92,
   "metadata": {},
   "outputs": [
    {
     "name": "stdout",
     "output_type": "stream",
     "text": [
      "x : [1 2 3 4 5], x.dtype : int64\n",
      "y : [ 6  7  8  9 10], y.dtype : int64\n",
      "x+y : [ 7  9 11 13 15]\n",
      "x-y : [-5 -5 -5 -5 -5]\n",
      "x*y : [ 6 14 24 36 50]\n",
      "x/y : [0.16666667 0.28571429 0.375      0.44444444 0.5       ]\n",
      "x//y : [0 0 0 0 0]\n",
      "x%y : [1 2 3 4 5]\n",
      "x**y : [      1     128    6561  262144 9765625]\n"
     ]
    }
   ],
   "source": [
    "x = np.array([1, 2, 3, 4, 5])\n",
    "y = np.array([6, 7, 8, 9, 10])\n",
    "\n",
    "print(f\"x : {x}, x.dtype : {x.dtype}\")\n",
    "print(f\"y : {y}, y.dtype : {y.dtype}\")\n",
    "print(f\"x+y : {x+y}\")\n",
    "print(f\"x-y : {x-y}\")\n",
    "print(f\"x*y : {x*y}\")\n",
    "print(f\"x/y : {x/y}\")\n",
    "print(f\"x//y : {x//y}\")\n",
    "print(f\"x%y : {x%y}\")\n",
    "print(f\"x**y : {x**y}\")"
   ]
  },
  {
   "cell_type": "markdown",
   "metadata": {},
   "source": [
    "##### as functions"
   ]
  },
  {
   "cell_type": "code",
   "execution_count": 93,
   "metadata": {},
   "outputs": [
    {
     "name": "stdout",
     "output_type": "stream",
     "text": [
      "x+y : [ 7  9 11 13 15]\n",
      "x-y : [-5 -5 -5 -5 -5]\n",
      "x*y : [ 6 14 24 36 50]\n",
      "x/y : [0.16666667 0.28571429 0.375      0.44444444 0.5       ]\n",
      "x//y : [0 0 0 0 0]\n",
      "x%y : [1 2 3 4 5]\n",
      "x**y : [      1     128    6561  262144 9765625]\n"
     ]
    }
   ],
   "source": [
    "x  = np.array([1, 2, 3, 4, 5])\n",
    "y = np.array([6, 7, 8, 9, 10])\n",
    "\n",
    "print(f\"x+y : {np.add(x, y)}\")\n",
    "print(f\"x-y : {np.subtract(x, y)}\")\n",
    "print(f\"x*y : {np.multiply(x, y)}\")\n",
    "print(f\"x/y : {np.divide(x, y)}\")\n",
    "print(f\"x//y : {np.floor_divide(x, y)}\")\n",
    "print(f\"x%y : {np.mod(x, y)}\")\n",
    "print(f\"x**y : {np.power(x, y)}\")\n"
   ]
  },
  {
   "cell_type": "markdown",
   "metadata": {},
   "source": [
    "#### useful functions\n"
   ]
  },
  {
   "cell_type": "code",
   "execution_count": 94,
   "metadata": {},
   "outputs": [
    {
     "name": "stdout",
     "output_type": "stream",
     "text": [
      "np.dot(x, y) : [[19 22]\n",
      " [43 50]]\n"
     ]
    }
   ],
   "source": [
    "# dot\n",
    "x = np.array([[1, 2], [3, 4]])\n",
    "y = np.array([[5, 6], [7, 8]])\n",
    "\n",
    "# np.dot : dot product of two arrays\n",
    "print(f\"np.dot(x, y) : {np.dot(x, y)}\")\n"
   ]
  },
  {
   "cell_type": "code",
   "execution_count": 95,
   "metadata": {},
   "outputs": [
    {
     "name": "stdout",
     "output_type": "stream",
     "text": [
      "np.sum(x) : 10\n",
      "np.sum(x, axis=0) : [4 6]\n",
      "np.sum(x, axis=1) : [3 7]\n"
     ]
    }
   ],
   "source": [
    "# sum\n",
    "x = np.array([[1, 2], [3, 4]])\n",
    "print(f\"np.sum(x) : {np.sum(x)}\")\n",
    "print(f\"np.sum(x, axis=0) : {np.sum(x, axis=0)}\")\n",
    "print(f\"np.sum(x, axis=1) : {np.sum(x, axis=1)}\")\n"
   ]
  },
  {
   "cell_type": "code",
   "execution_count": 96,
   "metadata": {},
   "outputs": [
    {
     "name": "stdout",
     "output_type": "stream",
     "text": [
      "x : [[1 2]\n",
      " [3 4]]\n",
      "x.T : [[1 3]\n",
      " [2 4]]\n"
     ]
    }
   ],
   "source": [
    "# transpose\n",
    "\n",
    "x = np.array([[1, 2], [3, 4]])\n",
    "print(f\"x : {x}\")\n",
    "print(f\"x.T : {x.T}\")\n"
   ]
  },
  {
   "cell_type": "markdown",
   "metadata": {},
   "source": [
    "### Broadcasting\n",
    "- powerful mechanism that allows numpy to work with arrays of different shapes when performing arithmetic operations."
   ]
  }
 ],
 "metadata": {
  "kernelspec": {
   "display_name": "Python 3.10.5 64-bit",
   "language": "python",
   "name": "python3"
  },
  "language_info": {
   "codemirror_mode": {
    "name": "ipython",
    "version": 3
   },
   "file_extension": ".py",
   "mimetype": "text/x-python",
   "name": "python",
   "nbconvert_exporter": "python",
   "pygments_lexer": "ipython3",
   "version": "3.10.5"
  },
  "orig_nbformat": 4,
  "vscode": {
   "interpreter": {
    "hash": "e7370f93d1d0cde622a1f8e1c04877d8463912d04d973331ad4851f04de6915a"
   }
  }
 },
 "nbformat": 4,
 "nbformat_minor": 2
}
