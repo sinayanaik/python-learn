{
 "cells": [
  {
   "cell_type": "code",
   "execution_count": null,
   "metadata": {},
   "outputs": [],
   "source": [
    "import types\n",
    "dir(types)"
   ]
  },
  {
   "cell_type": "markdown",
   "metadata": {},
   "source": [
    "### types module\n",
    "\n",
    "types methods | descriptions\n",
    "---|---\n",
    "`AsyncGeneratorType`| async generator\n",
    "`AsyncIterable`| async iterable\n",
    "`AsyncIterator`| async iterator\n",
    "`Callable`| callable\n",
    "`ClassVar`| class variable\n",
    "`Coroutine`| coroutine\n",
    "`Generator`| generator\n",
    "`Hashable`| hashable\n",
    "`Iterable`| iterable\n",
    "`Iterator`| iterator\n",
    "`Mapping`| mapping\n",
    "`MutableMapping`| mutable mapping\n",
    "`MutableSequence`| mutable sequence\n",
    "`MutableSet`| mutable set\n",
    "`Optional`| optional\n",
    "`Pattern`| pattern\n",
    "`Sequence`| sequence\n",
    "`Set`| set\n",
    "`Sized`| sized\n",
    "`SupportsAbs`| supports abs\n",
    "`SupportsBytes`| supports bytes\n",
    "`SupportsComplex`| supports complex\n",
    "`SupportsFloat`| supports float\n",
    "`SupportsInt`| supports int\n",
    "`SupportsRound`| supports round\n",
    "`Text`| text\n",
    "`Tuple`| tuple\n",
    "`Type`| type\n",
    "`Union`| union\n"
   ]
  }
 ],
 "metadata": {
  "interpreter": {
   "hash": "e7370f93d1d0cde622a1f8e1c04877d8463912d04d973331ad4851f04de6915a"
  },
  "kernelspec": {
   "display_name": "Python 3.10.2 64-bit",
   "language": "python",
   "name": "python3"
  },
  "language_info": {
   "codemirror_mode": {
    "name": "ipython",
    "version": 3
   },
   "file_extension": ".py",
   "mimetype": "text/x-python",
   "name": "python",
   "nbconvert_exporter": "python",
   "pygments_lexer": "ipython3",
   "version": "3.10.2"
  },
  "orig_nbformat": 4
 },
 "nbformat": 4,
 "nbformat_minor": 2
}
