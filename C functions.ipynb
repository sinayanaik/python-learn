{
 "cells": [
  {
   "cell_type": "markdown",
   "metadata": {},
   "source": [
    "ctypes — A foreign function library for Python\n",
    "\n",
    "DLLs or shared libraries."
   ]
  },
  {
   "cell_type": "markdown",
   "metadata": {},
   "source": [
    "create C file with some functions\n",
    "\n",
    "```c\n",
    "// in script.c\n",
    "\n",
    "#include <stdio.h>\n",
    "\n",
    "int square(int i) {\n",
    "\treturn i * i;\n",
    "}\n",
    "\n",
    "\n",
    "```"
   ]
  },
  {
   "cell_type": "markdown",
   "metadata": {},
   "source": [
    "create a shared library file\n",
    "\n",
    "```bash\n",
    "cc -fPIC -shared -o libscript.so script.c\n",
    "```"
   ]
  },
  {
   "cell_type": "markdown",
   "metadata": {},
   "source": [
    "calling C functions from python"
   ]
  },
  {
   "cell_type": "code",
   "execution_count": null,
   "metadata": {},
   "outputs": [],
   "source": [
    "from ctypes import *\n",
    "\n",
    "shared_C_lib = CDLL(\"./libfunctions.so\")\n",
    "\n",
    "print(shared_C_lib.square(2))"
   ]
  }
 ],
 "metadata": {
  "interpreter": {
   "hash": "e7370f93d1d0cde622a1f8e1c04877d8463912d04d973331ad4851f04de6915a"
  },
  "kernelspec": {
   "display_name": "Python 3.10.4 64-bit",
   "language": "python",
   "name": "python3"
  },
  "language_info": {
   "name": "python",
   "version": "3.10.4"
  },
  "orig_nbformat": 4
 },
 "nbformat": 4,
 "nbformat_minor": 2
}
