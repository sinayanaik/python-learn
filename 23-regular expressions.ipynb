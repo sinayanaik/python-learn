{
 "cells": [
  {
   "cell_type": "markdown",
   "metadata": {},
   "source": [
    "### regular expressions\n",
    "- Regular expressions are combinations of characters that are interpreted as rules for matching substrings\n",
    "\n",
    "#### RegEx Functions\n",
    "\n",
    "`function` | description | `syntax`\n",
    "--- | --- | ---\n",
    "`search()` | searches for a match in a string | `re.search(pattern, string)`\n",
    "`match()` | searches for the first match in a string | `re.match(pattern, string)`\n",
    "`findall()` | returns a list of all matches in a string | `re.findall(pattern, string)`\n",
    "`finditer()` | returns an iterator of all matches in a string | `re.finditer(pattern, string)`\n",
    "`split()` | splits a string into a list of substrings | `re.split(pattern, string)`\n",
    "`sub()` | replaces matches with a string | `re.sub(pattern, repl, string)`\n",
    "`subn()` | replaces matches with a string and returns the number of replacements | `re.subn(pattern, repl, string)`\n",
    "`escape()` | escapes a string | `re.escape(string)`\n",
    "\n",
    "#### metacharacters\n",
    "- characters with a special meaning\n",
    "\n",
    "`character` | description | `example`\n",
    "--- | --- | ---\n",
    "`[]` | character set | `[a-m]`\n",
    "`\\` | escape character | `\\d`\n",
    "`^` | start of string | `^\\d`\n",
    "`$` | end of string | `\\d$`\n",
    "`.` | any character | `\\d.`\n",
    "`*` | zero or more occurrences | `\\d*`\n",
    "`+` | one or more occurrences | `\\d+`\n",
    "`?` | zero or one occurrence | `\\d?`\n",
    "`{}` | number of occurrences | `\\d{3}`\n",
    "`\\|` | either or | `\\d\\|\\w`\n",
    "`( )` | grouping | `\\d(a\\|b)`\n",
    "\n",
    "\n",
    "\n",
    "#### special sequences\n",
    "\n",
    "`character`| description | `example`\n",
    "--- | --- | ---\n",
    "`\\d` | digit | `\\d`\n",
    "`\\D` | non-digit | `\\D`\n",
    "`\\s` | whitespace | `\\s`\n",
    "`\\S` | non-whitespace | `\\S`\n",
    "`\\w` | word character | `\\w`\n",
    "`\\W` | non-word character | `\\W`\n",
    "`\\b` | word boundary | `\\b`\n",
    "`\\B` | non-word boundary | `\\B`\n",
    "`\\Z` | end of string | `\\Z`\n",
    "`\\A` | start of string | `\\A`\n",
    "`\\z` | end of string | `\\z`\n",
    "`\\n` | newline | `\\n`\n",
    "`\\t` | tab | `\\t`\n",
    "`\\` | backslash | `\\`\n",
    "`\\f` | formfeed | `\\f`\n",
    "`\\r` | carriage return | `\\r`\n",
    "\n",
    "\n",
    "#### sets\n",
    "\n",
    "`set`| description | `example`\n",
    "--- | --- | ---\n",
    "`[abc]` | any character in the set | `[abc]`\n",
    "`[^abc]` | any character not in the set | `[^abc]`\n",
    "`[a-z]` | any character in the range | `[a-z]`\n",
    "`[a-zA-Z0-9]` | any character in the set | `[a-zA-Z0-9]`\n",
    "`[a-d[m-p]]` | any character in the set | `[a-d[m-p]]`\n",
    "`[^m-p[^bc]]` | any character not in the set | `[^m-p[^bc]]`\n",
    "`[0-9]` | any digit | `[0-9]`\n",
    "`[a-zA-Z]` | any letter | `[a-zA-Z]`\n",
    "`[a-z&&[^b]]` | any character not in the set | `[a-z&&[^b]]`\n",
    "`[a-z&&[^b-y]]` | any character not in the set | `[a-z&&[^b-y]]`\n",
    "`[a-zA-Z0-9_]` | any character in the set | `[a-zA-Z0-9_]`\n",
    "`[a-zA-Z0-9_]+` | any character in the set | `[a-zA-Z0-9_]+`\n",
    "`[a-zA-Z0-9_]*` | any character in the set | `[a-zA-Z0-9_]*`"
   ]
  },
  {
   "cell_type": "markdown",
   "metadata": {},
   "source": [
    "### `findall()` function\n",
    "\n",
    "- `findall()` returns a list of all matches in a string"
   ]
  },
  {
   "cell_type": "code",
   "execution_count": 5,
   "metadata": {},
   "outputs": [
    {
     "name": "stdout",
     "output_type": "stream",
     "text": [
      "['ai', 'ai']\n"
     ]
    }
   ],
   "source": [
    "import re\n",
    "\n",
    "txt = \"The rain in Spain\"\n",
    "x = re.findall(\"ai\", txt)\n",
    "\n",
    "print(x)         #['ai', 'ai']"
   ]
  },
  {
   "cell_type": "markdown",
   "metadata": {},
   "source": [
    "### `search()` function\n",
    "- `search()` returns a match object"
   ]
  },
  {
   "cell_type": "code",
   "execution_count": 8,
   "metadata": {},
   "outputs": [
    {
     "name": "stdout",
     "output_type": "stream",
     "text": [
      "['ai', 'ai']\n"
     ]
    }
   ],
   "source": [
    "import re\n",
    "txt = \"The rain in Spain\"\n",
    "x = re.findall(\"ai\", txt)\n",
    "\n",
    "print(x)"
   ]
  },
  {
   "cell_type": "markdown",
   "metadata": {},
   "source": [
    "### `split()` function\n",
    "- `split()` returns a list of substrings"
   ]
  },
  {
   "cell_type": "code",
   "execution_count": 9,
   "metadata": {},
   "outputs": [
    {
     "name": "stdout",
     "output_type": "stream",
     "text": [
      "['The r', 'n in Sp', 'n']\n"
     ]
    }
   ],
   "source": [
    "import re\n",
    "txt = \"The rain in Spain\"\n",
    "x = re.split(\"ai\", txt)\n",
    "\n",
    "print(x)"
   ]
  },
  {
   "cell_type": "markdown",
   "metadata": {},
   "source": [
    "### `sub()` function\n",
    "- `sub()` replaces matches with a string"
   ]
  },
  {
   "cell_type": "code",
   "execution_count": 15,
   "metadata": {},
   "outputs": [
    {
     "name": "stdout",
     "output_type": "stream",
     "text": [
      "The r--n in Sp--n\n"
     ]
    }
   ],
   "source": [
    "import re\n",
    "txt = \"The rain in Spain\"\n",
    "x = re.sub(\"ai\", \"--\",txt)\n",
    "\n",
    "print(x)"
   ]
  }
 ],
 "metadata": {
  "interpreter": {
   "hash": "e7370f93d1d0cde622a1f8e1c04877d8463912d04d973331ad4851f04de6915a"
  },
  "kernelspec": {
   "display_name": "Python 3.10.2 64-bit",
   "language": "python",
   "name": "python3"
  },
  "language_info": {
   "codemirror_mode": {
    "name": "ipython",
    "version": 3
   },
   "file_extension": ".py",
   "mimetype": "text/x-python",
   "name": "python",
   "nbconvert_exporter": "python",
   "pygments_lexer": "ipython3",
   "version": "3.10.2"
  },
  "orig_nbformat": 4
 },
 "nbformat": 4,
 "nbformat_minor": 2
}
