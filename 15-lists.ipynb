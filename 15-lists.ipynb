{
 "cells": [
  {
   "cell_type": "markdown",
   "metadata": {},
   "source": [
    "### list\n",
    "- list : collection of items(homogeneous or heterogeneous)\n",
    "- list can be nested\n",
    "- list can be empty\n",
    "- list is mutable\n",
    "- list is ordered\n",
    "- list index starts from 0\n",
    "\n",
    "##### list syntax\n",
    "```python\n",
    "list_name = [item1, item2, item3, ...]\n",
    "```\n",
    "\n",
    "`list methods` | descriptions | `examples`\n",
    "----------------|-------------|----------\n",
    "`append()` | `add` an item to the `end` of the list | `list_name.append(item)`\n",
    "`extend()` | `add` a list of items to the `end` of the list | `list_name.extend(list_of_items)`\n",
    "`insert()` | `add` an item to the `list` at the specified index | `list_name.insert(index, item)`\n",
    "`remove()` | `remove` the first item from the list that matches the specified value | `list_name.remove(item)`\n",
    "`pop()` | `remove` the item at the specified index | `list_name.pop(index)`\n",
    "`clear()` | `remove` all items from the list | `list_name.clear()`\n",
    "`index()` | `return` the `index` of the `first item` that matches the specified value | `list_name.index(item)`\n",
    "`count()` | `return` the number of `times` the specified value occurs in the list | `list_name.count(item)`\n",
    "`sort()` | `sort` the list in ascending order | `list_name.sort(reverse=True/False,key=None)`\n",
    "`reverse()` | `reverse` the order of the list | `list_name.reverse()`\n",
    "`copy()` | `return` a shallow copy of the list | `list_name.copy()`\n",
    "`slice()` | `return` a slice of the list | `list_name[start:end:step]`\n",
    "`len()` | `return` the length of the list | `len(list_name)`\n",
    "`max()` | `return` the largest item in the list | `max(list_name)`\n",
    "`min()` | `return` the smallest item in the list | `min(list_name)`\n",
    "`sum()` | `return` the sum of all items in the list | `sum(list_name)`\n",
    "`any()` | `return` `True` if any item in the list is true | `any(list_name)`\n",
    "`all()` | `return` `True` if all items in the list are true | `all(list_name)`\n",
    "`enumerate()` | `return` a `list` of tuples containing a count and value | `enumerate(list_name)`\n",
    "`map()` | `return` a `list` of the results of the function over the list | `map(function, list_name)`\n",
    "`filter()` | `return` a `list` of the items that are true | `filter(function, list_name)`\n",
    "`zip()` | `return` a `list` of tuples | `zip(list_name1, list_name2)`\n",
    "`list()` | `return` a `list` of the items in the list | `list(list_name)`\n",
    "`tuple()` | `return` a `tuple` of the items in the list | `tuple(list_name)`\n",
    "`set()` | `return` a `set` of the items in the list | `set(list_name)`\n",
    "\n",
    "\n"
   ]
  },
  {
   "cell_type": "code",
   "execution_count": 1,
   "metadata": {},
   "outputs": [
    {
     "name": "stdout",
     "output_type": "stream",
     "text": [
      "empty_list is []\n",
      "mixed_list is [1, 2, 3, 'don', 2.3, True]\n",
      "multidimentional_list is [[1, 2, 3], [4, 5, 6], [7, 8, 9]]\n"
     ]
    }
   ],
   "source": [
    "# list : list is a mutable sequence of objects\n",
    "# list ≅ array in other languages\n",
    "# lists are zero-indexed\n",
    "\n",
    "empty_list = []\n",
    "mixed_list = [1,2,3,'don',2.3,True]\n",
    "multidimentional_list = [[1,2,3],[4,5,6],[7,8,9]]\n",
    "\n",
    "print(f\"empty_list is {empty_list}\")\n",
    "print(f\"mixed_list is {mixed_list}\")\n",
    "print(f\"multidimentional_list is {multidimentional_list}\")"
   ]
  },
  {
   "cell_type": "markdown",
   "metadata": {},
   "source": [
    "##### list indexing\n",
    "- +ve index = counting from start\n",
    "- -ve index = counting from end"
   ]
  },
  {
   "cell_type": "code",
   "execution_count": 2,
   "metadata": {},
   "outputs": [
    {
     "name": "stdout",
     "output_type": "stream",
     "text": [
      "[1, 2, 3]\n",
      "[4, 2, 3]\n",
      "[4, 2, 3, 5]\n",
      "[100, 4, 2, 3, 5]\n",
      "[4, 2, 3, 5]\n",
      "0\n",
      "4\n",
      "1\n",
      "[5, 3, 2, 4]\n",
      "5\n",
      "[3, 2, 4]\n"
     ]
    }
   ],
   "source": [
    "#change the valuse of the list\n",
    "list_example = [1,2,3]\n",
    "print(list_example)                                                                     # [1, 2, 3]\n",
    "list_example[0] = 4\n",
    "print(list_example)                                                                     # [4, 2, 3]\n",
    "\n",
    "# append element : adding element to the end of the list\n",
    "list_example.append(5)\n",
    "print(list_example)                                                                     # [4, 2, 3, 5]\n",
    "\n",
    "# insert element : adding element to the list at a particular index\n",
    "list_example.insert(0,100)\n",
    "print(list_example)                                                                    # [100, 4, 2, 3, 5]\n",
    "\n",
    "# remove element : removing element from the list, returns none\n",
    "list_example.remove(100)\n",
    "print(list_example)                                                                    # [4, 2, 3, 5]\n",
    "\n",
    "# index of element : returns the index of the first element with the specified value\n",
    "print(list_example.index(4))                                                           # 0\n",
    "\n",
    "# len : returns the length of the list\n",
    "print(len(list_example))                                                               # 4\n",
    "\n",
    "# count : returns the number of times the specified value occurs in the list\n",
    "print(list_example.count(4))                                                           # 1\n",
    "\n",
    "# reverse : reverses the order of the list\n",
    "list_example.reverse()\n",
    "print(list_example)                                                                    # [5, 3, 2, 4]\n",
    "\n",
    "# pop : removes the element at the given position in the list and returns it\n",
    "print(list_example.pop(0))                                                             # 5\n",
    "print(list_example)     "
   ]
  },
  {
   "cell_type": "code",
   "execution_count": 3,
   "metadata": {},
   "outputs": [
    {
     "name": "stdout",
     "output_type": "stream",
     "text": [
      "type(list_example) is <class 'list'>\n",
      "[]\n",
      "[1, 2, 3]\n"
     ]
    }
   ],
   "source": [
    "# using constructor\n",
    "list_example = list()\n",
    "\n",
    "print(f\"type(list_example) is {type(list_example)}\")\n",
    "print(list_example)\n",
    "\n",
    "list_x = list([1,2,3])\n",
    "print(list_x)"
   ]
  },
  {
   "cell_type": "markdown",
   "metadata": {},
   "source": [
    "### comparisions of lists\n",
    "- It's possible to compare lists and other sequences lexicographically using comparison operators.\n",
    "- lexicographic : in alphabetical order."
   ]
  },
  {
   "cell_type": "code",
   "execution_count": null,
   "metadata": {},
   "outputs": [],
   "source": [
    "[1, 10, 100] < [2, 10, 100]\n",
    "# True, because 1 < 2\n",
    "[1, 10, 100] < [1, 10, 100]\n",
    "# False, because the lists are equal\n",
    "[1, 10, 100] <= [1, 10, 100]\n",
    "# True, because the lists are equal\n",
    "[1, 10, 100] < [1, 10, 101]\n",
    "# True, because 100 < 101\n",
    "[1, 10, 100] < [0, 10, 100]\n",
    "# False, because 0 < 1"
   ]
  },
  {
   "cell_type": "markdown",
   "metadata": {},
   "source": [
    "### list slicing\n",
    "- `list_name[start(included):end(excluded):step]`\n",
    "\n",
    "default arguments for slicing\n",
    "- `start` = 0\n",
    "- `end` = len(list_name)\n",
    "- `step` = 1"
   ]
  },
  {
   "cell_type": "code",
   "execution_count": 3,
   "metadata": {},
   "outputs": [
    {
     "name": "stdout",
     "output_type": "stream",
     "text": [
      "nums -> [0, 1, 2, 3, 4, 5, 6, 7, 8, 9, 10]\n",
      "nums[1:] -> [1, 2, 3, 4, 5, 6, 7, 8, 9, 10]\n",
      "nums[0:5] -> [0, 1, 2, 3, 4]\n",
      "nums[:5] -> [0, 1, 2, 3, 4]\n",
      "nums[5:10] -> [5, 6, 7, 8, 9]\n",
      "nums[-5:] -> [6, 7, 8, 9, 10]\n",
      "nums[-5::-1] -> [6, 5, 4, 3, 2, 1, 0]\n",
      "nums[-5::1] -> [6, 7, 8, 9, 10]\n",
      "nums[:-5] -> [0, 1, 2, 3, 4, 5]\n",
      "nums[::2] -> [0, 2, 4, 6, 8, 10]\n",
      "nums[::-1] -> [10, 9, 8, 7, 6, 5, 4, 3, 2, 1, 0]\n",
      "nums[-1:] -> [10]\n",
      "nums[-1::] -> [10]\n"
     ]
    }
   ],
   "source": [
    "nums = [0,1,2,3,4,5,6,7,8,9,10]\n",
    "\n",
    "print(f\"nums -> {nums}\")\n",
    "print(f\"nums[1:] -> {nums[1:]}\")\n",
    "print(f\"nums[0:5] -> {nums[0:5]}\")\n",
    "print(f\"nums[:5] -> {nums[:5]}\")\n",
    "print(f\"nums[5:10] -> {nums[5:10]}\")\n",
    "print(f\"nums[-5:] -> {nums[-5:]}\")\n",
    "print(f\"nums[-5::-1] -> {nums[-5::-1]}\")\n",
    "print(f\"nums[-5::1] -> {nums[-5::1]}\")\n",
    "print(f\"nums[:-5] -> {nums[:-5]}\")\n",
    "print(f\"nums[::2] -> {nums[::2]}\")\n",
    "print(f\"nums[::-1] -> {nums[::-1]}\")\n",
    "print(f\"nums[-1:] -> {nums[-1:]}\")\n",
    "print(f\"nums[-1::] -> {nums[-1:]}\")\n"
   ]
  }
 ],
 "metadata": {
  "interpreter": {
   "hash": "e7370f93d1d0cde622a1f8e1c04877d8463912d04d973331ad4851f04de6915a"
  },
  "kernelspec": {
   "display_name": "Python 3.10.2 64-bit",
   "language": "python",
   "name": "python3"
  },
  "language_info": {
   "codemirror_mode": {
    "name": "ipython",
    "version": 3
   },
   "file_extension": ".py",
   "mimetype": "text/x-python",
   "name": "python",
   "nbconvert_exporter": "python",
   "pygments_lexer": "ipython3",
   "version": "3.10.2"
  },
  "orig_nbformat": 4
 },
 "nbformat": 4,
 "nbformat_minor": 2
}
