{
 "cells": [
  {
   "cell_type": "markdown",
   "metadata": {},
   "source": [
    "`operator`|`description`|`syntax`|`example`\n",
    "---|---|---|---\n",
    "== | equal to | == | 5==5 #True\n",
    "!= | not equal to | != | 5!=5 #False\n",
    "< | less than | < | 5<6 #True\n",
    "\\> | greater than | > | 5>6 #False\n",
    "<= | less than or equal to | <= | 5<=5 #True\n",
    "\\>= | greater than or equal to | >= | 5>=5 #True\n"
   ]
  },
  {
   "cell_type": "markdown",
   "metadata": {},
   "source": [
    "### `chain comparisions`\n",
    "\n",
    "- There is no theoretical limit on how many items and comparison operations you use as long you have proper\n",
    "syntax\n",
    "- As soon as one comparison returns False, the expression evaluates immediately to False, skipping all remaining\n",
    "comparisons."
   ]
  },
  {
   "cell_type": "code",
   "execution_count": 9,
   "metadata": {},
   "outputs": [
    {
     "name": "stdout",
     "output_type": "stream",
     "text": [
      "True\n",
      "True\n"
     ]
    }
   ],
   "source": [
    "#chain comparision : x > y > z == x > y and x > z\n",
    "x = 1\n",
    "y = 2\n",
    "z = 3\n",
    "\n",
    "if z > y and y > x:\n",
    "    print(\"True\")       # True\n",
    "\n",
    "if z>y>x:\n",
    "    print(\"True\")       # True"
   ]
  },
  {
   "cell_type": "markdown",
   "metadata": {},
   "source": [
    "### `is` vs `==`\n",
    "- `is` is a comparison operator that checks if two variables refer to the same object.\n",
    "- `==` is a comparison operator that checks if two variables have the same value.\n",
    "\n",
    "- `is` -> checks -> `id(a) == id(b)` -> identity\n",
    "- `==` -> checks -> `a == b` -> value"
   ]
  }
 ],
 "metadata": {
  "interpreter": {
   "hash": "767d51c1340bd893661ea55ea3124f6de3c7a262a8b4abca0554b478b1e2ff90"
  },
  "kernelspec": {
   "display_name": "Python 3.10.2 64-bit",
   "language": "python",
   "name": "python3"
  },
  "language_info": {
   "codemirror_mode": {
    "name": "ipython",
    "version": 3
   },
   "file_extension": ".py",
   "mimetype": "text/x-python",
   "name": "python",
   "nbconvert_exporter": "python",
   "pygments_lexer": "ipython3",
   "version": "3.10.2"
  },
  "orig_nbformat": 4
 },
 "nbformat": 4,
 "nbformat_minor": 2
}
