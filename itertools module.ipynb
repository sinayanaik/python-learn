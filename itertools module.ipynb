{
 "cells": [
  {
   "cell_type": "markdown",
   "metadata": {},
   "source": [
    "### itertools module\n",
    "\n",
    "`itertools methods` | description | example\n",
    "--- | --- | ---\n",
    "`accumulate` | `accumulate(iterable[, func])` | `accumulate(range(10))`\n",
    "`chain` | `chain(*iterables)` | `chain('ABC', 'DEF')`\n",
    "`combinations` | `combinations(iterable, r)` | `combinations('ABC', 2)`\n",
    "`combinations_with_replacement` | `combinations_with_replacement(iterable, r)` | `combinations_with_replacement('ABC', 2)`\n",
    "`compress` | `compress(data, selectors)` | `compress('ABCDEF', [1,0,1,0,1,1])`\n",
    "`count` | `count(start=0, step=1)` | `count(10)`\n",
    "`cycle` | `cycle(iterable)` | `cycle('ABC')`\n",
    "`dropwhile` | `dropwhile(predicate, iterable)` | `dropwhile(lambda x: x<5, [1,4,6,4,1])`\n",
    "`groupby` | `groupby(iterable[, keyfunc])` | `groupby('AAABBBCC', lambda c: c.upper())`\n",
    "`islice` | `islice(iterable, start, stop[, step])` | `islice('ABCDEFG', 3, 7)`\n",
    "`permutations` | `permutations(iterable, r)` | `permutations('ABCD', 2)`\n",
    "`product` | `product(iterables)` | `product('ABCD', 'xy')`\n",
    "`repeat` | `repeat(object[, times])` | `repeat(10, 3)`\n",
    "`starmap` | `starmap(function, iterable)` | `starmap(pow, [(2,5), (3,2), (10,3)])`\n",
    "`takewhile` | `takewhile(predicate, iterable)` | `takewhile(lambda x: x<5, [1,4,6,4,1])`\n",
    "`tee` | `tee(iterable, n=2)` | `a, b = tee('ABC')`"
   ]
  }
 ],
 "metadata": {
  "language_info": {
   "name": "python"
  },
  "orig_nbformat": 4
 },
 "nbformat": 4,
 "nbformat_minor": 2
}
