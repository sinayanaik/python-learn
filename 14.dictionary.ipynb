{
 "cells": [
  {
   "cell_type": "markdown",
   "metadata": {},
   "source": [
    "### dictionaries\n",
    "- dictionaries are a collection of key-value pairs\n",
    "- keys must be unique\n",
    "- keys are immutable\n",
    "- keys can be any type\n",
    "- values can be any type\n",
    "\n",
    "\n",
    "### dictionary syntax : {key:value, key:value, ...}\n",
    "### set syntax : {value, value, ...}"
   ]
  },
  {
   "cell_type": "code",
   "execution_count": 2,
   "metadata": {},
   "outputs": [
    {
     "name": "stdout",
     "output_type": "stream",
     "text": [
      "{'a': 1, 'b': 2, 'c': 3}\n",
      "{'d': 4, 'e': 5, 'f': 6}\n",
      "{'a': 1, 'b': 2, 'c': 3, 'd': 4, 'e': 5, 'f': 6}\n",
      "{'a': 1, 'b': 2, 'c': 3, 'd': 4, 'e': 5, 'f': 6}\n",
      "{'a': 1, 'b': 2, 'c': 3}\n",
      "{'a': 1, 'b': 2, 'c': 3}\n"
     ]
    }
   ],
   "source": [
    "dictionary_1 = {'a': 1, 'b': 2, 'c': 3}\n",
    "dictionary_2 = {'d': 4, 'e': 5, 'f': 6}\n",
    "\n",
    "print(dictionary_1)                           # {'a': 1, 'b': 2, 'c': 3}\n",
    "print(dictionary_2)                           # {'d': 4, 'e': 5, 'f': 6}\n",
    "#using ** to combine two dictionaries\n",
    "\n",
    "dictionary_3 = {**dictionary_1, **dictionary_2}\n",
    "print(dictionary_3)                           # {'a': 1, 'b': 2, 'c': 3, 'd': 4, 'e': 5, 'f': 6}\n",
    "\n",
    "#using dict() to combine two dictionaries\n",
    "dictionary_4 =  dict(dictionary_1, **dictionary_2)\n",
    "print(dictionary_4)                          # {'a': 1, 'b': 2, 'c': 3, 'd': 4, 'e': 5, 'f': 6}\n",
    "\n",
    "#using ** to copy a dictionary\n",
    "dictionary_5 = {**dictionary_1}\n",
    "print(dictionary_5)                          # {'a': 1, 'b': 2, 'c': 3}\n",
    "\n",
    "#using dict() to copy a dictionary\n",
    "dictionary_6 = dict(dictionary_1)\n",
    "print(dictionary_6)                          # {'a': 1, 'b': 2, 'c': 3}"
   ]
  },
  {
   "cell_type": "markdown",
   "metadata": {},
   "source": [
    "### built in class constructor : `dict`"
   ]
  },
  {
   "cell_type": "code",
   "execution_count": null,
   "metadata": {},
   "outputs": [],
   "source": [
    "d = dict()                                  # empty dictionary\n",
    "d['a'] = 1                                  # explicit key-value pair\n",
    "d = dict([('a', 1), ('b', 2)])              # key-value pair from sequence\n",
    "d = dict(a=1, b=2)                          # key-value pair from mapping\n",
    "d = dict({'a': 1, 'b': 2})                  # key-value pair from mapping\n",
    "d = dict(zip('abc', range(3)))              # key-value pair from sequence\n",
    "d = dict(**otherdict)                       ## make a shallow copy of another dict (only possible if keys are only strings!)"
   ]
  },
  {
   "cell_type": "markdown",
   "metadata": {},
   "source": [
    "methods | descriptions | syntax\n",
    "--------|-------------|-------\n",
    "`clear()` | removes all items from the dictionary | `d.clear()`\n",
    "`copy()` | returns a shallow copy of the dictionary | `d.copy()`\n",
    "`fromkeys()` | returns a dictionary with the specified keys and value | `dict.fromkeys(keys, value)`\n",
    "`get()` | returns the value of the specified key | `d.get(key, default)`\n",
    "`items()` | returns a list of the dictionary's (key, value) pairs | `d.items()`\n",
    "`keys()` | returns a list of the dictionary's keys | `d.keys()`\n",
    "`pop()` | removes the item with the specified key | `d.pop(key)`\n",
    "`popitem()` | removes and returns an arbitrary item (key, value) pair | `d.popitem()`\n",
    "`setdefault()` | returns the value of the specified key, set the value if the key does not exist | `d.setdefault(key, default=None)`\n",
    "`update()` | updates the dictionary with the specified key-value pairs | `d.update(dict2)`\n",
    "`values()` | returns a list of the dictionary's values | `d.values()`\n",
    "\n"
   ]
  }
 ],
 "metadata": {
  "interpreter": {
   "hash": "e7370f93d1d0cde622a1f8e1c04877d8463912d04d973331ad4851f04de6915a"
  },
  "kernelspec": {
   "display_name": "Python 3.10.2 64-bit",
   "language": "python",
   "name": "python3"
  },
  "language_info": {
   "codemirror_mode": {
    "name": "ipython",
    "version": 3
   },
   "file_extension": ".py",
   "mimetype": "text/x-python",
   "name": "python",
   "nbconvert_exporter": "python",
   "pygments_lexer": "ipython3",
   "version": "3.10.2"
  },
  "orig_nbformat": 4
 },
 "nbformat": 4,
 "nbformat_minor": 2
}
