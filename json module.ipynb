{
 "cells": [
  {
   "cell_type": "code",
   "execution_count": 1,
   "metadata": {},
   "outputs": [
    {
     "name": "stdout",
     "output_type": "stream",
     "text": [
      "['JSONDecodeError', 'JSONDecoder', 'JSONEncoder', '__all__', '__author__', '__builtins__', '__cached__', '__doc__', '__file__', '__loader__', '__name__', '__package__', '__path__', '__spec__', '__version__', '_default_decoder', '_default_encoder', 'codecs', 'decoder', 'detect_encoding', 'dump', 'dumps', 'encoder', 'load', 'loads', 'scanner']\n"
     ]
    }
   ],
   "source": [
    "import json\n",
    "print(dir(json))"
   ]
  },
  {
   "cell_type": "markdown",
   "metadata": {},
   "source": [
    "### json module\n",
    "\n",
    "`json methods` | descriptions | `syntax`\n",
    "--- | --- | ---\n",
    "`json.dump` | write- Storing data in a file| `json.dump(obj, file, indent=n)`\n",
    "`json.dumps` | Formatting JSON output | `json.dumps(obj, indent=n)`\n",
    "`json.load` | Retrieving data from a file | `json.load(file)`\n",
    "`json.loads` | read | `json.loads(str)`\n"
   ]
  },
  {
   "cell_type": "markdown",
   "metadata": {},
   "source": [
    "#### Creating JSON from Python dict `json.dumps`"
   ]
  },
  {
   "cell_type": "code",
   "execution_count": 3,
   "metadata": {},
   "outputs": [
    {
     "name": "stdout",
     "output_type": "stream",
     "text": [
      "{\"a\": 1, \"b\": 2, \"c\": 3, \"Tony\": [\"genius\", \"billionaire\", \"playboy\", \"philanthropist\"]}\n"
     ]
    }
   ],
   "source": [
    "import json\n",
    "\n",
    "dic = {'a': 1, 'b': 2, 'c': 3,\"Tony\":[\"genius\",\"billionaire\",\"playboy\",\"philanthropist\"]}\n",
    "\n",
    "print(json.dumps(dic))"
   ]
  },
  {
   "cell_type": "markdown",
   "metadata": {},
   "source": [
    "#### Creating Python dict from JSON `json.loads`"
   ]
  },
  {
   "cell_type": "code",
   "execution_count": 4,
   "metadata": {},
   "outputs": [
    {
     "name": "stdout",
     "output_type": "stream",
     "text": [
      "{'name': 'John', 'age': 30, 'city': 'New York'}\n"
     ]
    }
   ],
   "source": [
    "import json\n",
    "json_string = '{\"name\": \"John\", \"age\": 30, \"city\": \"New York\"}'\n",
    "print(json.loads(json_string))"
   ]
  }
 ],
 "metadata": {
  "interpreter": {
   "hash": "e7370f93d1d0cde622a1f8e1c04877d8463912d04d973331ad4851f04de6915a"
  },
  "kernelspec": {
   "display_name": "Python 3.10.2 64-bit",
   "language": "python",
   "name": "python3"
  },
  "language_info": {
   "codemirror_mode": {
    "name": "ipython",
    "version": 3
   },
   "file_extension": ".py",
   "mimetype": "text/x-python",
   "name": "python",
   "nbconvert_exporter": "python",
   "pygments_lexer": "ipython3",
   "version": "3.10.2"
  },
  "orig_nbformat": 4
 },
 "nbformat": 4,
 "nbformat_minor": 2
}
