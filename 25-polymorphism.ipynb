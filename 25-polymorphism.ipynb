{
 "cells": [
  {
   "cell_type": "markdown",
   "metadata": {},
   "source": [
    "### polymorphism\n",
    "- polymorphism : ability of a variable, function or object to take on multiple forms\n",
    "- polymorphism is a feature of OOP that allows an object to take on multiple forms.\n",
    "- Polymorphism is the ability to perform an action on an object regardless of its type"
   ]
  },
  {
   "cell_type": "code",
   "execution_count": 1,
   "metadata": {},
   "outputs": [
    {
     "name": "stdout",
     "output_type": "stream",
     "text": [
      "Human walking\n",
      "Human eating\n",
      "Monkey walking\n",
      "Monkey eating\n"
     ]
    }
   ],
   "source": [
    "class Human:\n",
    "    def walk(self):\n",
    "        print('Human walking')\n",
    "    def eat(self):\n",
    "        print('Human eating')\n",
    "\n",
    "class Monkey:\n",
    "    def walk(self):\n",
    "        print('Monkey walking')\n",
    "    def eat(self):\n",
    "        print('Monkey eating')\n",
    "\n",
    "def basic_polymorphism(animal):\n",
    "    animal.walk()\n",
    "    animal.eat()\n",
    "\n",
    "Ram = Human()\n",
    "Ramu = Monkey()\n",
    "\n",
    "basic_polymorphism(Ram)\n",
    "basic_polymorphism(Ramu)"
   ]
  }
 ],
 "metadata": {
  "interpreter": {
   "hash": "e7370f93d1d0cde622a1f8e1c04877d8463912d04d973331ad4851f04de6915a"
  },
  "kernelspec": {
   "display_name": "Python 3.10.2 64-bit",
   "language": "python",
   "name": "python3"
  },
  "language_info": {
   "codemirror_mode": {
    "name": "ipython",
    "version": 3
   },
   "file_extension": ".py",
   "mimetype": "text/x-python",
   "name": "python",
   "nbconvert_exporter": "python",
   "pygments_lexer": "ipython3",
   "version": "3.10.2"
  },
  "orig_nbformat": 4
 },
 "nbformat": 4,
 "nbformat_minor": 2
}
