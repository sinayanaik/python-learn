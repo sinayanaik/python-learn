{
 "cells": [
  {
   "cell_type": "markdown",
   "metadata": {},
   "source": [
    "### multithreading\n",
    "\n",
    "- A thread is a component of any process managed by the operating system.\n",
    "- The OS achieves parallelism or multitasking by dividing the process among threads. \n",
    "- It is a lightweight process that ensures a separate flow of execution.\n",
    "\n",
    "- Multiprocessing uses two or more CPUs to increase computing power, \n",
    "- whereas multithreading uses a single process with multiple code segments to increase computing power.\n",
    "- Multiprocessing increases computing power by adding CPUs,\n",
    "-  whereas multithreading focuses on generating computing threads from a single process."
   ]
  },
  {
   "cell_type": "code",
   "execution_count": 1,
   "metadata": {},
   "outputs": [
    {
     "name": "stdout",
     "output_type": "stream",
     "text": [
      "Hi, you are customer  10\n",
      "End\n"
     ]
    }
   ],
   "source": [
    "import threading\n",
    "\n",
    "def print_hi(num): \n",
    "    print(\"Hi, you are customer \",num)\n",
    " \n",
    "t1 = threading.Thread(target = print_hi, args=(10,))\n",
    "t1.start()\n",
    "t1.join()\n",
    "print(\"End\")"
   ]
  }
 ],
 "metadata": {
  "interpreter": {
   "hash": "e7370f93d1d0cde622a1f8e1c04877d8463912d04d973331ad4851f04de6915a"
  },
  "kernelspec": {
   "display_name": "Python 3.10.2 64-bit",
   "language": "python",
   "name": "python3"
  },
  "language_info": {
   "codemirror_mode": {
    "name": "ipython",
    "version": 3
   },
   "file_extension": ".py",
   "mimetype": "text/x-python",
   "name": "python",
   "nbconvert_exporter": "python",
   "pygments_lexer": "ipython3",
   "version": "3.10.2"
  },
  "orig_nbformat": 4
 },
 "nbformat": 4,
 "nbformat_minor": 2
}
