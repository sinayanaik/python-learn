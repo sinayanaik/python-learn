{
 "cells": [
  {
   "cell_type": "markdown",
   "metadata": {},
   "source": [
    "## os module\n",
    "\n",
    "methods | descriptions | sample output\n",
    "--- | --- | ---\n",
    "`os.listdir()` | list the files in a directory | `['file1.txt', 'file2.txt', 'file3.txt']`\n",
    "`os.getcwd()` | get current working directory | `'/Users/user/Desktop/python-learn'`\n",
    "`os.chdir()` | change current working directory | `'/Users/user/Desktop/python-learn'`\n",
    "`os.path.join()` | join two or more path components | `'/Users/user/Desktop/python-learn/file1.txt'`\n",
    "`os.path.basename()` | return the base name of path | `'file1.txt'`\n",
    "`os.path.dirname()` | return the directory name of path | `'/Users/user/Desktop/python-learn'`\n",
    "`os.path.exists()` | test whether a path exists | `True`\n",
    "`os.path.isfile()` | test whether a path is a file | `True`\n",
    "`os.path.isdir()` | test whether a path is a directory | `False`\n",
    "`os.path.splitext()` | split the extension from the path | `('/Users/user/Desktop/python-learn/file1', '.txt')`\n",
    "`os.path.getsize()` | get the size of a file | `1000`\n",
    "`os.path.getmtime()` | get the last modified time of a file | `1580529484.0`\n",
    "`os.path.getatime()` | get the last access time of a file | `1580529484.0`\n",
    "`os.path.getctime()` | get the creation time of a file | `1580529484.0`\n",
    "`os.path.getsize()` | get the size of a file | `1000`\n",
    "`os.path.getmtime()` | get the last modified time of a file | `1580529484.0`\n",
    "`os.path.getatime()` | get the last access time of a file | `1580529484.0`\n",
    "`os.path.getctime()` | get the creation time of a file | `1580529484.0`\n",
    "`os.path.getsize()` | get the size of a file | `1000`\n",
    "`os.path.getmtime()` | get the last modified time of a file | `1580529484.0`\n",
    "`os.path.getatime()` | get the last access time of a file | `1580529484.0`\n",
    "`os.path.getctime()` | get the creation time of a file | `1580529484.0`\n",
    "`os.path.getsize()` | get the size of a file | `1000`"
   ]
  },
  {
   "cell_type": "code",
   "execution_count": 4,
   "metadata": {},
   "outputs": [
    {
     "name": "stdout",
     "output_type": "stream",
     "text": [
      "['resources.md', 'itertool module.ipynb', 'specials.ipynb', '2-string.ipynb', 'useful pip commands.ipynb', '10-conditionals.ipynb', 'collections module.ipynb', '3-date & time.ipynb', '5-set.ipynb', '1-getting started.ipynb', '.git', '16-comprehensions.ipynb', '9-variable scope and binding.ipynb', 'os module.ipynb', '17-linked list.ipynb', '15-lists.ipynb', '6-math.ipynb', 'README.md', '13-arrays.ipynb', 'operator module.ipynb', '11-comparisions.ipynb', '14.dictionary.ipynb', '8-operator precedence.ipynb', '4 -enum.ipynb', '18-file i-o.ipynb', 'test.ipynb', '12-loops.ipynb', '7-bitwise operator.ipynb']\n"
     ]
    }
   ],
   "source": [
    "import os\n",
    "print(os.listdir())"
   ]
  },
  {
   "cell_type": "markdown",
   "metadata": {},
   "source": [
    "`os methods` | descriptions | sample output\n",
    "--- | --- | ---\n",
    "`os.makedirs()` | create a directory | `'os.makedirs(\"/test/test1\")'`\n",
    "`os.mkdir()` | create a directory | `'os.mkdir(\"/test/test1\")'`\n",
    "`os.getcwd()` | get current working directory | `'os.getcwd()'`\n",
    "`os.name` | return the name of the operating system | `'os.name'`\n",
    "`os.rmdir()` | remove a directory | `'os.rmdir(\"/test/test1\")'`\n",
    "`os.readlink()` | return the path of the symbolic link | `'os.readlink(\"path\")'`\n",
    "`os.symlink()` | create a symbolic link | `'os.symlink(\"path\", \"link\")'`\n",
    "`os.chmod()` | change the mode of a file | `'os.chmod(\"path\", permission in octal code(e.g. 0o777))'`\n"
   ]
  }
 ],
 "metadata": {
  "interpreter": {
   "hash": "e7370f93d1d0cde622a1f8e1c04877d8463912d04d973331ad4851f04de6915a"
  },
  "kernelspec": {
   "display_name": "Python 3.10.2 64-bit",
   "language": "python",
   "name": "python3"
  },
  "language_info": {
   "codemirror_mode": {
    "name": "ipython",
    "version": 3
   },
   "file_extension": ".py",
   "mimetype": "text/x-python",
   "name": "python",
   "nbconvert_exporter": "python",
   "pygments_lexer": "ipython3",
   "version": "3.10.2"
  },
  "orig_nbformat": 4
 },
 "nbformat": 4,
 "nbformat_minor": 2
}
