{
 "cells": [
  {
   "cell_type": "markdown",
   "metadata": {},
   "source": [
    "## bitwise operator\n",
    "- Bitwise operations alter binary strings at the bit level.\n",
    "- Bitwise operations are performed on the binary representation of the string.\n",
    "- Bitwise operations are performed on the string as a whole, not on each character.\n",
    "\n"
   ]
  },
  {
   "cell_type": "markdown",
   "metadata": {},
   "source": [
    "### one's compliment\n",
    "\n",
    "- The one's compliment of a binary string is the binary string with all 1s replaced with 0s and all 0s replaced with 1s.\n",
    "\n",
    "#### one's compliment used in\n",
    "- The one's compliment is used to check if a string is a palindrome.\n"
   ]
  },
  {
   "cell_type": "markdown",
   "metadata": {},
   "source": [
    "means that whereas 1010 0110 has an unsigned value of 166 (arrived at by adding (128 * 1) +\n",
    "(64 * 0) + (32 * 1) + (16 * 0) + (8 * 0) + (4 * 1) + (2 * 1) + (1 * 0)), it has a two's-complement value\n",
    "of -90 (arrived at by adding (128 * 1) - (64 * 0) - (32 * 1) - (16 * 0) - (8 * 0) - (4 * 1) - (2 * 1) -\n",
    "(1 * 0), and complementing the value)."
   ]
  },
  {
   "cell_type": "markdown",
   "metadata": {},
   "source": [
    "###  bitwise not\n",
    "###  ~n = -n - 1"
   ]
  },
  {
   "cell_type": "markdown",
   "metadata": {},
   "source": [
    "operator | symbol | description | example\n",
    "| :--- | --- | --- | ---\n",
    "bitwise not | \\~ | ~n = -n - 1 | ~1010 = -1011 - 1 = -1110\n",
    "bitwise xor | \\^ | 0 ^ 0 = 0 , 0 ^ 1 = 1,1 ^ 0 = 1,1 ^ 1 = 0| 60 ^ 30 = 0b111100 ^ 0b011110 = 0b100010\n",
    "bitwise and | \\& | 0 & 0 = 0 , 0 & 1 = 0,1 & 0 = 0,1 & 1 = 1| 60 & 30 = 0b111100 & 0b011110 = 0b011100\n",
    "bitwise or|\\| 0 | 0 = 0, 0 \\| 1 = 1, 1 \\| 0 = 1, 1 \\| 1 = 1| 60 \\| 30 = 0b111100 \\| 0b011110 = 0b111110\n",
    "\n",
    "\n"
   ]
  },
  {
   "cell_type": "code",
   "execution_count": 7,
   "metadata": {},
   "outputs": [
    {
     "name": "stdout",
     "output_type": "stream",
     "text": [
      "-79\n"
     ]
    }
   ],
   "source": [
    "x = 78\n",
    "print(~x)"
   ]
  },
  {
   "cell_type": "markdown",
   "metadata": {},
   "source": []
  }
 ],
 "metadata": {
  "interpreter": {
   "hash": "e7370f93d1d0cde622a1f8e1c04877d8463912d04d973331ad4851f04de6915a"
  },
  "kernelspec": {
   "display_name": "Python 3.10.2 64-bit",
   "language": "python",
   "name": "python3"
  },
  "language_info": {
   "codemirror_mode": {
    "name": "ipython",
    "version": 3
   },
   "file_extension": ".py",
   "mimetype": "text/x-python",
   "name": "python",
   "nbconvert_exporter": "python",
   "pygments_lexer": "ipython3",
   "version": "3.10.2"
  },
  "orig_nbformat": 4
 },
 "nbformat": 4,
 "nbformat_minor": 2
}
