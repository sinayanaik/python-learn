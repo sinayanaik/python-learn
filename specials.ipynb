{
 "cells": [
  {
   "cell_type": "markdown",
   "metadata": {},
   "source": [
    "## usage of docstrings"
   ]
  },
  {
   "cell_type": "code",
   "execution_count": 5,
   "metadata": {},
   "outputs": [
    {
     "name": "stdout",
     "output_type": "stream",
     "text": [
      "\n",
      "    This is a function that adds two numbers.\n",
      "    :param a: This is a parameter.\n",
      "    :param b: This is another parameter.\n",
      "    :return: This is the return value.\n",
      "    \n",
      "------------\n",
      "Help on function add in module __main__:\n",
      "\n",
      "add(a, b)\n",
      "    This is a function that adds two numbers.\n",
      "    :param a: This is a parameter.\n",
      "    :param b: This is another parameter.\n",
      "    :return: This is the return value.\n",
      "\n"
     ]
    }
   ],
   "source": [
    "## usage of docstrings\n",
    "def add(a, b):\n",
    "    \"\"\"\n",
    "    This is a function that adds two numbers.\n",
    "    :param a: This is a parameter.\n",
    "    :param b: This is another parameter.\n",
    "    :return: This is the return value.\n",
    "    \"\"\"\n",
    "    return a + b\n",
    "\n",
    "print(add.__doc__)\n",
    "print(\"------------\")\n",
    "help(add)"
   ]
  }
 ],
 "metadata": {
  "interpreter": {
   "hash": "d2152fd7f0bbc62aa1baff8c990435d1e2c7175d001561303988032604c11a48"
  },
  "kernelspec": {
   "display_name": "Python 3.10.2 64-bit",
   "language": "python",
   "name": "python3"
  },
  "language_info": {
   "codemirror_mode": {
    "name": "ipython",
    "version": 3
   },
   "file_extension": ".py",
   "mimetype": "text/x-python",
   "name": "python",
   "nbconvert_exporter": "python",
   "pygments_lexer": "ipython3",
   "version": "3.10.2"
  },
  "orig_nbformat": 4
 },
 "nbformat": 4,
 "nbformat_minor": 2
}
