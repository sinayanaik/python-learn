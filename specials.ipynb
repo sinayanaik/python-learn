{
 "cells": [
  {
   "cell_type": "code",
   "execution_count": 18,
   "metadata": {},
   "outputs": [
    {
     "name": "stdout",
     "output_type": "stream",
     "text": [
      "Hello World!**"
     ]
    }
   ],
   "source": [
    "#print with end\n",
    "print(\"Hello World!\",end=\"**\")"
   ]
  },
  {
   "cell_type": "markdown",
   "metadata": {},
   "source": [
    "## usage of docstrings"
   ]
  },
  {
   "cell_type": "code",
   "execution_count": 5,
   "metadata": {},
   "outputs": [
    {
     "name": "stdout",
     "output_type": "stream",
     "text": [
      "\n",
      "    This is a function that adds two numbers.\n",
      "    :param a: This is a parameter.\n",
      "    :param b: This is another parameter.\n",
      "    :return: This is the return value.\n",
      "    \n",
      "------------\n",
      "Help on function add in module __main__:\n",
      "\n",
      "add(a, b)\n",
      "    This is a function that adds two numbers.\n",
      "    :param a: This is a parameter.\n",
      "    :param b: This is another parameter.\n",
      "    :return: This is the return value.\n",
      "\n"
     ]
    }
   ],
   "source": [
    "## usage of docstrings\n",
    "def add(a, b):\n",
    "    \"\"\"\n",
    "    This is a function that adds two numbers.\n",
    "    :param a: This is a parameter.\n",
    "    :param b: This is another parameter.\n",
    "    :return: This is the return value.\n",
    "    \"\"\"\n",
    "    return a + b\n",
    "\n",
    "print(add.__doc__)\n",
    "print(\"------------\")\n",
    "help(add)"
   ]
  },
  {
   "cell_type": "markdown",
   "metadata": {},
   "source": [
    "## zip\n",
    "- zip(iterable, iterable, ...)"
   ]
  },
  {
   "cell_type": "code",
   "execution_count": 3,
   "metadata": {},
   "outputs": [
    {
     "name": "stdout",
     "output_type": "stream",
     "text": [
      "1 a\n",
      "2 b\n",
      "3 c\n",
      "<zip object at 0x7f3ac71d6380>\n",
      "1 a\n",
      "2 b\n",
      "3 c\n"
     ]
    }
   ],
   "source": [
    "alist = [1, 2, 3]\n",
    "blist = [\"a\",\"b\",\"c\"]\n",
    "for a,b in zip(alist, blist):\n",
    "    print(a, b)\n",
    "c_list = zip(alist, blist)\n",
    "print(c_list)  # <zip object at 0x7f8b8b8b9c18>\n",
    "for a,b in c_list:\n",
    "    print(a, b)"
   ]
  },
  {
   "cell_type": "markdown",
   "metadata": {},
   "source": [
    "## lambda\n",
    "\n",
    "- lambda : anonymous function\n",
    "- syntax : `lambda arguments : expression`\n"
   ]
  },
  {
   "cell_type": "code",
   "execution_count": 3,
   "metadata": {},
   "outputs": [
    {
     "name": "stdout",
     "output_type": "stream",
     "text": [
      "4\n",
      "4\n"
     ]
    }
   ],
   "source": [
    "square = lambda x : x**2\n",
    "print(square(2))   # 4\n",
    "\n",
    "# same as \n",
    "def square(x):\n",
    "    return x**2\n",
    "print(square(2))   # 4"
   ]
  },
  {
   "cell_type": "markdown",
   "metadata": {},
   "source": [
    "## filter\n",
    "- `filter(function, iterable)`\n",
    "- filters elements from a list using a function that returns a Boolean value."
   ]
  },
  {
   "cell_type": "code",
   "execution_count": 5,
   "metadata": {},
   "outputs": [
    {
     "name": "stdout",
     "output_type": "stream",
     "text": [
      "[2, 4, 6, 8, 10]\n"
     ]
    }
   ],
   "source": [
    "# Program to filter out only the even items from a list\n",
    "my_list = range(1, 11)\n",
    "print(list(filter(lambda x: x % 2 == 0, my_list)))"
   ]
  },
  {
   "cell_type": "markdown",
   "metadata": {},
   "source": [
    "## map\n",
    "- `map(function, iterable)`\n",
    "- applies a function to all the elements of an iterable (list, string, tuple etc.)\n",
    "- and returns a list of the results."
   ]
  },
  {
   "cell_type": "code",
   "execution_count": 6,
   "metadata": {},
   "outputs": [
    {
     "name": "stdout",
     "output_type": "stream",
     "text": [
      "[1, 4, 9, 16]\n"
     ]
    }
   ],
   "source": [
    "numbers  = range(1,5)\n",
    "squares = map(lambda x: x**2, numbers)\n",
    "print(list(squares))  # [1, 4, 9, 16]"
   ]
  },
  {
   "cell_type": "markdown",
   "metadata": {},
   "source": [
    "## groupby()\n",
    "- `groupby(function, iterable)`\n",
    "- groups the items in an iterable by a specific function and returns a dictionary\n"
   ]
  },
  {
   "cell_type": "code",
   "execution_count": 10,
   "metadata": {},
   "outputs": [
    {
     "name": "stdout",
     "output_type": "stream",
     "text": [
      "{'animal': [('animal', 'bear'), ('animal', 'pig')], 'plant': [('plant', 'tree'), ('plant', 'cactus')]}\n"
     ]
    }
   ],
   "source": [
    "# usage of groupby\n",
    "from itertools import groupby\n",
    "things = [('animal', 'bear'), ('plant', 'tree'), ('animal', 'pig'), ('plant', 'cactus')]\n",
    "\n",
    "dic = {}\n",
    "f = lambda x : x[0]                                 # get the first element of the tuple\n",
    "for key, group in groupby(sorted(things,key=f), f): # groupby returns a generator\n",
    "    dic[key] = list(group)                          # convert the generator to a list\n",
    "\n",
    "print(dic)\n"
   ]
  },
  {
   "cell_type": "markdown",
   "metadata": {},
   "source": [
    "## generator\n",
    "- `generator(function, iterable)`\n",
    "- `generator` is a function that returns an iterator\n",
    "- generator is a function that returns an object (iterator) which we can iterate over (one value at a time).\n",
    "- Generator function contains one or more yield statements.\n",
    "- Methods like __iter__() and __next__() are implemented automatically. So we can iterate through the items using next()"
   ]
  },
  {
   "cell_type": "code",
   "execution_count": 13,
   "metadata": {},
   "outputs": [
    {
     "name": "stdout",
     "output_type": "stream",
     "text": [
      "This is printed first\n",
      "1\n",
      "This is printed second\n",
      "2\n",
      "This is printed at last\n",
      "3\n"
     ]
    }
   ],
   "source": [
    "# A simple generator function\n",
    "def my_gen():\n",
    "    n = 1\n",
    "    print('This is printed first')\n",
    "    # Generator function contains yield statements\n",
    "    yield n\n",
    "\n",
    "    n += 1\n",
    "    print('This is printed second')\n",
    "    yield n\n",
    "\n",
    "    n += 1\n",
    "    print('This is printed at last')\n",
    "    yield n\n",
    "\n",
    "\n",
    "# Using for loop\n",
    "for item in my_gen():\n",
    "    print(item)"
   ]
  },
  {
   "cell_type": "code",
   "execution_count": 14,
   "metadata": {},
   "outputs": [
    {
     "name": "stdout",
     "output_type": "stream",
     "text": [
      "o\n",
      "l\n",
      "l\n",
      "e\n",
      "h\n"
     ]
    }
   ],
   "source": [
    "#generator function\n",
    "def rev_str(my_str):\n",
    "    length = len(my_str)\n",
    "    for i in range(length - 1, -1, -1):  # end to 0\n",
    "        yield my_str[i]\n",
    "\n",
    "\n",
    "# For loop to reverse the string\n",
    "for char in rev_str(\"hello\"):\n",
    "    print(char)"
   ]
  },
  {
   "cell_type": "code",
   "execution_count": 11,
   "metadata": {},
   "outputs": [
    {
     "name": "stdout",
     "output_type": "stream",
     "text": [
      "[1, 9, 36, 100]\n",
      "<generator object <genexpr> at 0x7fc1b9af92a0>\n"
     ]
    }
   ],
   "source": [
    "#difference between list and generator\n",
    "\n",
    "# Initialize the list\n",
    "my_list = [1, 3, 6, 10]\n",
    "\n",
    "# square each term using list comprehension\n",
    "list_ = [x**2 for x in my_list]\n",
    "\n",
    "# same thing can be done using a generator expression\n",
    "# generator expressions are surrounded by parenthesis ()\n",
    "generator = (x**2 for x in my_list)\n",
    "\n",
    "print(list_)\n",
    "print(generator)"
   ]
  },
  {
   "cell_type": "markdown",
   "metadata": {},
   "source": [
    "## heapq\n",
    "- `heapq.heappush(heap, item)`\n",
    "- Largest and smallest items in a collection\n",
    "\n",
    "methods | descriptions\n",
    "--------|-------------\n",
    "nlargest | returns the n largest items\n",
    "nsmallest | returns the n smallest items\n",
    "heappop | returns the largest item\n",
    "heapify | turns a list into a heap\n",
    "heapreplace | replaces the largest item with another item\n",
    "heappush | pushes an item into a heap"
   ]
  },
  {
   "cell_type": "code",
   "execution_count": 15,
   "metadata": {},
   "outputs": [
    {
     "name": "stdout",
     "output_type": "stream",
     "text": [
      "[16, 10, 9]\n",
      "[1, 2, 4]\n"
     ]
    }
   ],
   "source": [
    "# heap usage\n",
    "import heapq\n",
    "\n",
    "numbers  = [1, 5, 4, 2, 10, 7, 16, 9]\n",
    "#nlargest\n",
    "print(heapq.nlargest(3, numbers))             # Prints [10, 16, 9] , nlargest returns the largest n items, in this case 3\n",
    "#nsmallest\n",
    "print(heapq.nsmallest(3, numbers))           # Prints [1, 2, 4] , nsmallest returns the smallest n items, in this case 3\n"
   ]
  },
  {
   "cell_type": "markdown",
   "metadata": {},
   "source": [
    "## stdin\n",
    "- `sys.stdin.readline()`\n",
    "- standard input"
   ]
  },
  {
   "cell_type": "code",
   "execution_count": null,
   "metadata": {},
   "outputs": [],
   "source": [
    "import sys\n",
    "\n",
    "for line in sys.stdin:\n",
    "    print(line)\n",
    "\n",
    "#alternatively use fileinput\n",
    "import fileinput\n",
    "for line in fileinput.input():\n",
    "    print(line)"
   ]
  },
  {
   "cell_type": "markdown",
   "metadata": {},
   "source": [
    "## raw_input , input\n",
    "- `raw_input()` : read a string from standard input\n",
    "- `input()`     : read a string from standard input"
   ]
  },
  {
   "cell_type": "markdown",
   "metadata": {},
   "source": [
    "## iterator and iterable\n",
    "-  iterable is an object that can return an iterator\n"
   ]
  },
  {
   "cell_type": "code",
   "execution_count": null,
   "metadata": {},
   "outputs": [],
   "source": [
    "class MyIterable:\n",
    "    def __iter__(self):\n",
    "        return self\n",
    "    def __next__(self):\n",
    "        #code "
   ]
  },
  {
   "cell_type": "markdown",
   "metadata": {},
   "source": [
    "#### usage of `iter()`"
   ]
  },
  {
   "cell_type": "code",
   "execution_count": 2,
   "metadata": {},
   "outputs": [
    {
     "name": "stdout",
     "output_type": "stream",
     "text": [
      "1\n",
      "2\n",
      "3\n",
      "4\n",
      "5\n"
     ]
    }
   ],
   "source": [
    "s = {1,2,3,4,5}\n",
    "i = iter(s)\n",
    "print(next(i)) # 1\n",
    "print(next(i)) # 2\n",
    "print(next(i)) # 3\n",
    "print(next(i)) # 4\n",
    "print(next(i)) # 5"
   ]
  }
 ],
 "metadata": {
  "interpreter": {
   "hash": "d2152fd7f0bbc62aa1baff8c990435d1e2c7175d001561303988032604c11a48"
  },
  "kernelspec": {
   "display_name": "Python 3.10.2 64-bit",
   "language": "python",
   "name": "python3"
  },
  "language_info": {
   "codemirror_mode": {
    "name": "ipython",
    "version": 3
   },
   "file_extension": ".py",
   "mimetype": "text/x-python",
   "name": "python",
   "nbconvert_exporter": "python",
   "pygments_lexer": "ipython3",
   "version": "3.10.2"
  },
  "orig_nbformat": 4
 },
 "nbformat": 4,
 "nbformat_minor": 2
}
