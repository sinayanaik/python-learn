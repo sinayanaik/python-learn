{
 "cells": [
  {
   "cell_type": "markdown",
   "metadata": {},
   "source": [
    "## usage of docstrings"
   ]
  },
  {
   "cell_type": "code",
   "execution_count": 5,
   "metadata": {},
   "outputs": [
    {
     "name": "stdout",
     "output_type": "stream",
     "text": [
      "\n",
      "    This is a function that adds two numbers.\n",
      "    :param a: This is a parameter.\n",
      "    :param b: This is another parameter.\n",
      "    :return: This is the return value.\n",
      "    \n",
      "------------\n",
      "Help on function add in module __main__:\n",
      "\n",
      "add(a, b)\n",
      "    This is a function that adds two numbers.\n",
      "    :param a: This is a parameter.\n",
      "    :param b: This is another parameter.\n",
      "    :return: This is the return value.\n",
      "\n"
     ]
    }
   ],
   "source": [
    "## usage of docstrings\n",
    "def add(a, b):\n",
    "    \"\"\"\n",
    "    This is a function that adds two numbers.\n",
    "    :param a: This is a parameter.\n",
    "    :param b: This is another parameter.\n",
    "    :return: This is the return value.\n",
    "    \"\"\"\n",
    "    return a + b\n",
    "\n",
    "print(add.__doc__)\n",
    "print(\"------------\")\n",
    "help(add)"
   ]
  },
  {
   "cell_type": "markdown",
   "metadata": {},
   "source": [
    "## zip\n",
    "- zip(iterable, iterable, ...)"
   ]
  },
  {
   "cell_type": "code",
   "execution_count": 3,
   "metadata": {},
   "outputs": [
    {
     "name": "stdout",
     "output_type": "stream",
     "text": [
      "1 a\n",
      "2 b\n",
      "3 c\n",
      "<zip object at 0x7f3ac71d6380>\n",
      "1 a\n",
      "2 b\n",
      "3 c\n"
     ]
    }
   ],
   "source": [
    "alist = [1, 2, 3]\n",
    "blist = [\"a\",\"b\",\"c\"]\n",
    "for a,b in zip(alist, blist):\n",
    "    print(a, b)\n",
    "c_list = zip(alist, blist)\n",
    "print(c_list)  # <zip object at 0x7f8b8b8b9c18>\n",
    "for a,b in c_list:\n",
    "    print(a, b)"
   ]
  },
  {
   "cell_type": "markdown",
   "metadata": {},
   "source": [
    "## lambda\n",
    "\n",
    "- lambda : anonymous function\n",
    "- syntax : `lambda arguments : expression`\n"
   ]
  },
  {
   "cell_type": "code",
   "execution_count": 3,
   "metadata": {},
   "outputs": [
    {
     "name": "stdout",
     "output_type": "stream",
     "text": [
      "4\n",
      "4\n"
     ]
    }
   ],
   "source": [
    "square = lambda x : x**2\n",
    "print(square(2))   # 4\n",
    "\n",
    "# same as \n",
    "def square(x):\n",
    "    return x**2\n",
    "print(square(2))   # 4"
   ]
  },
  {
   "cell_type": "markdown",
   "metadata": {},
   "source": [
    "## filter\n",
    "- `filter(function, iterable)`\n",
    "- The filter() function in Python takes in a function and a list as arguments.\n",
    "- filters elements from a list using a function that returns a Boolean value."
   ]
  },
  {
   "cell_type": "code",
   "execution_count": 5,
   "metadata": {},
   "outputs": [
    {
     "name": "stdout",
     "output_type": "stream",
     "text": [
      "[2, 4, 6, 8, 10]\n"
     ]
    }
   ],
   "source": [
    "# Program to filter out only the even items from a list\n",
    "my_list = range(1, 11)\n",
    "print(list(filter(lambda x: x % 2 == 0, my_list)))"
   ]
  },
  {
   "cell_type": "markdown",
   "metadata": {},
   "source": [
    "## map\n",
    "- `map(function, iterable)`\n",
    "- The map() function in Python takes in a function and a list as arguments.\n",
    "- applies a function to all the elements of an iterable (list, string, tuple etc.)\n",
    "- and returns a list of the results."
   ]
  },
  {
   "cell_type": "code",
   "execution_count": 6,
   "metadata": {},
   "outputs": [
    {
     "name": "stdout",
     "output_type": "stream",
     "text": [
      "[1, 4, 9, 16]\n"
     ]
    }
   ],
   "source": [
    "numbers  = range(1,5)\n",
    "squares = map(lambda x: x**2, numbers)\n",
    "print(list(squares))  # [1, 4, 9, 16]"
   ]
  }
 ],
 "metadata": {
  "interpreter": {
   "hash": "d2152fd7f0bbc62aa1baff8c990435d1e2c7175d001561303988032604c11a48"
  },
  "kernelspec": {
   "display_name": "Python 3.10.2 64-bit",
   "language": "python",
   "name": "python3"
  },
  "language_info": {
   "codemirror_mode": {
    "name": "ipython",
    "version": 3
   },
   "file_extension": ".py",
   "mimetype": "text/x-python",
   "name": "python",
   "nbconvert_exporter": "python",
   "pygments_lexer": "ipython3",
   "version": "3.10.2"
  },
  "orig_nbformat": 4
 },
 "nbformat": 4,
 "nbformat_minor": 2
}
