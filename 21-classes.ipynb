{
 "cells": [
  {
   "cell_type": "markdown",
   "metadata": {},
   "source": [
    "Procedural Programming  \n",
    "- sequence of instructions or procedures to solve a problem\n",
    "- functions\n",
    "- step by step solution"
   ]
  },
  {
   "cell_type": "code",
   "execution_count": 1,
   "metadata": {},
   "outputs": [
    {
     "name": "stdout",
     "output_type": "stream",
     "text": [
      "6\n"
     ]
    }
   ],
   "source": [
    "def factorial(num):\n",
    "    fact = 1\n",
    "    for i in range(1,num+1):\n",
    "        fact = fact * i \n",
    "    return fact\n",
    "\n",
    "print(factorial(3))"
   ]
  },
  {
   "cell_type": "markdown",
   "metadata": {},
   "source": [
    "Object Oriented Programming\n",
    "- Promotes data encapsulation and reusability.\n",
    "- This paradigm organizes code around objects that encapsulate data and behavior.\n",
    "-  Classes provide templates for creating multiple objects.\n"
   ]
  },
  {
   "cell_type": "code",
   "execution_count": 3,
   "metadata": {},
   "outputs": [
    {
     "name": "stdout",
     "output_type": "stream",
     "text": [
      "6\n"
     ]
    }
   ],
   "source": [
    "class Factorial:\n",
    "    def __init__(self, num):\n",
    "        self.num = num\n",
    "\n",
    "    def calculate(self):\n",
    "        fact = 1\n",
    "        for i in range(1, self.num + 1):\n",
    "            fact *= i\n",
    "        return fact\n",
    "\n",
    "factorial_three = Factorial(3)\n",
    "print(factorial_three.calculate())  \n"
   ]
  },
  {
   "cell_type": "markdown",
   "metadata": {},
   "source": [
    "Functional Programming"
   ]
  },
  {
   "cell_type": "markdown",
   "metadata": {},
   "source": [
    "The procedural approach is imperative, focusing on how to compute the result, often with mutable state and loops. In contrast, the functional approach is declarative, focusing on what to compute, using recursion, higher-order functions, and immutability."
   ]
  },
  {
   "cell_type": "code",
   "execution_count": 4,
   "metadata": {},
   "outputs": [
    {
     "name": "stdout",
     "output_type": "stream",
     "text": [
      "6\n"
     ]
    }
   ],
   "source": [
    "# Functional Programming (Recursion)\n",
    "def factorial(num):\n",
    "    if num == 0 or num == 1:  # Base case\n",
    "        return 1\n",
    "    return num * factorial(num - 1)  # Function calls itself (no mutable state)\n",
    "\n",
    "print(factorial(3))  # Output: 6\n"
   ]
  },
  {
   "cell_type": "code",
   "execution_count": 5,
   "metadata": {},
   "outputs": [
    {
     "name": "stdout",
     "output_type": "stream",
     "text": [
      "6\n"
     ]
    }
   ],
   "source": [
    "from functools import reduce\n",
    "\n",
    "# Functional Programming (Reduce)\n",
    "def factorial(num):\n",
    "    return reduce(lambda x, y: x * y, range(1, num + 1))  # Declarative, no loops\n",
    "\n",
    "print(factorial(3))  # Output: 6\n"
   ]
  },
  {
   "cell_type": "markdown",
   "metadata": {},
   "source": [
    "### classes\n",
    "- OBJECT ORIENTED PROGRAMMING:\n",
    "    - Classes describe data \n",
    "    - and provide methods to manipulate that data, \n",
    "    - all encompassed under a single object.\n",
    "\n",
    "- class is made up of \n",
    "    - attributes (data) and \n",
    "    - methods (functions)\n",
    "\n",
    "-  `__init__()` method is called the initializer. It's equivalent to the constructor in other object oriented languages, \n",
    "    - and is the method that is first run when you create a new object, or new instance of the class\n",
    "\n",
    "-  Attributes that apply to the whole class are defined first, and are called `class attributes`. \n",
    "    - Class attributes are shared by `all instances` of the class.\n",
    "\n",
    "- Attributes that apply to a specific instance of a class (an object) are called instance attributes. They are\n",
    "generally defined `inside` `__init__()`;\n",
    "    - Instance attributes are `unique to each instance` of the class.\n",
    "\n",
    "- self: \n",
    "    - The self parameter is a reference to the current instance of the class, and is used to access variables that belong to the class.\n",
    "\n",
    "- Python has no real concept of private elements, so everything, by default, imitates the behavior of the\n",
    "C++/Java public keyword. "
   ]
  },
  {
   "cell_type": "markdown",
   "metadata": {},
   "source": [
    "### function vs method\n",
    "The idea of bound and unbound methods was removed in Python 3. In Python 3 when you declare a method within\n",
    "a class, you are using a def keyword, thus creating a function object. This is a regular function, and the surrounding\n",
    "class works as its namespace. In the following example we declare method f within class A, and it becomes a\n",
    "function A.f"
   ]
  },
  {
   "cell_type": "code",
   "execution_count": 7,
   "metadata": {},
   "outputs": [
    {
     "name": "stdout",
     "output_type": "stream",
     "text": [
      "X says hello\n"
     ]
    }
   ],
   "source": [
    "class Person:\n",
    "    def __init__(self,x):\n",
    "        self.name = x\n",
    "    def say(self):\n",
    "        print(f\"{self.name} says hello\")\n",
    "\n",
    "X = Person(\"X\")\n",
    "X.say()"
   ]
  },
  {
   "cell_type": "code",
   "execution_count": 2,
   "metadata": {},
   "outputs": [
    {
     "name": "stdout",
     "output_type": "stream",
     "text": [
      "X says hello\n"
     ]
    }
   ],
   "source": [
    "# can use any variable instead of self  \n",
    "class Person:\n",
    "    def __init__(this_instance,x):\n",
    "        this_instance.name = x\n",
    "    def say(this_instance):\n",
    "        print(f\"{this_instance.name} says hello\")\n",
    "\n",
    "X = Person(\"X\")\n",
    "X.say()"
   ]
  },
  {
   "cell_type": "code",
   "execution_count": 3,
   "metadata": {},
   "outputs": [
    {
     "name": "stdout",
     "output_type": "stream",
     "text": [
      "Tony is 29 years old\n",
      "Tony is 29 years old\n",
      "Human(\"Tony\", 29)\n",
      "yo... yo... microphone check... one two... one two...\n",
      "Tony: hello\n",
      "True\n",
      "True\n",
      "False\n",
      "False\n"
     ]
    }
   ],
   "source": [
    "class Human:\n",
    "    species = 'H sapiens'               #class attribute -> shared by all instances\n",
    "    def __init__(self, name, age):\n",
    "        self.name = name                 #instance attribute -> unique to each instance\n",
    "        self.age = age                  \n",
    "    def __str__(self):\n",
    "        return f'{self.name} is {self.age} years old'  #string representation of the object\n",
    "    def __repr__(self):\n",
    "        return f'Human(\"{self.name}\", {self.age})'     #representation of the object\n",
    "    \n",
    "    def say(self, msg):                            #instance method : does something\n",
    "        print(f'{self.name}: {msg}')               #arguments : self - reference to current instance, msg\n",
    "    \n",
    "    def sing(self):\n",
    "        return 'yo... yo... microphone check... one two... one two...'\n",
    "\n",
    "\n",
    "Tony = Human('Tony', 29)\n",
    "print(Tony.__str__())        #Tony is 29 years old\n",
    "print(Tony)                  #Tony is 29 years old\n",
    "print(Tony.__repr__())       #Human(\"Tony\", 29)\n",
    "\n",
    "print(Tony.sing())           #yo... yo... microphone check... one two... one two...\n",
    "Tony.say('hello')            #Tony: hello\n",
    "\n",
    "import inspect\n",
    "print(inspect.isfunction(Human.say))    #True\n",
    "print(inspect.isfunction(Human.sing))   #True\n",
    "\n",
    "print(inspect.ismethod(Human.say))      #False\n",
    "print(inspect.ismethod(Human.sing))     #False\n"
   ]
  },
  {
   "cell_type": "markdown",
   "metadata": {},
   "source": [
    "To find all the Methods and Attributes use `dir()`, and `inspect`"
   ]
  },
  {
   "cell_type": "code",
   "execution_count": 4,
   "metadata": {},
   "outputs": [
    {
     "name": "stdout",
     "output_type": "stream",
     "text": [
      "['__class__', '__delattr__', '__dict__', '__dir__', '__doc__', '__eq__', '__format__', '__ge__', '__getattribute__', '__getstate__', '__gt__', '__hash__', '__init__', '__init_subclass__', '__le__', '__lt__', '__module__', '__ne__', '__new__', '__reduce__', '__reduce_ex__', '__repr__', '__setattr__', '__sizeof__', '__str__', '__subclasshook__', '__weakref__', 'say', 'sing', 'species']\n"
     ]
    }
   ],
   "source": [
    "print(dir(Human))"
   ]
  },
  {
   "cell_type": "code",
   "execution_count": 5,
   "metadata": {},
   "outputs": [
    {
     "name": "stdout",
     "output_type": "stream",
     "text": [
      "Method: __init__\n",
      "Method: __repr__\n",
      "Method: __str__\n",
      "Method: say\n",
      "Method: sing\n"
     ]
    }
   ],
   "source": [
    "import inspect\n",
    "\n",
    "for name, value in inspect.getmembers(Human):\n",
    "    if inspect.ismethod(value) or inspect.isfunction(value):\n",
    "        print(f\"Method: {name}\")\n"
   ]
  },
  {
   "cell_type": "markdown",
   "metadata": {},
   "source": [
    "Using class\n",
    "- The objective of class is build objects on top of other objects\n",
    "- keep data and operations packed together\n",
    "- Adding new featured are easy"
   ]
  },
  {
   "cell_type": "markdown",
   "metadata": {},
   "source": [
    "Problem 1:\n",
    "Using class based approach,\n",
    "```\n",
    "|--------|\n",
    "|        |\n",
    "|        |\n",
    "|  .     |\n",
    "----------\n",
    "```\n",
    "Find if certain point is inside the Rectangle or not"
   ]
  },
  {
   "cell_type": "code",
   "execution_count": 2,
   "metadata": {},
   "outputs": [
    {
     "name": "stdout",
     "output_type": "stream",
     "text": [
      "x_range[4, 17],y_range[6, 12]\n",
      "(5, 5) is not inside the rectangle Lower Left:(4, 6),Upper Right:(17, 12)\n"
     ]
    }
   ],
   "source": [
    "from random import randint\n",
    "\n",
    "class Point:\n",
    "    def __init__(self,x,y):\n",
    "        self.x = x\n",
    "        self.y = y\n",
    "    def check_inside_rectangle(self,rectangle):\n",
    "        if rectangle.x_range[0] < self.x < rectangle.x_range[1]\\\n",
    "        and rectangle.y_range[0] < self.y < rectangle.y_range[1]:\n",
    "            print(f\"{self.x,self.y} is inside the rectangle Lower Left:{rectangle.x_range[0],rectangle.y_range[0]},Upper Right:{rectangle.x_range[1],rectangle.y_range[1]}\")\n",
    "        else:\n",
    "            print(f\"{self.x,self.y} is not inside the rectangle Lower Left:{rectangle.x_range[0],rectangle.y_range[0]},Upper Right:{rectangle.x_range[1],rectangle.y_range[1]}\")\n",
    "            \n",
    "# Using the Point object build Rectangle object\n",
    "class Rectangle:\n",
    "    def __init__(self,point_ll,point_ur): # ll: lower left, ur : upper right\n",
    "        self.x_range = [point_ll.x,point_ur.x]\n",
    "        self.y_range = [point_ll.y,point_ur.y]\n",
    "\n",
    "ll = Point(randint(0,10),randint(0,11))\n",
    "ur = Point(randint(11,21),randint(11,21))\n",
    "\n",
    "rectangle_x = Rectangle(ll,ur)\n",
    "\n",
    "print(f\"x_range{rectangle_x.x_range},y_range{rectangle_x.y_range}\")\n",
    "\n",
    "point_x = Point(5,5)\n",
    "point_x.check_inside_rectangle(rectangle_x)"
   ]
  },
  {
   "cell_type": "markdown",
   "metadata": {},
   "source": [
    "Benefit of Object Oriented Programming:\n",
    "Suppose we need to find the area of above Rectangle class"
   ]
  },
  {
   "cell_type": "code",
   "execution_count": 5,
   "metadata": {},
   "outputs": [
    {
     "name": "stdout",
     "output_type": "stream",
     "text": [
      "x_range[4, 12],y_range[3, 21]\n",
      "(5, 5) is inside the rectangle Lower Left:(4, 3),Upper Right:(12, 21)\n",
      "Area:144\n"
     ]
    }
   ],
   "source": [
    "from random import randint\n",
    "\n",
    "class Point:\n",
    "    def __init__(self,x,y):\n",
    "        self.x = x\n",
    "        self.y = y\n",
    "    def check_inside_rectangle(self,rectangle):\n",
    "        if rectangle.x_range[0] < self.x < rectangle.x_range[1]\\\n",
    "        and rectangle.y_range[0] < self.y < rectangle.y_range[1]:\n",
    "            print(f\"{self.x,self.y} is inside the rectangle Lower Left:{rectangle.x_range[0],rectangle.y_range[0]},Upper Right:{rectangle.x_range[1],rectangle.y_range[1]}\")\n",
    "        else:\n",
    "            print(f\"{self.x,self.y} is not inside the rectangle Lower Left:{rectangle.x_range[0],rectangle.y_range[0]},Upper Right:{rectangle.x_range[1],rectangle.y_range[1]}\")\n",
    "            \n",
    "# Using the Point object build Rectangle object\n",
    "class Rectangle:\n",
    "    def __init__(self,point_ll,point_ur): # ll: lower left, ur : upper right\n",
    "        self.x_range = [point_ll.x,point_ur.x]\n",
    "        self.y_range = [point_ll.y,point_ur.y]\n",
    "    def find_area(self):\n",
    "        print (f\"Area:{(self.x_range[1] - self.x_range[0])*(self.y_range[1] - self.y_range[0]) }\")\n",
    "\n",
    "ll = Point(randint(0,10),randint(0,11))\n",
    "ur = Point(randint(11,21),randint(11,21))\n",
    "\n",
    "rectangle_x = Rectangle(ll,ur)\n",
    "\n",
    "print(f\"x_range{rectangle_x.x_range},y_range{rectangle_x.y_range}\")\n",
    "\n",
    "point_x = Point(5,5)\n",
    "point_x.check_inside_rectangle(rectangle_x)\n",
    "\n",
    "rectangle_x.find_area()"
   ]
  },
  {
   "cell_type": "markdown",
   "metadata": {},
   "source": [
    "### class method vs static method\n",
    "- difference between class method and static method:\n",
    "    - class method is a method which is bound to its instance.\n",
    "    - static method is a method which is not bound to any instance or class of the class."
   ]
  },
  {
   "cell_type": "code",
   "execution_count": 2,
   "metadata": {},
   "outputs": [
    {
     "name": "stdout",
     "output_type": "stream",
     "text": [
      "<bound method D.double of <class '__main__.D'>>\n",
      "<function D.triple at 0x7f90f6e6e560>\n",
      "6\n",
      "6\n"
     ]
    }
   ],
   "source": [
    "class D(object):\n",
    "    multiplier = 2\n",
    "\n",
    "    @classmethod\n",
    "    def double(cls, arg):              #class is a reference to the class itself\n",
    "        return arg * cls.multiplier\n",
    "    \n",
    "    @staticmethod                      # don't bind anything at all, and simply return the underlying function without any transformations\n",
    "    def triple(arg):                   #arg is a reference to the argument passed to the function\n",
    "        return arg * 3\n",
    "\n",
    "\n",
    "print(D.double)                  #<bound method D.double of <class '__main__.D'>>\n",
    "print(D.triple)                  #<function D.triple at 0x7f90f6e6f300>\n",
    "\n",
    "    \n",
    "print(D.double(3))               #6     3 * 2\n",
    "print(D.triple(2))               #6     2 * 3\n"
   ]
  },
  {
   "cell_type": "markdown",
   "metadata": {},
   "source": [
    "### inheritance\n",
    "- Inheritance is the process by which one class takes on the attributes and methods of another, and can be used to \n",
    "    - create new classes.\n",
    "- A new class can be derived from an existing class\n",
    "\n",
    "### steps for inheritance\n",
    "- Inheritance is achieved by using the `class` keyword.\n",
    "- The derived class is called the child class, and the base class is called the parent class.\n",
    "- The child class inherits all the attributes and methods of the parent class.\n",
    "- The child class can override methods of the parent class.\n",
    "- The child class can also add new attributes and methods.\n",
    "- The child class can also inherit from another class.\n",
    "\n",
    "1. override the baseclass `__init__()` method\n",
    "2. call the baseclass `super().__init__()` method"
   ]
  },
  {
   "cell_type": "code",
   "execution_count": 6,
   "metadata": {},
   "outputs": [
    {
     "name": "stdout",
     "output_type": "stream",
     "text": [
      "Tony.species : H. sapiens\n",
      "Tony.name : Tony\n",
      "Tony.age : 29\n",
      "Tony.pay : 99999b\n",
      "Tony.work : genius\n"
     ]
    }
   ],
   "source": [
    "class Human:                                    # base class\n",
    "    species = 'H. sapiens'\n",
    "    def __init__(self, name, age):\n",
    "        self.name = name\n",
    "        self.age = age\n",
    "    def __str__(self):\n",
    "        return f'{self.name} is {self.age} years old'\n",
    "    def __repr__(self):\n",
    "        return f'Human(\"{self.name}\", {self.age})'\n",
    "\n",
    "class Worker(Human):                                   # derived class\n",
    "    def __init__(self, name, age, pay,work):        # overriding the base class __init__\n",
    "        super().__init__(name, age)                 # calling the base class __init__ using super()\n",
    "        self.pay = pay\n",
    "        self.work = work\n",
    "    def work(self):\n",
    "        return f'{self.name} works as a {self.work}'\n",
    "\n",
    "Tony = Worker('Tony', 29, '99999b', 'genius')\n",
    "\n",
    "print(f\"Tony.species : {Tony.species}\")\n",
    "print(f\"Tony.name : {Tony.name}\")\n",
    "print(f\"Tony.age : {Tony.age}\")\n",
    "print(f\"Tony.pay : {Tony.pay}\")\n",
    "print(f\"Tony.work : {Tony.work}\")"
   ]
  },
  {
   "cell_type": "markdown",
   "metadata": {},
   "source": [
    "### monkey patching\n",
    "- Python allows you to add new attributes and methods to an existing class.\n",
    "\n",
    "-  Why does this work? Because functions are objects just like any other object, and methods are functions that belong to the class."
   ]
  },
  {
   "cell_type": "code",
   "execution_count": 10,
   "metadata": {},
   "outputs": [
    {
     "name": "stdout",
     "output_type": "stream",
     "text": [
      "30\n",
      "-10\n",
      "3\n",
      "-1\n"
     ]
    }
   ],
   "source": [
    "class A(object):\n",
    "    def __init__(self,a,b):\n",
    "        self.a = a\n",
    "        self.b = b\n",
    "    def __add__(self):\n",
    "        return self.a+self.b\n",
    "\n",
    "num1 = A(1,2)\n",
    "\n",
    "\n",
    "# now we want to add __sub__ method to A class\n",
    "\n",
    "def __sub__(self):\n",
    "    return self.a-self.b\n",
    "\n",
    "A.__sub__ = __sub__                       # adding __sub__ method to A class\n",
    "\n",
    "num = A(10,20)\n",
    "\n",
    "\n",
    "print(num.__add__())            # 30\n",
    "print(num.__sub__())            #-10\n",
    "\n",
    "\n",
    "#The function shall be available to all existing (already created) as well to the new instances of A\n",
    "\n",
    "print(num1.__add__())    #3\n",
    "print(num1.__sub__())    #-1"
   ]
  },
  {
   "cell_type": "markdown",
   "metadata": {},
   "source": [
    "### New-style vs. old-style classes\n",
    "- New-style classes are classes that use the `class` keyword. and inherit from `object`.\n",
    "    - New-style classes in Python 3 implicitly inherit from object, so there is `no need to specify MyClass(object)`\n",
    "- Old-style classes are classes that use the `class` keyword. do not inherit from object.\n"
   ]
  },
  {
   "cell_type": "markdown",
   "metadata": {},
   "source": [
    "### multiple inheritance\n",
    "- Multiple inheritance is the process of inheriting from more than one class."
   ]
  },
  {
   "cell_type": "code",
   "execution_count": 11,
   "metadata": {},
   "outputs": [
    {
     "name": "stdout",
     "output_type": "stream",
     "text": [
      "C.__mro__ : (<class '__main__.C'>, <class '__main__.A'>, <class '__main__.B'>, <class 'object'>)\n"
     ]
    }
   ],
   "source": [
    "class A(object):\n",
    "    def __init__(self,a,b):\n",
    "        self.a = a\n",
    "        self.b = b\n",
    "  \n",
    "\n",
    "class B(object):\n",
    "    def __init__(self,b):\n",
    "        self.b = b\n",
    " \n",
    "class C(A,B):                            # multiple inheritance from A and B\n",
    "    def __init__(self,a,b):\n",
    "        super().__init__(a,b)\n",
    "        self.c = a+b\n",
    "\n",
    "print(f\"C.__mro__ : {C.__mro__}\")       #(<class '__main__.C'>, <class '__main__.A'>, <class '__main__.B'>, <class 'object'>)"
   ]
  },
  {
   "cell_type": "markdown",
   "metadata": {},
   "source": [
    "###  properties\n",
    "- Properties are a way to make attributes of a class behave like a data attribute.\n",
    "\n"
   ]
  },
  {
   "cell_type": "code",
   "execution_count": null,
   "metadata": {},
   "outputs": [],
   "source": [
    "## property of a method\n",
    "\n",
    "class MyClass:\n",
    "    def __init__(self, value):\n",
    "        self.value = value\n",
    "    @property                     # decorator -> property of a method -> make a method into a property    \n",
    "    def get_value(self):\n",
    "        return self.value\n",
    "    def set_value(self, value):\n",
    "        self.value = value\n",
    "  \n"
   ]
  },
  {
   "cell_type": "markdown",
   "metadata": {},
   "source": [
    "### Class composition\n",
    "- Class composition is the process of combining several classes into a single class.\n"
   ]
  },
  {
   "cell_type": "markdown",
   "metadata": {},
   "source": [
    "### Singleton class\n",
    "- A singleton class is a class that has only one instance."
   ]
  },
  {
   "cell_type": "markdown",
   "metadata": {},
   "source": [
    "### Descriptors and Dotted Lookups\n",
    "- Descriptors are objects that have a `__set__` , `__get__`, and `__delete__` method.\n",
    "- Dotted lookups are a way to access attributes of an object using a string of the form `object.attribute`.\n"
   ]
  },
  {
   "cell_type": "markdown",
   "metadata": {},
   "source": [
    "### metaclass\n",
    "- Metaclasses allow you to deeply modify the behaviour of Python classes (in terms of how they're defined,\n",
    "instantiated, accessed, and more) by replacing the type metaclass that new classes use by default.\n"
   ]
  }
 ],
 "metadata": {
  "kernelspec": {
   "display_name": "Python 3",
   "language": "python",
   "name": "python3"
  },
  "language_info": {
   "codemirror_mode": {
    "name": "ipython",
    "version": 3
   },
   "file_extension": ".py",
   "mimetype": "text/x-python",
   "name": "python",
   "nbconvert_exporter": "python",
   "pygments_lexer": "ipython3",
   "version": "3.12.7"
  },
  "orig_nbformat": 4
 },
 "nbformat": 4,
 "nbformat_minor": 2
}
