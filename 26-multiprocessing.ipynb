{
 "cells": [
  {
   "cell_type": "markdown",
   "metadata": {},
   "source": [
    "### multiprocessing\n",
    "- multiprocessor system has the ability to support more than one processor at the same time.\n",
    "- omputer has more than one central processor"
   ]
  },
  {
   "cell_type": "code",
   "execution_count": 1,
   "metadata": {},
   "outputs": [
    {
     "name": "stdout",
     "output_type": "stream",
     "text": [
      "16\n"
     ]
    }
   ],
   "source": [
    "import multiprocessing as mlp\n",
    "\n",
    "print(mlp.cpu_count())  # 16 -->total number of cores between multiple processors, not cores per processor"
   ]
  },
  {
   "cell_type": "markdown",
   "metadata": {},
   "source": [
    "### process class\n",
    "\n",
    "- Process is the forked copy of the current process. \n",
    "- It creates a new process identifier and tasks run as independent child process.\n",
    "- `start()` and `join()` functions belong to this class. To pass an argument through a process, we use `args` keyword."
   ]
  },
  {
   "cell_type": "code",
   "execution_count": null,
   "metadata": {},
   "outputs": [],
   "source": [
    "import time\n",
    "import math\n",
    "\n",
    "def timer(f):\n",
    "    def wrapper(*args, **kwargs):\n",
    "        start = time.time()\n",
    "        result = f(*args, **kwargs)\n",
    "        end = time.time()\n",
    "        time_taken = end - start\n",
    "        return result, time_taken\n",
    "    return wrapper\n",
    "\n",
    "\n",
    "\n",
    "\n",
    "@timer\n",
    "def factorial_dict(n):\n",
    "    return {i:math.factorial(i) for i in range(n)}\n",
    "\n",
    "\n",
    "for i in range(1, 6,1):\n",
    "    limit = 10**i\n",
    "    print(f\"factorial upto({limit}) took: {factorial_dict(limit)[1]:.6f}s\")"
   ]
  },
  {
   "cell_type": "code",
   "execution_count": null,
   "metadata": {},
   "outputs": [],
   "source": [
    "import time\n",
    "import math\n",
    "import multiprocessing\n",
    "\n",
    "def timer(f):\n",
    "    def wrapper(*args, **kwargs):\n",
    "        start = time.time()\n",
    "        result = f(*args, **kwargs)\n",
    "        end = time.time()\n",
    "        time_taken = end - start\n",
    "        return result, time_taken\n",
    "    return wrapper\n",
    "\n",
    "\n",
    "\n",
    "\n",
    "@timer\n",
    "def factorial_dict(n):\n",
    "    return {i:math.factorial(i) for i in range(n)}\n",
    "\n",
    "\n",
    "def factorial_eval():\n",
    "    for i in range(1, 6,1):\n",
    "        limit = 10**i\n",
    "        print(f\"factorial upto({limit}) took: {factorial_dict(limit)[1]:.6f}s\")\n",
    "\n",
    "if __name__ == '__main__':\n",
    "    p = multiprocessing.Process(target=factorial_eval)\n",
    "    p.start()\n",
    "    p.join()\n",
    "    print(\"Done!\")"
   ]
  }
 ],
 "metadata": {
  "interpreter": {
   "hash": "e7370f93d1d0cde622a1f8e1c04877d8463912d04d973331ad4851f04de6915a"
  },
  "kernelspec": {
   "display_name": "Python 3.10.2 64-bit",
   "language": "python",
   "name": "python3"
  },
  "language_info": {
   "codemirror_mode": {
    "name": "ipython",
    "version": 3
   },
   "file_extension": ".py",
   "mimetype": "text/x-python",
   "name": "python",
   "nbconvert_exporter": "python",
   "pygments_lexer": "ipython3",
   "version": "3.10.2"
  },
  "orig_nbformat": 4
 },
 "nbformat": 4,
 "nbformat_minor": 2
}
