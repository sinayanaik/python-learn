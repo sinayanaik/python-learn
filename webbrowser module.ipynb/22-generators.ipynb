{
 "cells": [
  {
   "cell_type": "markdown",
   "metadata": {},
   "source": [
    "### generators\n",
    "- Generators are `lazy iterators` created by \n",
    "    1. generator functions (using  `yield`) or \n",
    "    2. generator expressions (using\n",
    "       `(an_expression for x in an_iterator))`"
   ]
  }
 ],
 "metadata": {
  "interpreter": {
   "hash": "e7370f93d1d0cde622a1f8e1c04877d8463912d04d973331ad4851f04de6915a"
  },
  "kernelspec": {
   "display_name": "Python 3.10.2 64-bit",
   "language": "python",
   "name": "python3"
  },
  "language_info": {
   "name": "python",
   "version": "3.10.2"
  },
  "orig_nbformat": 4
 },
 "nbformat": 4,
 "nbformat_minor": 2
}
