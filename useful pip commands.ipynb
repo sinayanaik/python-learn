{
 "cells": [
  {
   "cell_type": "markdown",
   "metadata": {},
   "source": [
    "#### search for a package\n",
    "```shell\n",
    "pip search <package>\n",
    "```\n",
    "\n",
    "### Install a package\n",
    "```shell\n",
    "pip install <package>\n",
    "```\n",
    "### Uninstall a package\n",
    "```shell\n",
    "pip uninstall <package>\n",
    "```\n",
    "\n",
    "### Upgrade a package\n",
    "```shell\n",
    "pip install --upgrade <package>\n",
    "```\n",
    "### install a specific version of a package\n",
    "```shell\n",
    "pip install <package>==<version>\n",
    "```\n",
    "\n",
    "### install minimum version of a package\n",
    "```shell\n",
    "pip install <package>>=<version>\n",
    "```\n",
    "### list installed packages\n",
    "```shell\n",
    "pip list\n",
    "```\n",
    "\n",
    "### list outdated packages\n",
    "```shell\n",
    "pip list --outdated\n",
    "```\n",
    "\n"
   ]
  }
 ],
 "metadata": {
  "language_info": {
   "name": "python"
  },
  "orig_nbformat": 4
 },
 "nbformat": 4,
 "nbformat_minor": 2
}
