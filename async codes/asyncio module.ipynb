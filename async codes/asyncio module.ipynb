{
 "cells": [
  {
   "cell_type": "markdown",
   "metadata": {},
   "source": [
    "### asyncio module\n",
    "-  asyncio: the Python package that provides a foundation and API for running and managing coroutines\n",
    "-  asyncio module is a coroutine-based event loop for Python 3.4+\n",
    "- `async/await`: two new Python keywords that are used to define coroutines\n",
    "- async IO is a single-threaded, single-process design: it uses cooperative multitasking\n",
    "-  async IO is a style of concurrent programming, but it is not parallelism. \n",
    "\n",
    "\n",
    "![asyncio](https://files.realpython.com/media/Screen_Shot_2018-10-17_at_3.18.44_PM.c02792872031.jpg)\n",
    "\n",
    "\n",
    "\n",
    ">Chess master Judit Polgár hosts a chess exhibition in which she plays multiple amateur players. She has two ways of conducting the exhibition: synchronously and asynchronously.\n",
    "Assumptions:\n",
    "24 opponents\n",
    "Judit makes each chess move in 5 seconds\n",
    "Opponents each take 55 seconds to make a move\n",
    "Games average 30 pair-moves (60 moves total)\n",
    "\n",
    ">`Synchronous version`: Judit plays one game at a time, never two at the same time, until the game is complete. Each game takes (55 + 5) * 30 == 1800 seconds, or 30 minutes. The entire exhibition takes 24 * 30 == 720 minutes, or `12 hours`.\n",
    "\n",
    ">`Asynchronous version`: Judit moves from table to table, making one move at each table. She leaves the table and lets the opponent make their next move during the wait time. One move on all 24 games takes Judit 24 * 5 == 120 seconds, or 2 minutes. The entire exhibition is now cut down to 120 * 30 == 3600 seconds, or just `1 hour`. (Source)\n",
    "\n",
    "### coroutine\n",
    "- specialized version of a Python generator function.\n",
    "-  coroutine: a function that can be suspended and resumed at a later time\n",
    "- a coroutine is a function that can suspend its execution before reaching return, and it can indirectly pass control to another coroutine for some time."
   ]
  },
  {
   "cell_type": "code",
   "execution_count": null,
   "metadata": {},
   "outputs": [],
   "source": [
    "import asyncio                #asyncio module : asyncio is a library to write concurrent code using the async/await syntax.\n",
    "import time\n",
    "\n",
    "async def say_after(delay, what):               # async def : async function\n",
    "    await asyncio.sleep(delay)                  # await : wait for the result of an asynchronous operation\n",
    "    print(what)                                 # print : print the result of an asynchronous operation \n",
    "\n",
    "async def main():                                      # async def : async function\n",
    "    print(f\"started at {time.strftime('%X')}\")         # print : print the result of an asynchronous operation\n",
    "\n",
    "    await say_after(1, 'hello')                        # await : wait for the result of an asynchronous operation\n",
    "    await say_after(2, 'world')                        # await : wait for the result of an asynchronous operation\n",
    "\n",
    "    print(f\"finished at {time.strftime('%X')}\")\n",
    "\n",
    "asyncio.run(main())                              # asyncio.run : run the main function\n",
    "\n",
    "\n",
    "# ---------\n",
    "# started at 07:07:05\n",
    "# hello\n",
    "# world\n",
    "# finished at 07:07:0\n",
    "# ---------"
   ]
  }
 ],
 "metadata": {
  "interpreter": {
   "hash": "e7370f93d1d0cde622a1f8e1c04877d8463912d04d973331ad4851f04de6915a"
  },
  "kernelspec": {
   "display_name": "Python 3.10.2 64-bit",
   "language": "python",
   "name": "python3"
  },
  "language_info": {
   "codemirror_mode": {
    "name": "ipython",
    "version": 3
   },
   "file_extension": ".py",
   "mimetype": "text/x-python",
   "name": "python",
   "nbconvert_exporter": "python",
   "pygments_lexer": "ipython3",
   "version": "3.10.2"
  },
  "orig_nbformat": 4
 },
 "nbformat": 4,
 "nbformat_minor": 2
}
