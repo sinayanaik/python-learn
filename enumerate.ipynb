{
 "cells": [
  {
   "cell_type": "markdown",
   "metadata": {},
   "source": [
    "### enumerate\n",
    "- dealing with iterators, we also get a need to keep a count of iterations.\n",
    "- enumerate() returns an iterator that yields both an index and the value of the array.\n",
    "\n",
    "syntax\n",
    "```python\n",
    "enumerate(iterable, start=0)\n",
    "```"
   ]
  },
  {
   "cell_type": "code",
   "execution_count": 3,
   "metadata": {},
   "outputs": [
    {
     "name": "stdout",
     "output_type": "stream",
     "text": [
      "<enumerate object at 0x7febc9648500>\n",
      "[(0, 'Iron Man'), (1, 'Hulk'), (2, 'Thor')]\n",
      "[(1, 'Iron Man'), (2, 'Hulk'), (3, 'Thor')]\n"
     ]
    }
   ],
   "source": [
    "heroes = [\"Iron Man\",\"Hulk\",\"Thor\"]\n",
    "\n",
    "enumerated_heroes = enumerate(heroes)\n",
    "print(enumerated_heroes)\n",
    "print(list(enumerated_heroes))\n",
    "\n",
    "\n",
    "enumerated_heroes = enumerate(heroes,start=1)\n",
    "print(list(enumerated_heroes))\n"
   ]
  },
  {
   "cell_type": "markdown",
   "metadata": {},
   "source": [
    "Multidimentional"
   ]
  },
  {
   "cell_type": "code",
   "execution_count": 5,
   "metadata": {},
   "outputs": [
    {
     "name": "stdout",
     "output_type": "stream",
     "text": [
      "[(1, ['Iron Man', 'Hulk', 'Thor']), (2, ['Batman', 'Super Man', 'Flash'])]\n"
     ]
    }
   ],
   "source": [
    "heroes = [ [\"Iron Man\",\"Hulk\",\"Thor\"],[\"Batman\",\"Super Man\",\"Flash\"]]\n",
    "\n",
    "enumerated_heroes = enumerate(heroes,start=1)\n",
    "print(list(enumerated_heroes))"
   ]
  }
 ],
 "metadata": {
  "interpreter": {
   "hash": "e7370f93d1d0cde622a1f8e1c04877d8463912d04d973331ad4851f04de6915a"
  },
  "kernelspec": {
   "display_name": "Python 3.10.2 64-bit",
   "language": "python",
   "name": "python3"
  },
  "language_info": {
   "codemirror_mode": {
    "name": "ipython",
    "version": 3
   },
   "file_extension": ".py",
   "mimetype": "text/x-python",
   "name": "python",
   "nbconvert_exporter": "python",
   "pygments_lexer": "ipython3",
   "version": "3.10.2"
  },
  "orig_nbformat": 4
 },
 "nbformat": 4,
 "nbformat_minor": 2
}
