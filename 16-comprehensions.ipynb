{
 "cells": [
  {
   "cell_type": "markdown",
   "metadata": {},
   "source": [
    "## list comprehension\n",
    "\n",
    "`[ <expression> for <element> in <iterable> ]`\n",
    "\n",
    " ```python\n",
    "         squares = [x * x for x in (1, 2, 3, 4)]\n",
    "  ```\n",
    "\n",
    "`[ <expression> for <element> in <iterable> if <condition> ]`\n",
    "\n",
    " ```python\n",
    "         [x for x in 'apple' if x in 'aeiou' else '*']\n",
    "  ```"
   ]
  },
  {
   "cell_type": "markdown",
   "metadata": {},
   "source": [
    "## dictionary comprehension\n",
    "- A dictionary comprehension is similar to a list comprehension except that it produces a dictionary object instead of\n",
    "a list.\n",
    "\n",
    "`dict((<expression>,<expression>) for <element> in <iterable>)`\n",
    "```python\n",
    "dict((x, x * x) for x in (1, 2, 3, 4))\n",
    "```\n",
    "\n",
    "`dict((<expression>,<expression>) for <element> in <iterable> if <condition>)`"
   ]
  },
  {
   "cell_type": "markdown",
   "metadata": {},
   "source": [
    "## set comprehesions\n",
    "\n",
    "`{ <expression> for <element> in <iterable> }`\n",
    "\n",
    " ```python\n",
    "         squares = {x * x for x in (1, 2, 3, 4)}\n",
    "  ```\n",
    "\n",
    "  `{ <expression> for <element> in <iterable> if <condition> }`\n",
    "   ```python\n",
    "         {x for x in 'apple' if x in 'aeiou' else '*'}\n",
    "  ```"
   ]
  }
 ],
 "metadata": {
  "language_info": {
   "name": "python"
  },
  "orig_nbformat": 4
 },
 "nbformat": 4,
 "nbformat_minor": 2
}
