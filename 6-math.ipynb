{
 "cells": [
  {
   "cell_type": "markdown",
   "metadata": {},
   "source": [
    "## math"
   ]
  },
  {
   "cell_type": "code",
   "execution_count": null,
   "metadata": {},
   "outputs": [],
   "source": [
    "import math\n",
    "dir(math)"
   ]
  },
  {
   "cell_type": "markdown",
   "metadata": {},
   "source": [
    "- **acos**: returns the arc cosine value of a number :math.acos(number) :math.acos(0.55) : 0.988432\n",
    "- **asin**: returns the arc sine value of a number :math.asin(number) :math.asin(0.55) : 0.5823\n",
    "- **atan**: returns the arc tangent value of a number :math.atan(number) :math.atan(0.55) : 0.5028\n",
    "- **ceil**: returns the ceiling of a number :math.ceil(number) :math.ceil(0.55) : 1\n",
    "- **cos**: returns the cosine value of a number :math.cos(number) :math.cos(0.55) : 0.9063\n",
    "- **cosh**: returns the hyperbolic cosine value of a number :math.cosh(number) :math.cosh(0.55) : 1.0986\n",
    "- **degrees**: converts radians to degrees :math.degrees(number) :math.degrees(0.55) : 31.4159\n",
    "- **exp**: returns the exponential value of a number :math.exp(number) :math.exp(0.55) : 1.0986\n",
    "- **fabs**: returns the absolute value of a number :math.fabs(number) :math.fabs(0.55) : 0.55\n",
    "- **floor**: returns the floor of a number :math.floor(number) :math.floor(0.55) : 0\n",
    "- **log**: returns the natural logarithm of a number :math.log(number) :math.log(0.55) : 0.0986\n",
    "- **log10**: returns the base 10 logarithm of a number :math.log10(number) :math.log10(0.55) : 0.099\n",
    "- **log2**: returns the base 2 logarithm of a number :math.log2(number) :math.log2(0.55) : 0.0986\n",
    "- **radians**: converts degrees to radians :math.radians(number) :math.radians(0.55) : 0.55\n",
    "- **sin**: returns the sine value of a number :math.sin(number) :math.sin(0.55) : 0.55\n",
    "- **sinh**: returns the hyperbolic sine value of a number :math.sinh(number) :math.sinh(0.55) : 0.55\n",
    "- **sqrt**: returns the square root of a number :math.sqrt(number) :math.sqrt(0.55) : 0.2886\n",
    "- **tan**: returns the tangent value of a number :math.tan(number) :math.tan(0.55) : 0.55\n",
    "- **tanh**: returns the hyperbolic tangent value of a number :math.tanh(number) :math.tanh(0.55) : 0.55\n",
    "- **trunc**: returns the truncated value of a number :math.trunc(number) :math.trunc(0.55) : 0\n",
    "- **factorial**: returns the factorial of a number :math.factorial(number) :math.factorial(0.55) : 1\n",
    "- **gamma**: returns the gamma function of a number :math.gamma(number) :math.gamma(0.55) : 1.0986\n",
    "- **lgamma**: returns the logarithm of the gamma function of a number :math.lgamma(number) :math.lgamma(0.55) : 0.0986\n",
    "- **erf**: returns the error function of a number :math.erf(number) :math.erf(0.55) : 0.55\n",
    "- **erfc**: returns the complementary error function of a number :math.erfc(number) :math.erfc(0.55) : 0.55\n",
    "- **pow** returns the value of a number raised to the power of another number :math.pow(number, power) :math.pow(0.55, 2) : 0.3025\n",
    "- **hypot** returns the hypotenuse of a right-angle triangle :math.hypot(number, power) :math.hypot(0.55, 2) : 0.55\n",
    "- **ldexp** returns the value of a number multiplied by a power of 2 :math.ldexp(number, power) :math.ldexp(0.55, 2) : 0.11\n",
    "- **frexp** returns the fractional and integer parts of a number :math.frexp(number) :math.frexp(0.55) : (0.55, 0)\n",
    "- **modf** returns the fractional and integer parts of a number :math.modf(number) :math.modf(0.55) : (0.0, 0.55)\n",
    "- **fmod** returns the remainder of a division :math.fmod(number, power) :math.fmod(0.55, 2) : 0.55\n",
    "- **copysign** returns the value of a number with its sign changed :math.copysign(number, power) :math.copysign(0.55, 2) : 0.55\n",
    "- **fmax** returns the maximum of two numbers :math.fmax(number, power) :math.fmax(0.55, 2) : 2\n",
    "- **fmin** returns the minimum of two numbers :math.fmin(number, power) :math.fmin(0.55, 2) : 0.55\n",
    "- **fmod** returns the remainder of a division :math.fmod(number, power) :math.fmod(0.55, 2) : 0.55\n",
    "- **frexp** returns the fractional and integer parts of a number :math.frexp(number) :math.frexp(0.55) : (0.55, 0)\n",
    "- **ldexp** returns the value of a number multiplied by a power of 2 :math.ldexp(number, power) :math.ldexp(0.55, 2) : 0.11\n",
    "- **modf** returns the fractional and integer parts of a number :math.modf(number) :math.modf(0.55) : (0.0, 0.55)\n"
   ]
  },
  {
   "cell_type": "markdown",
   "metadata": {},
   "source": [
    "### simple mathematical functions\n"
   ]
  },
  {
   "cell_type": "markdown",
   "metadata": {},
   "source": [
    "operator | description | example\n",
    "--- | --- | ---\n",
    "**+** | add | 1 + 2 = 3\n",
    "**-** | subtract | 1 - 2 = -1\n",
    "***** | multiply | 1 * 2 = 2\n",
    "**/** | divide | 1 / 2 = 0.5\n",
    "**//** | floor division | 1 // 2 = 0\n",
    "**%** | modulo | 1 % 2 = 1\n",
    "**** | power| 1 ** 2 = 1\n"
   ]
  },
  {
   "cell_type": "markdown",
   "metadata": {},
   "source": [
    "### using the operator module"
   ]
  },
  {
   "cell_type": "code",
   "execution_count": null,
   "metadata": {},
   "outputs": [],
   "source": [
    "import operator\n",
    "dir(operator)"
   ]
  },
  {
   "cell_type": "markdown",
   "metadata": {},
   "source": [
    "### complex math"
   ]
  },
  {
   "cell_type": "code",
   "execution_count": 12,
   "metadata": {},
   "outputs": [
    {
     "data": {
      "text/plain": [
       "['__doc__',\n",
       " '__file__',\n",
       " '__loader__',\n",
       " '__name__',\n",
       " '__package__',\n",
       " '__spec__',\n",
       " 'acos',\n",
       " 'acosh',\n",
       " 'asin',\n",
       " 'asinh',\n",
       " 'atan',\n",
       " 'atanh',\n",
       " 'cos',\n",
       " 'cosh',\n",
       " 'e',\n",
       " 'exp',\n",
       " 'inf',\n",
       " 'infj',\n",
       " 'isclose',\n",
       " 'isfinite',\n",
       " 'isinf',\n",
       " 'isnan',\n",
       " 'log',\n",
       " 'log10',\n",
       " 'nan',\n",
       " 'nanj',\n",
       " 'phase',\n",
       " 'pi',\n",
       " 'polar',\n",
       " 'rect',\n",
       " 'sin',\n",
       " 'sinh',\n",
       " 'sqrt',\n",
       " 'tan',\n",
       " 'tanh',\n",
       " 'tau']"
      ]
     },
     "execution_count": 12,
     "metadata": {},
     "output_type": "execute_result"
    }
   ],
   "source": [
    "import cmath\n",
    "dir(cmath)"
   ]
  }
 ],
 "metadata": {
  "interpreter": {
   "hash": "d2152fd7f0bbc62aa1baff8c990435d1e2c7175d001561303988032604c11a48"
  },
  "kernelspec": {
   "display_name": "Python 3.10.2 64-bit",
   "language": "python",
   "name": "python3"
  },
  "language_info": {
   "codemirror_mode": {
    "name": "ipython",
    "version": 3
   },
   "file_extension": ".py",
   "mimetype": "text/x-python",
   "name": "python",
   "nbconvert_exporter": "python",
   "pygments_lexer": "ipython3",
   "version": "3.10.2"
  },
  "orig_nbformat": 4
 },
 "nbformat": 4,
 "nbformat_minor": 2
}
