{
 "cells": [
  {
   "cell_type": "markdown",
   "metadata": {},
   "source": [
    "### conditionals\n",
    "#### if\n",
    "```python\n",
    "if condition:\n",
    "    # do something\n",
    "```\n",
    "#### elif\n",
    "```python\n",
    "elif condition:\n",
    "    # do something\n",
    "```\n",
    "#### else\n",
    "```python\n",
    "if condition:\n",
    "    # do something\n",
    "else:\n",
    "    # do something else\n",
    "```\n"
   ]
  }
 ],
 "metadata": {
  "language_info": {
   "name": "python"
  },
  "orig_nbformat": 4
 },
 "nbformat": 4,
 "nbformat_minor": 2
}
