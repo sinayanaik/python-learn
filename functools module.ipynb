{
 "cells": [
  {
   "cell_type": "markdown",
   "metadata": {},
   "source": [
    "### functools module\n",
    "- functools : Tools for working with functions and callable objects\n",
    "\n",
    "`functools objects`| description | `syntax`\n",
    "---|---|---\n",
    "`partial`| partial function | `functools.partial(func, *args, **kwargs)`\n",
    "`reduce`| reduce function | `functools.reduce(func, iterable[, initializer])`\n",
    "`partialmethod`| partial method | `functools.partialmethod(func, *args, **kwargs)`\n",
    "`wraps`| wraps function | `functools.wraps(wrapped, assigned=functools.WRAPPER_ASSIGNMENTS, updated=functools.WRAPPER_UPDATES)`\n",
    "`total_ordering`| total ordering | `functools.total_ordering(cls)`\n",
    "`lru_cache`| lru cache | `functools.lru_cache(maxsize=128, typed=False)`\n",
    "`singledispatch`| singledispatch | `functools.singledispatch(name=None)`\n",
    "`update_wrapper`| update wrapper | `functools.update_wrapper(wrapper, wrapped, assigned=functools.WRAPPER_ASSIGNMENTS, updated=functools.WRAPPER_UPDATES)`\n",
    "`cmp_to_key`| cmp to key | `functools.cmp_to_key(mycmp)`"
   ]
  },
  {
   "cell_type": "code",
   "execution_count": 1,
   "metadata": {},
   "outputs": [
    {
     "data": {
      "text/plain": [
       "1234"
      ]
     },
     "execution_count": 1,
     "metadata": {},
     "output_type": "execute_result"
    }
   ],
   "source": [
    "from functools import partial\n",
    "\n",
    "unhex = partial(int, base=16)\n",
    "unhex('4d2')                   # => 1234"
   ]
  }
 ],
 "metadata": {
  "interpreter": {
   "hash": "e7370f93d1d0cde622a1f8e1c04877d8463912d04d973331ad4851f04de6915a"
  },
  "kernelspec": {
   "display_name": "Python 3.10.2 64-bit",
   "language": "python",
   "name": "python3"
  },
  "language_info": {
   "codemirror_mode": {
    "name": "ipython",
    "version": 3
   },
   "file_extension": ".py",
   "mimetype": "text/x-python",
   "name": "python",
   "nbconvert_exporter": "python",
   "pygments_lexer": "ipython3",
   "version": "3.10.2"
  },
  "orig_nbformat": 4
 },
 "nbformat": 4,
 "nbformat_minor": 2
}
