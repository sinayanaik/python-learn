{
 "cells": [
  {
   "cell_type": "markdown",
   "metadata": {},
   "source": [
    "### magic methods\n",
    "- Magic methods are not meant to be invoked directly by you, but the invocation happens internally from the class on a certain action\n",
    "- Magic methods are used to implement the functionality of the class\n",
    "- also called dunder(double under) methods\n",
    "\n",
    "magic method | description\n",
    "--- | ---\n",
    "`__str__()`|return a printable string representation of any user defined class\n",
    "`__repr__()`|return a string representation of any user defined class\n",
    "`__len__()`|return the length of the object\n",
    "`__del__()`|delete the object\n",
    "`__call__()`|call the object as a function\n",
    "`__getitem__()`|get the item at the specified index\n",
    "`__setitem__()`|set the item at the specified index\n",
    "`__delitem__()`|delete the item at the specified index\n",
    "`__iter__()`|return an iterator object\n",
    "`__contains__()`|return true if the object contains the specified value\n",
    "`__add__()`|add two objects\n",
    "`__sub__()`|subtract two objects\n",
    "`__mul__()`|multiply two objects\n",
    "`__floordiv__()`|floor divide two objects\n",
    "`__mod__()`|modulo two objects\n",
    "`__divmod__()`|divide and return the remainder of two objects\n",
    "`__pow__()`|raise to the power of two objects\n",
    "`__lshift__()`|left shift two objects\n",
    "`__rshift__()`|right shift two objects\n",
    "`__and__()`|bitwise and two objects\n",
    "`__xor__()`|bitwise xor two objects\n",
    "`__or__()`|bitwise or two objects\n",
    "`__radd__()`|add two objects (right to left)\n",
    "`__rsub__()`|subtract two objects (right to left)\n",
    "`__rmul__()`|multiply two objects (right to left)\n",
    "`__rfloordiv__()`|floor divide two objects (right to left)\n",
    "`__rmod__()`|modulo two objects (right to left)\n",
    "`__rdivmod__()`|divide and return the remainder of two objects (right to left)\n",
    "`__rpow__()`|raise to the power of two objects (right to left)\n",
    "`__rlshift__()`|left shift two objects (right to left)\n",
    "`__rrshift__()`|right shift two objects (right to left)\n",
    "`__rand__()`|bitwise and two objects (right to left)\n",
    "`__rxor__()`|bitwise xor two objects (right to left)\n",
    "`__ror__()`|bitwise or two objects (right to left)\n",
    "`__iadd__()`|add two objects in-place\n",
    "`__isub__()`|subtract two objects in-place\n",
    "`__imul__()`|multiply two objects in-place\n",
    "`__ifloordiv__()`|floor divide two objects in-place\n",
    "`__imod__()`|modulo two objects in-place\n",
    "`__ipow__()`|raise to the power of two objects in-place\n",
    "`__ilshift__()`|left shift two objects in-place\n",
    "`__irshift__()`|right shift two objects in-place\n",
    "`__iand__()`|bitwise and two objects in-place\n",
    "`__ixor__()`|bitwise xor two objects in-place\n",
    "`__ior__()`|bitwise or two objects in-place\n",
    "`__neg__()`|return the negation of an object\n",
    "`__pos__()`|return the positive of an object\n",
    "`__abs__()`|return the absolute value of an object"
   ]
  },
  {
   "cell_type": "markdown",
   "metadata": {},
   "source": [
    "#### `__str__()`\n"
   ]
  },
  {
   "cell_type": "code",
   "execution_count": 3,
   "metadata": {},
   "outputs": [
    {
     "name": "stdout",
     "output_type": "stream",
     "text": [
      "Tony-500k\n"
     ]
    }
   ],
   "source": [
    "class Employee:\n",
    "    def __init__(self, name, salary):\n",
    "        self.name = name\n",
    "        self.salary = salary\n",
    "\n",
    "    def __str__(self):\n",
    "        return f'{self.name}-{self.salary}'\n",
    "\n",
    "\n",
    "Tony =  Employee('Tony', '500k')\n",
    "\n",
    "print(Tony.__str__())         # Tony-500k\n"
   ]
  }
 ],
 "metadata": {
  "interpreter": {
   "hash": "e7370f93d1d0cde622a1f8e1c04877d8463912d04d973331ad4851f04de6915a"
  },
  "kernelspec": {
   "display_name": "Python 3.10.2 64-bit",
   "language": "python",
   "name": "python3"
  },
  "language_info": {
   "codemirror_mode": {
    "name": "ipython",
    "version": 3
   },
   "file_extension": ".py",
   "mimetype": "text/x-python",
   "name": "python",
   "nbconvert_exporter": "python",
   "pygments_lexer": "ipython3",
   "version": "3.10.2"
  },
  "orig_nbformat": 4
 },
 "nbformat": 4,
 "nbformat_minor": 2
}
