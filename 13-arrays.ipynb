{
 "cells": [
  {
   "cell_type": "markdown",
   "metadata": {},
   "source": [
    "### arrays\n",
    "- arrays are a sequence of elements of the same type\n",
    "- arrays are mutable\n",
    "- arrays index starts from zero\n",
    "\n",
    "#### array syntax\n",
    "```python\n",
    "from array import array\n",
    "arrayIdentifierName = array(typecode, [Initializers])\n",
    "```\n",
    "\n",
    "typecode | description\n",
    "---------|------------\n",
    "b | signed integer, 1 byte\n",
    "B | unsigned integer, 1 byte\n",
    "u | unsigned integer, 1 byte\n",
    "h | signed integer, 2 bytes\n",
    "H | unsigned integer, 2 bytes\n",
    "i | signed integer, 4 bytes\n",
    "I | unsigned integer, 4 bytes\n",
    "l | signed integer, 4 bytes\n",
    "L | unsigned integer, 4 bytes\n",
    "f | floating point, 4 bytes\n",
    "d | floating point, 8 bytes\n",
    "w | Unicode character,4 bytes\n"
   ]
  },
  {
   "cell_type": "code",
   "execution_count": 1,
   "metadata": {},
   "outputs": [
    {
     "name": "stdout",
     "output_type": "stream",
     "text": [
      "array('i', [1, 2, 3, 4, 5])\n",
      "<class 'array.array'>\n"
     ]
    }
   ],
   "source": [
    "from array import array\n",
    "int_array = array('i', [1, 2, 3, 4, 5])\n",
    "print(int_array)\n",
    "print(type(int_array))"
   ]
  },
  {
   "cell_type": "markdown",
   "metadata": {},
   "source": [
    "### array operations\n",
    "\n",
    "method | description | syntax\n",
    "-------|-------------|--------\n",
    "append | append element to the end of the array | arrayName.append(element)\n",
    "count | count the number of elements with the specified value | arrayName.count(element)\n",
    "extend | extend the array by appending elements from the iterable | arrayName.extend(iterable)\n",
    "index | return the index of the first element with the specified value | arrayName.index(element)\n",
    "insert | insert an element at the specified position | arrayName.insert(index, element)\n",
    "pop | remove and return the element at the specified position | arrayName.pop(index)\n",
    "remove | remove the first element with the specified value | arrayName.remove(element)\n",
    "reverse | reverse the order of the array | arrayName.reverse()\n",
    "sort | sort the array | arrayName.sort()\n",
    "fromlist | add items to array from a list | array.fromlist(list)\n",
    "fromstring | add items to array from a string | array.fromstring(string)\n",
    "tolist | convert array to a list | array.tolist()\n",
    "tostring | convert array to a string | array.tostring()"
   ]
  },
  {
   "cell_type": "markdown",
   "metadata": {},
   "source": [
    "### array slicing\n",
    "\n",
    "- syntax : `arrayName[start:end:step]`"
   ]
  }
 ],
 "metadata": {
  "interpreter": {
   "hash": "e7370f93d1d0cde622a1f8e1c04877d8463912d04d973331ad4851f04de6915a"
  },
  "kernelspec": {
   "display_name": "Python 3.10.2 64-bit",
   "language": "python",
   "name": "python3"
  },
  "language_info": {
   "codemirror_mode": {
    "name": "ipython",
    "version": 3
   },
   "file_extension": ".py",
   "mimetype": "text/x-python",
   "name": "python",
   "nbconvert_exporter": "python",
   "pygments_lexer": "ipython3",
   "version": "3.10.2"
  },
  "orig_nbformat": 4
 },
 "nbformat": 4,
 "nbformat_minor": 2
}
