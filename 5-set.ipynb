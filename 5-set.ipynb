{
 "cells": [
  {
   "cell_type": "markdown",
   "metadata": {},
   "source": [
    "### sets : non-duplicate,immutable,ordered\n"
   ]
  },
  {
   "cell_type": "markdown",
   "metadata": {},
   "source": [
    "set is ordered"
   ]
  },
  {
   "cell_type": "code",
   "execution_count": 27,
   "metadata": {},
   "outputs": [
    {
     "name": "stdout",
     "output_type": "stream",
     "text": [
      "{1, 2, 3, 4, 5}\n"
     ]
    }
   ],
   "source": [
    "setA = {1,2,3,5,4}\n",
    "print(setA)"
   ]
  },
  {
   "cell_type": "code",
   "execution_count": 6,
   "metadata": {},
   "outputs": [
    {
     "name": "stdout",
     "output_type": "stream",
     "text": [
      "{2, 3, 4, 5}\n",
      "{2, 3, 4, 5, 6}\n",
      "{1, 2, 3, 4, 5, 6}\n",
      "{1, 2, 4, 5, 6}\n"
     ]
    }
   ],
   "source": [
    "set_a = {2,3,4,5}\n",
    "print(set_a)\n",
    "set_a.add(6)\n",
    "print(set_a)\n",
    "set_a.add(1)\n",
    "print(set_a)\n",
    "set_a.remove(3)\n",
    "print(set_a)"
   ]
  },
  {
   "cell_type": "markdown",
   "metadata": {},
   "source": [
    "Methods | Operators\n",
    "--- | ---\n",
    "a.intersection(b) | a & b\n",
    "a.union(b) | a \\| b\n",
    "a.difference(b) | a - b\n",
    "a.symmetric_difference(b) | a ^ b\n",
    "a.issubset(b) | a <= b\n",
    "a.issuperset(b) | a >= b\n",
    "a.isdisjoint(b) | a.isdisjoint(b)\n"
   ]
  },
  {
   "cell_type": "code",
   "execution_count": 7,
   "metadata": {},
   "outputs": [
    {
     "name": "stdout",
     "output_type": "stream",
     "text": [
      "{4, 5}\n",
      "{1, 2, 3, 4, 5, 6, 7, 8}\n",
      "{1, 2, 3}\n",
      "{1, 2, 3, 6, 7, 8}\n",
      "False\n",
      "False\n",
      "False\n",
      "set()\n"
     ]
    }
   ],
   "source": [
    "#intersection : find common elements\n",
    "set_1 = {1,2,3,4,5}\n",
    "set_2 = {4,5,6,7,8}\n",
    "print(set_1.intersection(set_2)) # {4, 5}\n",
    "\n",
    "\n",
    "# union : combine elements\n",
    "print(set_1.union(set_2)) # {1, 2, 3, 4, 5, 6, 7, 8}\n",
    "\n",
    "# difference : find elements in set_1 but not in set_2\n",
    "print(set_1.difference(set_2)) # {1, 2, 3}\n",
    "\n",
    "# symmetric_difference : find elements in set_1 or set_2 but not in both\n",
    "print(set_1.symmetric_difference(set_2)) # {1, 2, 3, 6, 7, 8}\n",
    "\n",
    "# issubset : check if all elements in set_1 are in set_2\n",
    "print(set_1.issubset(set_2)) # False\n",
    "\n",
    "# issuperset : check if all elements in set_2 are in set_1\n",
    "print(set_1.issuperset(set_2)) # False\n",
    "\n",
    "# isdisjoint : check if no elements in set_1 are in set_2\n",
    "print(set_1.isdisjoint(set_2)) # False\n",
    "\n",
    "# clear : remove all elements from set\n",
    "set_1.clear()  # set_1 = {}\n",
    "print(set_1)"
   ]
  },
  {
   "cell_type": "markdown",
   "metadata": {},
   "source": [
    "difference betwen set.discard and set.remove\n"
   ]
  },
  {
   "cell_type": "code",
   "execution_count": 9,
   "metadata": {},
   "outputs": [
    {
     "ename": "KeyError",
     "evalue": "3",
     "output_type": "error",
     "traceback": [
      "\u001b[0;31m---------------------------------------------------------------------------\u001b[0m",
      "\u001b[0;31mKeyError\u001b[0m                                  Traceback (most recent call last)",
      "\u001b[1;32m/home/san/Public/project LTS/python-learn/5-set.ipynb Cell 5'\u001b[0m in \u001b[0;36m<cell line: 9>\u001b[0;34m()\u001b[0m\n\u001b[1;32m      <a href='vscode-notebook-cell:/home/san/Public/project%20LTS/python-learn/5-set.ipynb#ch0000004?line=6'>7</a>\u001b[0m set_1 \u001b[39m=\u001b[39m {\u001b[39m1\u001b[39m,\u001b[39m2\u001b[39m,\u001b[39m3\u001b[39m,\u001b[39m4\u001b[39m,\u001b[39m5\u001b[39m}\n\u001b[1;32m      <a href='vscode-notebook-cell:/home/san/Public/project%20LTS/python-learn/5-set.ipynb#ch0000004?line=7'>8</a>\u001b[0m set_1\u001b[39m.\u001b[39mremove(\u001b[39m3\u001b[39m)\n\u001b[0;32m----> <a href='vscode-notebook-cell:/home/san/Public/project%20LTS/python-learn/5-set.ipynb#ch0000004?line=8'>9</a>\u001b[0m set_1\u001b[39m.\u001b[39;49mremove(\u001b[39m3\u001b[39;49m)\n",
      "\u001b[0;31mKeyError\u001b[0m: 3"
     ]
    }
   ],
   "source": [
    "#discard : remove element from set\n",
    "set_1 = {1,2,3,4,5}\n",
    "set_1.discard(3)\n",
    "set_1.discard(3)        # no error\n",
    "\n",
    "# remove : remove element from set\n",
    "set_1 = {1,2,3,4,5}\n",
    "set_1.remove(3)\n",
    "set_1.remove(3)       # keyError\n"
   ]
  },
  {
   "cell_type": "markdown",
   "metadata": {},
   "source": [
    "## inplace versions\n",
    "\n",
    "operations return new sets, but have the corresponding in-place versions:"
   ]
  },
  {
   "cell_type": "markdown",
   "metadata": {},
   "source": [
    "**set.update**"
   ]
  },
  {
   "cell_type": "code",
   "execution_count": 12,
   "metadata": {},
   "outputs": [
    {
     "name": "stdout",
     "output_type": "stream",
     "text": [
      "{1, 2, 3, 4, 5, 6, 7, 8}\n",
      "{1, 2, 3, 4, 5, 6, 7, 8}\n"
     ]
    }
   ],
   "source": [
    "#set update : add elements from another set\n",
    "set_1 = {1,2,3,4,5}\n",
    "set_2 = {4,5,6,7,8}\n",
    "set_1.update(set_2)\n",
    "print(set_1)\n",
    "\n",
    "set_1 = {1,2,3,4,5}\n",
    "set_2 = {4,5,6,7,8}\n",
    "set_1 |= set_2\n",
    "print(set_1)"
   ]
  },
  {
   "cell_type": "markdown",
   "metadata": {},
   "source": [
    "method | in-place operator | in-place method\n",
    "--- | --- | ---\n",
    "union | s\\|=t | s.update(t)\n",
    "intersection | s&=t | s.intersection_update(t)\n",
    "difference | s-=t | s.difference_update(t)\n",
    "symmetric difference | s^=t | s.symmetric_difference_update(t)\n"
   ]
  },
  {
   "cell_type": "markdown",
   "metadata": {},
   "source": [
    "### sets of sets\n",
    "- leads to TypeError: unhashable type: 'set'\n",
    "- insted use frozenset"
   ]
  },
  {
   "cell_type": "code",
   "execution_count": 21,
   "metadata": {},
   "outputs": [
    {
     "ename": "TypeError",
     "evalue": "unhashable type: 'set'",
     "output_type": "error",
     "traceback": [
      "\u001b[0;31m---------------------------------------------------------------------------\u001b[0m",
      "\u001b[0;31mTypeError\u001b[0m                                 Traceback (most recent call last)",
      "\u001b[1;32m/home/san/Public/project LTS/python-learn/5-set.ipynb Cell 11'\u001b[0m in \u001b[0;36m<cell line: 1>\u001b[0;34m()\u001b[0m\n\u001b[0;32m----> <a href='vscode-notebook-cell:/home/san/Public/project%20LTS/python-learn/5-set.ipynb#ch0000011?line=0'>1</a>\u001b[0m {{\u001b[39m1\u001b[39m,\u001b[39m2\u001b[39m,\u001b[39m3\u001b[39m,} , {\u001b[39m4\u001b[39m,\u001b[39m5\u001b[39m}}\n",
      "\u001b[0;31mTypeError\u001b[0m: unhashable type: 'set'"
     ]
    }
   ],
   "source": [
    "{{1,2,3,} , {4,5}}"
   ]
  },
  {
   "cell_type": "code",
   "execution_count": 23,
   "metadata": {},
   "outputs": [
    {
     "data": {
      "text/plain": [
       "{frozenset({3, 4}), frozenset({1, 2})}"
      ]
     },
     "execution_count": 23,
     "metadata": {},
     "output_type": "execute_result"
    }
   ],
   "source": [
    "{frozenset({1, 2}), frozenset({3, 4})}"
   ]
  },
  {
   "cell_type": "code",
   "execution_count": 25,
   "metadata": {},
   "outputs": [
    {
     "name": "stdout",
     "output_type": "stream",
     "text": [
      "Counter({'a': 5, 'b': 2, 'r': 2, 'c': 1, 'd': 1})\n"
     ]
    }
   ],
   "source": [
    "# multisets\n",
    "from collections import Counter\n",
    "a = Counter('abracadabra')\n",
    "\n",
    "print(a)\n"
   ]
  }
 ],
 "metadata": {
  "interpreter": {
   "hash": "d2152fd7f0bbc62aa1baff8c990435d1e2c7175d001561303988032604c11a48"
  },
  "kernelspec": {
   "display_name": "Python 3.10.2 64-bit",
   "language": "python",
   "name": "python3"
  },
  "language_info": {
   "codemirror_mode": {
    "name": "ipython",
    "version": 3
   },
   "file_extension": ".py",
   "mimetype": "text/x-python",
   "name": "python",
   "nbconvert_exporter": "python",
   "pygments_lexer": "ipython3",
   "version": "3.10.2"
  },
  "orig_nbformat": 4
 },
 "nbformat": 4,
 "nbformat_minor": 2
}
